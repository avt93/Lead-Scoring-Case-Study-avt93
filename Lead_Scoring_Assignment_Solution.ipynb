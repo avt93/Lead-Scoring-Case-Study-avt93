{
 "cells": [
  {
   "cell_type": "markdown",
   "id": "e34f70da",
   "metadata": {},
   "source": [
    "## 1. Reading and Understanding the Data"
   ]
  },
  {
   "cell_type": "markdown",
   "id": "b80c8ce5",
   "metadata": {},
   "source": [
    "### Importing all required packages"
   ]
  },
  {
   "cell_type": "code",
   "execution_count": 1,
   "id": "95124898",
   "metadata": {},
   "outputs": [],
   "source": [
    "import numpy as np\n",
    "import pandas as pd\n",
    "import matplotlib.pyplot as plt\n",
    "import seaborn as sns\n",
    "import warnings\n",
    "warnings.filterwarnings('ignore')\n",
    "%matplotlib inline\n"
   ]
  },
  {
   "cell_type": "markdown",
   "id": "eebd8be8",
   "metadata": {},
   "source": [
    "\n",
    "### Loading the data and examining it"
   ]
  },
  {
   "cell_type": "code",
   "execution_count": 2,
   "id": "4b8148c2",
   "metadata": {},
   "outputs": [],
   "source": [
    "Leads = pd.read_csv(\"Leads.csv\")"
   ]
  },
  {
   "cell_type": "code",
   "execution_count": 3,
   "id": "63557da9",
   "metadata": {},
   "outputs": [
    {
     "data": {
      "text/html": [
       "<div>\n",
       "<style scoped>\n",
       "    .dataframe tbody tr th:only-of-type {\n",
       "        vertical-align: middle;\n",
       "    }\n",
       "\n",
       "    .dataframe tbody tr th {\n",
       "        vertical-align: top;\n",
       "    }\n",
       "\n",
       "    .dataframe thead th {\n",
       "        text-align: right;\n",
       "    }\n",
       "</style>\n",
       "<table border=\"1\" class=\"dataframe\">\n",
       "  <thead>\n",
       "    <tr style=\"text-align: right;\">\n",
       "      <th></th>\n",
       "      <th>Prospect ID</th>\n",
       "      <th>Lead Number</th>\n",
       "      <th>Lead Origin</th>\n",
       "      <th>Lead Source</th>\n",
       "      <th>Do Not Email</th>\n",
       "      <th>Do Not Call</th>\n",
       "      <th>Converted</th>\n",
       "      <th>TotalVisits</th>\n",
       "      <th>Total Time Spent on Website</th>\n",
       "      <th>Page Views Per Visit</th>\n",
       "      <th>...</th>\n",
       "      <th>Get updates on DM Content</th>\n",
       "      <th>Lead Profile</th>\n",
       "      <th>City</th>\n",
       "      <th>Asymmetrique Activity Index</th>\n",
       "      <th>Asymmetrique Profile Index</th>\n",
       "      <th>Asymmetrique Activity Score</th>\n",
       "      <th>Asymmetrique Profile Score</th>\n",
       "      <th>I agree to pay the amount through cheque</th>\n",
       "      <th>A free copy of Mastering The Interview</th>\n",
       "      <th>Last Notable Activity</th>\n",
       "    </tr>\n",
       "  </thead>\n",
       "  <tbody>\n",
       "    <tr>\n",
       "      <th>0</th>\n",
       "      <td>7927b2df-8bba-4d29-b9a2-b6e0beafe620</td>\n",
       "      <td>660737</td>\n",
       "      <td>API</td>\n",
       "      <td>Olark Chat</td>\n",
       "      <td>No</td>\n",
       "      <td>No</td>\n",
       "      <td>0</td>\n",
       "      <td>0.0</td>\n",
       "      <td>0</td>\n",
       "      <td>0.0</td>\n",
       "      <td>...</td>\n",
       "      <td>No</td>\n",
       "      <td>Select</td>\n",
       "      <td>Select</td>\n",
       "      <td>02.Medium</td>\n",
       "      <td>02.Medium</td>\n",
       "      <td>15.0</td>\n",
       "      <td>15.0</td>\n",
       "      <td>No</td>\n",
       "      <td>No</td>\n",
       "      <td>Modified</td>\n",
       "    </tr>\n",
       "    <tr>\n",
       "      <th>1</th>\n",
       "      <td>2a272436-5132-4136-86fa-dcc88c88f482</td>\n",
       "      <td>660728</td>\n",
       "      <td>API</td>\n",
       "      <td>Organic Search</td>\n",
       "      <td>No</td>\n",
       "      <td>No</td>\n",
       "      <td>0</td>\n",
       "      <td>5.0</td>\n",
       "      <td>674</td>\n",
       "      <td>2.5</td>\n",
       "      <td>...</td>\n",
       "      <td>No</td>\n",
       "      <td>Select</td>\n",
       "      <td>Select</td>\n",
       "      <td>02.Medium</td>\n",
       "      <td>02.Medium</td>\n",
       "      <td>15.0</td>\n",
       "      <td>15.0</td>\n",
       "      <td>No</td>\n",
       "      <td>No</td>\n",
       "      <td>Email Opened</td>\n",
       "    </tr>\n",
       "    <tr>\n",
       "      <th>2</th>\n",
       "      <td>8cc8c611-a219-4f35-ad23-fdfd2656bd8a</td>\n",
       "      <td>660727</td>\n",
       "      <td>Landing Page Submission</td>\n",
       "      <td>Direct Traffic</td>\n",
       "      <td>No</td>\n",
       "      <td>No</td>\n",
       "      <td>1</td>\n",
       "      <td>2.0</td>\n",
       "      <td>1532</td>\n",
       "      <td>2.0</td>\n",
       "      <td>...</td>\n",
       "      <td>No</td>\n",
       "      <td>Potential Lead</td>\n",
       "      <td>Mumbai</td>\n",
       "      <td>02.Medium</td>\n",
       "      <td>01.High</td>\n",
       "      <td>14.0</td>\n",
       "      <td>20.0</td>\n",
       "      <td>No</td>\n",
       "      <td>Yes</td>\n",
       "      <td>Email Opened</td>\n",
       "    </tr>\n",
       "    <tr>\n",
       "      <th>3</th>\n",
       "      <td>0cc2df48-7cf4-4e39-9de9-19797f9b38cc</td>\n",
       "      <td>660719</td>\n",
       "      <td>Landing Page Submission</td>\n",
       "      <td>Direct Traffic</td>\n",
       "      <td>No</td>\n",
       "      <td>No</td>\n",
       "      <td>0</td>\n",
       "      <td>1.0</td>\n",
       "      <td>305</td>\n",
       "      <td>1.0</td>\n",
       "      <td>...</td>\n",
       "      <td>No</td>\n",
       "      <td>Select</td>\n",
       "      <td>Mumbai</td>\n",
       "      <td>02.Medium</td>\n",
       "      <td>01.High</td>\n",
       "      <td>13.0</td>\n",
       "      <td>17.0</td>\n",
       "      <td>No</td>\n",
       "      <td>No</td>\n",
       "      <td>Modified</td>\n",
       "    </tr>\n",
       "    <tr>\n",
       "      <th>4</th>\n",
       "      <td>3256f628-e534-4826-9d63-4a8b88782852</td>\n",
       "      <td>660681</td>\n",
       "      <td>Landing Page Submission</td>\n",
       "      <td>Google</td>\n",
       "      <td>No</td>\n",
       "      <td>No</td>\n",
       "      <td>1</td>\n",
       "      <td>2.0</td>\n",
       "      <td>1428</td>\n",
       "      <td>1.0</td>\n",
       "      <td>...</td>\n",
       "      <td>No</td>\n",
       "      <td>Select</td>\n",
       "      <td>Mumbai</td>\n",
       "      <td>02.Medium</td>\n",
       "      <td>01.High</td>\n",
       "      <td>15.0</td>\n",
       "      <td>18.0</td>\n",
       "      <td>No</td>\n",
       "      <td>No</td>\n",
       "      <td>Modified</td>\n",
       "    </tr>\n",
       "  </tbody>\n",
       "</table>\n",
       "<p>5 rows × 37 columns</p>\n",
       "</div>"
      ],
      "text/plain": [
       "                            Prospect ID  Lead Number              Lead Origin  \\\n",
       "0  7927b2df-8bba-4d29-b9a2-b6e0beafe620       660737                      API   \n",
       "1  2a272436-5132-4136-86fa-dcc88c88f482       660728                      API   \n",
       "2  8cc8c611-a219-4f35-ad23-fdfd2656bd8a       660727  Landing Page Submission   \n",
       "3  0cc2df48-7cf4-4e39-9de9-19797f9b38cc       660719  Landing Page Submission   \n",
       "4  3256f628-e534-4826-9d63-4a8b88782852       660681  Landing Page Submission   \n",
       "\n",
       "      Lead Source Do Not Email Do Not Call  Converted  TotalVisits  \\\n",
       "0      Olark Chat           No          No          0          0.0   \n",
       "1  Organic Search           No          No          0          5.0   \n",
       "2  Direct Traffic           No          No          1          2.0   \n",
       "3  Direct Traffic           No          No          0          1.0   \n",
       "4          Google           No          No          1          2.0   \n",
       "\n",
       "   Total Time Spent on Website  Page Views Per Visit  ...  \\\n",
       "0                            0                   0.0  ...   \n",
       "1                          674                   2.5  ...   \n",
       "2                         1532                   2.0  ...   \n",
       "3                          305                   1.0  ...   \n",
       "4                         1428                   1.0  ...   \n",
       "\n",
       "  Get updates on DM Content    Lead Profile    City  \\\n",
       "0                        No          Select  Select   \n",
       "1                        No          Select  Select   \n",
       "2                        No  Potential Lead  Mumbai   \n",
       "3                        No          Select  Mumbai   \n",
       "4                        No          Select  Mumbai   \n",
       "\n",
       "  Asymmetrique Activity Index Asymmetrique Profile Index  \\\n",
       "0                   02.Medium                  02.Medium   \n",
       "1                   02.Medium                  02.Medium   \n",
       "2                   02.Medium                    01.High   \n",
       "3                   02.Medium                    01.High   \n",
       "4                   02.Medium                    01.High   \n",
       "\n",
       "  Asymmetrique Activity Score Asymmetrique Profile Score  \\\n",
       "0                        15.0                       15.0   \n",
       "1                        15.0                       15.0   \n",
       "2                        14.0                       20.0   \n",
       "3                        13.0                       17.0   \n",
       "4                        15.0                       18.0   \n",
       "\n",
       "  I agree to pay the amount through cheque  \\\n",
       "0                                       No   \n",
       "1                                       No   \n",
       "2                                       No   \n",
       "3                                       No   \n",
       "4                                       No   \n",
       "\n",
       "  A free copy of Mastering The Interview Last Notable Activity  \n",
       "0                                     No              Modified  \n",
       "1                                     No          Email Opened  \n",
       "2                                    Yes          Email Opened  \n",
       "3                                     No              Modified  \n",
       "4                                     No              Modified  \n",
       "\n",
       "[5 rows x 37 columns]"
      ]
     },
     "execution_count": 3,
     "metadata": {},
     "output_type": "execute_result"
    }
   ],
   "source": [
    "Leads.head()"
   ]
  },
  {
   "cell_type": "code",
   "execution_count": 4,
   "id": "814ac4b4",
   "metadata": {},
   "outputs": [
    {
     "data": {
      "text/plain": [
       "341880"
      ]
     },
     "execution_count": 4,
     "metadata": {},
     "output_type": "execute_result"
    }
   ],
   "source": [
    "Leads.size"
   ]
  },
  {
   "cell_type": "code",
   "execution_count": 5,
   "id": "612ebb8c",
   "metadata": {},
   "outputs": [
    {
     "data": {
      "text/plain": [
       "(9240, 37)"
      ]
     },
     "execution_count": 5,
     "metadata": {},
     "output_type": "execute_result"
    }
   ],
   "source": [
    "Leads.shape"
   ]
  },
  {
   "cell_type": "markdown",
   "id": "745afbac",
   "metadata": {},
   "source": [
    "## 2. Data Cleaning"
   ]
  },
  {
   "cell_type": "markdown",
   "id": "a4f5cb16",
   "metadata": {},
   "source": [
    "### Dealing with 'Yes','No' and 'Select'\n",
    "\n",
    "Looking at the data we see there are alot of Yes/No columns that can be converted to 0,1. Apart from this there are a number of values that say 'Select'. The assumption here is that we don't have this data but the users might be able to select a value for them. \n",
    "Let us replace 'Select' will Null vales"
   ]
  },
  {
   "cell_type": "code",
   "execution_count": 6,
   "id": "6cc12be3",
   "metadata": {},
   "outputs": [],
   "source": [
    "for x in Leads.columns:\n",
    "    Leads = Leads.replace({x: {'Yes': 1, 'No': 0, 'Select': np.nan}})"
   ]
  },
  {
   "cell_type": "code",
   "execution_count": 7,
   "id": "462addab",
   "metadata": {},
   "outputs": [
    {
     "data": {
      "text/html": [
       "<div>\n",
       "<style scoped>\n",
       "    .dataframe tbody tr th:only-of-type {\n",
       "        vertical-align: middle;\n",
       "    }\n",
       "\n",
       "    .dataframe tbody tr th {\n",
       "        vertical-align: top;\n",
       "    }\n",
       "\n",
       "    .dataframe thead th {\n",
       "        text-align: right;\n",
       "    }\n",
       "</style>\n",
       "<table border=\"1\" class=\"dataframe\">\n",
       "  <thead>\n",
       "    <tr style=\"text-align: right;\">\n",
       "      <th></th>\n",
       "      <th>Prospect ID</th>\n",
       "      <th>Lead Number</th>\n",
       "      <th>Lead Origin</th>\n",
       "      <th>Lead Source</th>\n",
       "      <th>Do Not Email</th>\n",
       "      <th>Do Not Call</th>\n",
       "      <th>Converted</th>\n",
       "      <th>TotalVisits</th>\n",
       "      <th>Total Time Spent on Website</th>\n",
       "      <th>Page Views Per Visit</th>\n",
       "      <th>...</th>\n",
       "      <th>Get updates on DM Content</th>\n",
       "      <th>Lead Profile</th>\n",
       "      <th>City</th>\n",
       "      <th>Asymmetrique Activity Index</th>\n",
       "      <th>Asymmetrique Profile Index</th>\n",
       "      <th>Asymmetrique Activity Score</th>\n",
       "      <th>Asymmetrique Profile Score</th>\n",
       "      <th>I agree to pay the amount through cheque</th>\n",
       "      <th>A free copy of Mastering The Interview</th>\n",
       "      <th>Last Notable Activity</th>\n",
       "    </tr>\n",
       "  </thead>\n",
       "  <tbody>\n",
       "    <tr>\n",
       "      <th>0</th>\n",
       "      <td>7927b2df-8bba-4d29-b9a2-b6e0beafe620</td>\n",
       "      <td>660737</td>\n",
       "      <td>API</td>\n",
       "      <td>Olark Chat</td>\n",
       "      <td>0</td>\n",
       "      <td>0</td>\n",
       "      <td>0</td>\n",
       "      <td>0.0</td>\n",
       "      <td>0</td>\n",
       "      <td>0.0</td>\n",
       "      <td>...</td>\n",
       "      <td>0</td>\n",
       "      <td>NaN</td>\n",
       "      <td>NaN</td>\n",
       "      <td>02.Medium</td>\n",
       "      <td>02.Medium</td>\n",
       "      <td>15.0</td>\n",
       "      <td>15.0</td>\n",
       "      <td>0</td>\n",
       "      <td>0</td>\n",
       "      <td>Modified</td>\n",
       "    </tr>\n",
       "    <tr>\n",
       "      <th>1</th>\n",
       "      <td>2a272436-5132-4136-86fa-dcc88c88f482</td>\n",
       "      <td>660728</td>\n",
       "      <td>API</td>\n",
       "      <td>Organic Search</td>\n",
       "      <td>0</td>\n",
       "      <td>0</td>\n",
       "      <td>0</td>\n",
       "      <td>5.0</td>\n",
       "      <td>674</td>\n",
       "      <td>2.5</td>\n",
       "      <td>...</td>\n",
       "      <td>0</td>\n",
       "      <td>NaN</td>\n",
       "      <td>NaN</td>\n",
       "      <td>02.Medium</td>\n",
       "      <td>02.Medium</td>\n",
       "      <td>15.0</td>\n",
       "      <td>15.0</td>\n",
       "      <td>0</td>\n",
       "      <td>0</td>\n",
       "      <td>Email Opened</td>\n",
       "    </tr>\n",
       "    <tr>\n",
       "      <th>2</th>\n",
       "      <td>8cc8c611-a219-4f35-ad23-fdfd2656bd8a</td>\n",
       "      <td>660727</td>\n",
       "      <td>Landing Page Submission</td>\n",
       "      <td>Direct Traffic</td>\n",
       "      <td>0</td>\n",
       "      <td>0</td>\n",
       "      <td>1</td>\n",
       "      <td>2.0</td>\n",
       "      <td>1532</td>\n",
       "      <td>2.0</td>\n",
       "      <td>...</td>\n",
       "      <td>0</td>\n",
       "      <td>Potential Lead</td>\n",
       "      <td>Mumbai</td>\n",
       "      <td>02.Medium</td>\n",
       "      <td>01.High</td>\n",
       "      <td>14.0</td>\n",
       "      <td>20.0</td>\n",
       "      <td>0</td>\n",
       "      <td>1</td>\n",
       "      <td>Email Opened</td>\n",
       "    </tr>\n",
       "    <tr>\n",
       "      <th>3</th>\n",
       "      <td>0cc2df48-7cf4-4e39-9de9-19797f9b38cc</td>\n",
       "      <td>660719</td>\n",
       "      <td>Landing Page Submission</td>\n",
       "      <td>Direct Traffic</td>\n",
       "      <td>0</td>\n",
       "      <td>0</td>\n",
       "      <td>0</td>\n",
       "      <td>1.0</td>\n",
       "      <td>305</td>\n",
       "      <td>1.0</td>\n",
       "      <td>...</td>\n",
       "      <td>0</td>\n",
       "      <td>NaN</td>\n",
       "      <td>Mumbai</td>\n",
       "      <td>02.Medium</td>\n",
       "      <td>01.High</td>\n",
       "      <td>13.0</td>\n",
       "      <td>17.0</td>\n",
       "      <td>0</td>\n",
       "      <td>0</td>\n",
       "      <td>Modified</td>\n",
       "    </tr>\n",
       "    <tr>\n",
       "      <th>4</th>\n",
       "      <td>3256f628-e534-4826-9d63-4a8b88782852</td>\n",
       "      <td>660681</td>\n",
       "      <td>Landing Page Submission</td>\n",
       "      <td>Google</td>\n",
       "      <td>0</td>\n",
       "      <td>0</td>\n",
       "      <td>1</td>\n",
       "      <td>2.0</td>\n",
       "      <td>1428</td>\n",
       "      <td>1.0</td>\n",
       "      <td>...</td>\n",
       "      <td>0</td>\n",
       "      <td>NaN</td>\n",
       "      <td>Mumbai</td>\n",
       "      <td>02.Medium</td>\n",
       "      <td>01.High</td>\n",
       "      <td>15.0</td>\n",
       "      <td>18.0</td>\n",
       "      <td>0</td>\n",
       "      <td>0</td>\n",
       "      <td>Modified</td>\n",
       "    </tr>\n",
       "  </tbody>\n",
       "</table>\n",
       "<p>5 rows × 37 columns</p>\n",
       "</div>"
      ],
      "text/plain": [
       "                            Prospect ID  Lead Number              Lead Origin  \\\n",
       "0  7927b2df-8bba-4d29-b9a2-b6e0beafe620       660737                      API   \n",
       "1  2a272436-5132-4136-86fa-dcc88c88f482       660728                      API   \n",
       "2  8cc8c611-a219-4f35-ad23-fdfd2656bd8a       660727  Landing Page Submission   \n",
       "3  0cc2df48-7cf4-4e39-9de9-19797f9b38cc       660719  Landing Page Submission   \n",
       "4  3256f628-e534-4826-9d63-4a8b88782852       660681  Landing Page Submission   \n",
       "\n",
       "      Lead Source  Do Not Email  Do Not Call  Converted  TotalVisits  \\\n",
       "0      Olark Chat             0            0          0          0.0   \n",
       "1  Organic Search             0            0          0          5.0   \n",
       "2  Direct Traffic             0            0          1          2.0   \n",
       "3  Direct Traffic             0            0          0          1.0   \n",
       "4          Google             0            0          1          2.0   \n",
       "\n",
       "   Total Time Spent on Website  Page Views Per Visit  ...  \\\n",
       "0                            0                   0.0  ...   \n",
       "1                          674                   2.5  ...   \n",
       "2                         1532                   2.0  ...   \n",
       "3                          305                   1.0  ...   \n",
       "4                         1428                   1.0  ...   \n",
       "\n",
       "  Get updates on DM Content    Lead Profile    City  \\\n",
       "0                         0             NaN     NaN   \n",
       "1                         0             NaN     NaN   \n",
       "2                         0  Potential Lead  Mumbai   \n",
       "3                         0             NaN  Mumbai   \n",
       "4                         0             NaN  Mumbai   \n",
       "\n",
       "  Asymmetrique Activity Index Asymmetrique Profile Index  \\\n",
       "0                   02.Medium                  02.Medium   \n",
       "1                   02.Medium                  02.Medium   \n",
       "2                   02.Medium                    01.High   \n",
       "3                   02.Medium                    01.High   \n",
       "4                   02.Medium                    01.High   \n",
       "\n",
       "  Asymmetrique Activity Score  Asymmetrique Profile Score  \\\n",
       "0                        15.0                        15.0   \n",
       "1                        15.0                        15.0   \n",
       "2                        14.0                        20.0   \n",
       "3                        13.0                        17.0   \n",
       "4                        15.0                        18.0   \n",
       "\n",
       "   I agree to pay the amount through cheque  \\\n",
       "0                                         0   \n",
       "1                                         0   \n",
       "2                                         0   \n",
       "3                                         0   \n",
       "4                                         0   \n",
       "\n",
       "   A free copy of Mastering The Interview  Last Notable Activity  \n",
       "0                                       0               Modified  \n",
       "1                                       0           Email Opened  \n",
       "2                                       1           Email Opened  \n",
       "3                                       0               Modified  \n",
       "4                                       0               Modified  \n",
       "\n",
       "[5 rows x 37 columns]"
      ]
     },
     "execution_count": 7,
     "metadata": {},
     "output_type": "execute_result"
    }
   ],
   "source": [
    "Leads.head()"
   ]
  },
  {
   "cell_type": "code",
   "execution_count": 8,
   "id": "17b0b559",
   "metadata": {},
   "outputs": [
    {
     "name": "stdout",
     "output_type": "stream",
     "text": [
      "<class 'pandas.core.frame.DataFrame'>\n",
      "RangeIndex: 9240 entries, 0 to 9239\n",
      "Data columns (total 37 columns):\n",
      " #   Column                                         Non-Null Count  Dtype  \n",
      "---  ------                                         --------------  -----  \n",
      " 0   Prospect ID                                    9240 non-null   object \n",
      " 1   Lead Number                                    9240 non-null   int64  \n",
      " 2   Lead Origin                                    9240 non-null   object \n",
      " 3   Lead Source                                    9204 non-null   object \n",
      " 4   Do Not Email                                   9240 non-null   int64  \n",
      " 5   Do Not Call                                    9240 non-null   int64  \n",
      " 6   Converted                                      9240 non-null   int64  \n",
      " 7   TotalVisits                                    9103 non-null   float64\n",
      " 8   Total Time Spent on Website                    9240 non-null   int64  \n",
      " 9   Page Views Per Visit                           9103 non-null   float64\n",
      " 10  Last Activity                                  9137 non-null   object \n",
      " 11  Country                                        6779 non-null   object \n",
      " 12  Specialization                                 5860 non-null   object \n",
      " 13  How did you hear about X Education             1990 non-null   object \n",
      " 14  What is your current occupation                6550 non-null   object \n",
      " 15  What matters most to you in choosing a course  6531 non-null   object \n",
      " 16  Search                                         9240 non-null   int64  \n",
      " 17  Magazine                                       9240 non-null   int64  \n",
      " 18  Newspaper Article                              9240 non-null   int64  \n",
      " 19  X Education Forums                             9240 non-null   int64  \n",
      " 20  Newspaper                                      9240 non-null   int64  \n",
      " 21  Digital Advertisement                          9240 non-null   int64  \n",
      " 22  Through Recommendations                        9240 non-null   int64  \n",
      " 23  Receive More Updates About Our Courses         9240 non-null   int64  \n",
      " 24  Tags                                           5887 non-null   object \n",
      " 25  Lead Quality                                   4473 non-null   object \n",
      " 26  Update me on Supply Chain Content              9240 non-null   int64  \n",
      " 27  Get updates on DM Content                      9240 non-null   int64  \n",
      " 28  Lead Profile                                   2385 non-null   object \n",
      " 29  City                                           5571 non-null   object \n",
      " 30  Asymmetrique Activity Index                    5022 non-null   object \n",
      " 31  Asymmetrique Profile Index                     5022 non-null   object \n",
      " 32  Asymmetrique Activity Score                    5022 non-null   float64\n",
      " 33  Asymmetrique Profile Score                     5022 non-null   float64\n",
      " 34  I agree to pay the amount through cheque       9240 non-null   int64  \n",
      " 35  A free copy of Mastering The Interview         9240 non-null   int64  \n",
      " 36  Last Notable Activity                          9240 non-null   object \n",
      "dtypes: float64(4), int64(17), object(16)\n",
      "memory usage: 2.6+ MB\n"
     ]
    }
   ],
   "source": [
    "Leads.info()"
   ]
  },
  {
   "cell_type": "markdown",
   "id": "329c44dd",
   "metadata": {},
   "source": [
    "## HANDLING MISSING VALUES\n",
    "### Identifying the percentage of Null values in each column\n",
    "Here we also sort the data in decending order so that we get the columns with maximum null values at the top. "
   ]
  },
  {
   "cell_type": "code",
   "execution_count": 9,
   "id": "436453b3",
   "metadata": {},
   "outputs": [
    {
     "data": {
      "text/plain": [
       "How did you hear about X Education               78.463203\n",
       "Lead Profile                                     74.188312\n",
       "Lead Quality                                     51.590909\n",
       "Asymmetrique Profile Score                       45.649351\n",
       "Asymmetrique Activity Score                      45.649351\n",
       "Asymmetrique Activity Index                      45.649351\n",
       "Asymmetrique Profile Index                       45.649351\n",
       "City                                             39.707792\n",
       "Specialization                                   36.580087\n",
       "Tags                                             36.287879\n",
       "What matters most to you in choosing a course    29.318182\n",
       "What is your current occupation                  29.112554\n",
       "Country                                          26.634199\n",
       "Page Views Per Visit                              1.482684\n",
       "TotalVisits                                       1.482684\n",
       "Last Activity                                     1.114719\n",
       "Lead Source                                       0.389610\n",
       "Receive More Updates About Our Courses            0.000000\n",
       "I agree to pay the amount through cheque          0.000000\n",
       "Get updates on DM Content                         0.000000\n",
       "Update me on Supply Chain Content                 0.000000\n",
       "A free copy of Mastering The Interview            0.000000\n",
       "Prospect ID                                       0.000000\n",
       "Newspaper Article                                 0.000000\n",
       "Through Recommendations                           0.000000\n",
       "Digital Advertisement                             0.000000\n",
       "Newspaper                                         0.000000\n",
       "X Education Forums                                0.000000\n",
       "Lead Number                                       0.000000\n",
       "Magazine                                          0.000000\n",
       "Search                                            0.000000\n",
       "Total Time Spent on Website                       0.000000\n",
       "Converted                                         0.000000\n",
       "Do Not Call                                       0.000000\n",
       "Do Not Email                                      0.000000\n",
       "Lead Origin                                       0.000000\n",
       "Last Notable Activity                             0.000000\n",
       "dtype: float64"
      ]
     },
     "execution_count": 9,
     "metadata": {},
     "output_type": "execute_result"
    }
   ],
   "source": [
    "Leads.isna().sum().sort_values(ascending=False)/Leads.shape[0] * 100"
   ]
  },
  {
   "cell_type": "markdown",
   "id": "f762fd05",
   "metadata": {},
   "source": [
    "Saving the result for all the columns in a variable in order to then extract the column names"
   ]
  },
  {
   "cell_type": "code",
   "execution_count": 10,
   "id": "74213181",
   "metadata": {},
   "outputs": [],
   "source": [
    "temp=Leads.isna().sum().sort_values(ascending=False)/Leads.shape[0] * 100"
   ]
  },
  {
   "cell_type": "markdown",
   "id": "129e6fcf",
   "metadata": {},
   "source": [
    "### Assumption - missing value threshold is decided as 30%\n",
    "We need to remove the columns with more than 30% null values. To do that we identify the columns that have less than 30% null values. app_acc_cols is a list of all columns with null values less that 30%"
   ]
  },
  {
   "cell_type": "code",
   "execution_count": 11,
   "id": "2a904e8d",
   "metadata": {},
   "outputs": [],
   "source": [
    "ActualColumns=list(temp[temp<30.00].index)"
   ]
  },
  {
   "cell_type": "code",
   "execution_count": 12,
   "id": "7b1d344f",
   "metadata": {},
   "outputs": [
    {
     "data": {
      "text/plain": [
       "['What matters most to you in choosing a course',\n",
       " 'What is your current occupation',\n",
       " 'Country',\n",
       " 'Page Views Per Visit',\n",
       " 'TotalVisits',\n",
       " 'Last Activity',\n",
       " 'Lead Source',\n",
       " 'Receive More Updates About Our Courses',\n",
       " 'I agree to pay the amount through cheque',\n",
       " 'Get updates on DM Content',\n",
       " 'Update me on Supply Chain Content',\n",
       " 'A free copy of Mastering The Interview',\n",
       " 'Prospect ID',\n",
       " 'Newspaper Article',\n",
       " 'Through Recommendations',\n",
       " 'Digital Advertisement',\n",
       " 'Newspaper',\n",
       " 'X Education Forums',\n",
       " 'Lead Number',\n",
       " 'Magazine',\n",
       " 'Search',\n",
       " 'Total Time Spent on Website',\n",
       " 'Converted',\n",
       " 'Do Not Call',\n",
       " 'Do Not Email',\n",
       " 'Lead Origin',\n",
       " 'Last Notable Activity']"
      ]
     },
     "execution_count": 12,
     "metadata": {},
     "output_type": "execute_result"
    }
   ],
   "source": [
    "ActualColumns"
   ]
  },
  {
   "cell_type": "code",
   "execution_count": 13,
   "id": "31c98a7d",
   "metadata": {},
   "outputs": [
    {
     "data": {
      "text/plain": [
       "27"
      ]
     },
     "execution_count": 13,
     "metadata": {},
     "output_type": "execute_result"
    }
   ],
   "source": [
    "len(ActualColumns)"
   ]
  },
  {
   "cell_type": "markdown",
   "id": "a6b87237",
   "metadata": {},
   "source": [
    "Removing 'Prospect ID' and 'Lead Number' as they are not important to the analysis"
   ]
  },
  {
   "cell_type": "code",
   "execution_count": 14,
   "id": "94207fa2",
   "metadata": {},
   "outputs": [
    {
     "data": {
      "text/plain": [
       "25"
      ]
     },
     "execution_count": 14,
     "metadata": {},
     "output_type": "execute_result"
    }
   ],
   "source": [
    "ActualColumns.remove('Prospect ID')\n",
    "ActualColumns.remove('Lead Number')\n",
    "len(ActualColumns)"
   ]
  },
  {
   "cell_type": "markdown",
   "id": "744fe9e9",
   "metadata": {},
   "source": [
    "### We are now left with 25 columns after removing the columns with missing values and the other two columns"
   ]
  },
  {
   "cell_type": "code",
   "execution_count": 15,
   "id": "fd24bf9a",
   "metadata": {},
   "outputs": [],
   "source": [
    "Leads=Leads[ActualColumns]"
   ]
  },
  {
   "cell_type": "code",
   "execution_count": 16,
   "id": "41b71bc4",
   "metadata": {},
   "outputs": [
    {
     "data": {
      "text/html": [
       "<div>\n",
       "<style scoped>\n",
       "    .dataframe tbody tr th:only-of-type {\n",
       "        vertical-align: middle;\n",
       "    }\n",
       "\n",
       "    .dataframe tbody tr th {\n",
       "        vertical-align: top;\n",
       "    }\n",
       "\n",
       "    .dataframe thead th {\n",
       "        text-align: right;\n",
       "    }\n",
       "</style>\n",
       "<table border=\"1\" class=\"dataframe\">\n",
       "  <thead>\n",
       "    <tr style=\"text-align: right;\">\n",
       "      <th></th>\n",
       "      <th>What matters most to you in choosing a course</th>\n",
       "      <th>What is your current occupation</th>\n",
       "      <th>Country</th>\n",
       "      <th>Page Views Per Visit</th>\n",
       "      <th>TotalVisits</th>\n",
       "      <th>Last Activity</th>\n",
       "      <th>Lead Source</th>\n",
       "      <th>Receive More Updates About Our Courses</th>\n",
       "      <th>I agree to pay the amount through cheque</th>\n",
       "      <th>Get updates on DM Content</th>\n",
       "      <th>...</th>\n",
       "      <th>Newspaper</th>\n",
       "      <th>X Education Forums</th>\n",
       "      <th>Magazine</th>\n",
       "      <th>Search</th>\n",
       "      <th>Total Time Spent on Website</th>\n",
       "      <th>Converted</th>\n",
       "      <th>Do Not Call</th>\n",
       "      <th>Do Not Email</th>\n",
       "      <th>Lead Origin</th>\n",
       "      <th>Last Notable Activity</th>\n",
       "    </tr>\n",
       "  </thead>\n",
       "  <tbody>\n",
       "    <tr>\n",
       "      <th>0</th>\n",
       "      <td>Better Career Prospects</td>\n",
       "      <td>Unemployed</td>\n",
       "      <td>NaN</td>\n",
       "      <td>0.0</td>\n",
       "      <td>0.0</td>\n",
       "      <td>Page Visited on Website</td>\n",
       "      <td>Olark Chat</td>\n",
       "      <td>0</td>\n",
       "      <td>0</td>\n",
       "      <td>0</td>\n",
       "      <td>...</td>\n",
       "      <td>0</td>\n",
       "      <td>0</td>\n",
       "      <td>0</td>\n",
       "      <td>0</td>\n",
       "      <td>0</td>\n",
       "      <td>0</td>\n",
       "      <td>0</td>\n",
       "      <td>0</td>\n",
       "      <td>API</td>\n",
       "      <td>Modified</td>\n",
       "    </tr>\n",
       "    <tr>\n",
       "      <th>1</th>\n",
       "      <td>Better Career Prospects</td>\n",
       "      <td>Unemployed</td>\n",
       "      <td>India</td>\n",
       "      <td>2.5</td>\n",
       "      <td>5.0</td>\n",
       "      <td>Email Opened</td>\n",
       "      <td>Organic Search</td>\n",
       "      <td>0</td>\n",
       "      <td>0</td>\n",
       "      <td>0</td>\n",
       "      <td>...</td>\n",
       "      <td>0</td>\n",
       "      <td>0</td>\n",
       "      <td>0</td>\n",
       "      <td>0</td>\n",
       "      <td>674</td>\n",
       "      <td>0</td>\n",
       "      <td>0</td>\n",
       "      <td>0</td>\n",
       "      <td>API</td>\n",
       "      <td>Email Opened</td>\n",
       "    </tr>\n",
       "    <tr>\n",
       "      <th>2</th>\n",
       "      <td>Better Career Prospects</td>\n",
       "      <td>Student</td>\n",
       "      <td>India</td>\n",
       "      <td>2.0</td>\n",
       "      <td>2.0</td>\n",
       "      <td>Email Opened</td>\n",
       "      <td>Direct Traffic</td>\n",
       "      <td>0</td>\n",
       "      <td>0</td>\n",
       "      <td>0</td>\n",
       "      <td>...</td>\n",
       "      <td>0</td>\n",
       "      <td>0</td>\n",
       "      <td>0</td>\n",
       "      <td>0</td>\n",
       "      <td>1532</td>\n",
       "      <td>1</td>\n",
       "      <td>0</td>\n",
       "      <td>0</td>\n",
       "      <td>Landing Page Submission</td>\n",
       "      <td>Email Opened</td>\n",
       "    </tr>\n",
       "    <tr>\n",
       "      <th>3</th>\n",
       "      <td>Better Career Prospects</td>\n",
       "      <td>Unemployed</td>\n",
       "      <td>India</td>\n",
       "      <td>1.0</td>\n",
       "      <td>1.0</td>\n",
       "      <td>Unreachable</td>\n",
       "      <td>Direct Traffic</td>\n",
       "      <td>0</td>\n",
       "      <td>0</td>\n",
       "      <td>0</td>\n",
       "      <td>...</td>\n",
       "      <td>0</td>\n",
       "      <td>0</td>\n",
       "      <td>0</td>\n",
       "      <td>0</td>\n",
       "      <td>305</td>\n",
       "      <td>0</td>\n",
       "      <td>0</td>\n",
       "      <td>0</td>\n",
       "      <td>Landing Page Submission</td>\n",
       "      <td>Modified</td>\n",
       "    </tr>\n",
       "    <tr>\n",
       "      <th>4</th>\n",
       "      <td>Better Career Prospects</td>\n",
       "      <td>Unemployed</td>\n",
       "      <td>India</td>\n",
       "      <td>1.0</td>\n",
       "      <td>2.0</td>\n",
       "      <td>Converted to Lead</td>\n",
       "      <td>Google</td>\n",
       "      <td>0</td>\n",
       "      <td>0</td>\n",
       "      <td>0</td>\n",
       "      <td>...</td>\n",
       "      <td>0</td>\n",
       "      <td>0</td>\n",
       "      <td>0</td>\n",
       "      <td>0</td>\n",
       "      <td>1428</td>\n",
       "      <td>1</td>\n",
       "      <td>0</td>\n",
       "      <td>0</td>\n",
       "      <td>Landing Page Submission</td>\n",
       "      <td>Modified</td>\n",
       "    </tr>\n",
       "  </tbody>\n",
       "</table>\n",
       "<p>5 rows × 25 columns</p>\n",
       "</div>"
      ],
      "text/plain": [
       "  What matters most to you in choosing a course  \\\n",
       "0                       Better Career Prospects   \n",
       "1                       Better Career Prospects   \n",
       "2                       Better Career Prospects   \n",
       "3                       Better Career Prospects   \n",
       "4                       Better Career Prospects   \n",
       "\n",
       "  What is your current occupation Country  Page Views Per Visit  TotalVisits  \\\n",
       "0                      Unemployed     NaN                   0.0          0.0   \n",
       "1                      Unemployed   India                   2.5          5.0   \n",
       "2                         Student   India                   2.0          2.0   \n",
       "3                      Unemployed   India                   1.0          1.0   \n",
       "4                      Unemployed   India                   1.0          2.0   \n",
       "\n",
       "             Last Activity     Lead Source  \\\n",
       "0  Page Visited on Website      Olark Chat   \n",
       "1             Email Opened  Organic Search   \n",
       "2             Email Opened  Direct Traffic   \n",
       "3              Unreachable  Direct Traffic   \n",
       "4        Converted to Lead          Google   \n",
       "\n",
       "   Receive More Updates About Our Courses  \\\n",
       "0                                       0   \n",
       "1                                       0   \n",
       "2                                       0   \n",
       "3                                       0   \n",
       "4                                       0   \n",
       "\n",
       "   I agree to pay the amount through cheque  Get updates on DM Content  ...  \\\n",
       "0                                         0                          0  ...   \n",
       "1                                         0                          0  ...   \n",
       "2                                         0                          0  ...   \n",
       "3                                         0                          0  ...   \n",
       "4                                         0                          0  ...   \n",
       "\n",
       "   Newspaper  X Education Forums  Magazine  Search  \\\n",
       "0          0                   0         0       0   \n",
       "1          0                   0         0       0   \n",
       "2          0                   0         0       0   \n",
       "3          0                   0         0       0   \n",
       "4          0                   0         0       0   \n",
       "\n",
       "   Total Time Spent on Website  Converted  Do Not Call  Do Not Email  \\\n",
       "0                            0          0            0             0   \n",
       "1                          674          0            0             0   \n",
       "2                         1532          1            0             0   \n",
       "3                          305          0            0             0   \n",
       "4                         1428          1            0             0   \n",
       "\n",
       "               Lead Origin  Last Notable Activity  \n",
       "0                      API               Modified  \n",
       "1                      API           Email Opened  \n",
       "2  Landing Page Submission           Email Opened  \n",
       "3  Landing Page Submission               Modified  \n",
       "4  Landing Page Submission               Modified  \n",
       "\n",
       "[5 rows x 25 columns]"
      ]
     },
     "execution_count": 16,
     "metadata": {},
     "output_type": "execute_result"
    }
   ],
   "source": [
    "Leads.head()"
   ]
  },
  {
   "cell_type": "code",
   "execution_count": 17,
   "id": "af4a3481",
   "metadata": {},
   "outputs": [
    {
     "name": "stdout",
     "output_type": "stream",
     "text": [
      "<class 'pandas.core.frame.DataFrame'>\n",
      "RangeIndex: 9240 entries, 0 to 9239\n",
      "Data columns (total 25 columns):\n",
      " #   Column                                         Non-Null Count  Dtype  \n",
      "---  ------                                         --------------  -----  \n",
      " 0   What matters most to you in choosing a course  6531 non-null   object \n",
      " 1   What is your current occupation                6550 non-null   object \n",
      " 2   Country                                        6779 non-null   object \n",
      " 3   Page Views Per Visit                           9103 non-null   float64\n",
      " 4   TotalVisits                                    9103 non-null   float64\n",
      " 5   Last Activity                                  9137 non-null   object \n",
      " 6   Lead Source                                    9204 non-null   object \n",
      " 7   Receive More Updates About Our Courses         9240 non-null   int64  \n",
      " 8   I agree to pay the amount through cheque       9240 non-null   int64  \n",
      " 9   Get updates on DM Content                      9240 non-null   int64  \n",
      " 10  Update me on Supply Chain Content              9240 non-null   int64  \n",
      " 11  A free copy of Mastering The Interview         9240 non-null   int64  \n",
      " 12  Newspaper Article                              9240 non-null   int64  \n",
      " 13  Through Recommendations                        9240 non-null   int64  \n",
      " 14  Digital Advertisement                          9240 non-null   int64  \n",
      " 15  Newspaper                                      9240 non-null   int64  \n",
      " 16  X Education Forums                             9240 non-null   int64  \n",
      " 17  Magazine                                       9240 non-null   int64  \n",
      " 18  Search                                         9240 non-null   int64  \n",
      " 19  Total Time Spent on Website                    9240 non-null   int64  \n",
      " 20  Converted                                      9240 non-null   int64  \n",
      " 21  Do Not Call                                    9240 non-null   int64  \n",
      " 22  Do Not Email                                   9240 non-null   int64  \n",
      " 23  Lead Origin                                    9240 non-null   object \n",
      " 24  Last Notable Activity                          9240 non-null   object \n",
      "dtypes: float64(2), int64(16), object(7)\n",
      "memory usage: 1.8+ MB\n"
     ]
    }
   ],
   "source": [
    "Leads.info()"
   ]
  },
  {
   "cell_type": "markdown",
   "id": "1d6bb6bf",
   "metadata": {},
   "source": [
    "### Checking for unique values"
   ]
  },
  {
   "cell_type": "code",
   "execution_count": 18,
   "id": "0a2dae13",
   "metadata": {},
   "outputs": [
    {
     "data": {
      "text/plain": [
       "['What matters most to you in choosing a course 3',\n",
       " 'What is your current occupation 6',\n",
       " 'Country 38',\n",
       " 'Page Views Per Visit 114',\n",
       " 'TotalVisits 41',\n",
       " 'Last Activity 17',\n",
       " 'Lead Source 21',\n",
       " 'Receive More Updates About Our Courses 1',\n",
       " 'I agree to pay the amount through cheque 1',\n",
       " 'Get updates on DM Content 1',\n",
       " 'Update me on Supply Chain Content 1',\n",
       " 'A free copy of Mastering The Interview 2',\n",
       " 'Newspaper Article 2',\n",
       " 'Through Recommendations 2',\n",
       " 'Digital Advertisement 2',\n",
       " 'Newspaper 2',\n",
       " 'X Education Forums 2',\n",
       " 'Magazine 1',\n",
       " 'Search 2',\n",
       " 'Total Time Spent on Website 1731',\n",
       " 'Converted 2',\n",
       " 'Do Not Call 2',\n",
       " 'Do Not Email 2',\n",
       " 'Lead Origin 5',\n",
       " 'Last Notable Activity 16']"
      ]
     },
     "execution_count": 18,
     "metadata": {},
     "output_type": "execute_result"
    }
   ],
   "source": [
    "UnqCol=[]\n",
    "for i in Leads.columns:\n",
    "    a= \" \".join([str(i), str(Leads[i].value_counts().size)])\n",
    "    UnqCol.append(a)\n",
    "UnqCol"
   ]
  },
  {
   "cell_type": "code",
   "execution_count": 19,
   "id": "8a96a194",
   "metadata": {},
   "outputs": [
    {
     "data": {
      "text/plain": [
       "0    9239\n",
       "1       1\n",
       "Name: X Education Forums, dtype: int64"
      ]
     },
     "execution_count": 19,
     "metadata": {},
     "output_type": "execute_result"
    }
   ],
   "source": [
    "Leads['X Education Forums'].value_counts()"
   ]
  },
  {
   "cell_type": "code",
   "execution_count": 20,
   "id": "12d9bf2f",
   "metadata": {},
   "outputs": [
    {
     "data": {
      "text/plain": [
       "0    9239\n",
       "1       1\n",
       "Name: Newspaper, dtype: int64"
      ]
     },
     "execution_count": 20,
     "metadata": {},
     "output_type": "execute_result"
    }
   ],
   "source": [
    "Leads.Newspaper.value_counts()"
   ]
  },
  {
   "cell_type": "code",
   "execution_count": 21,
   "id": "e1352bea",
   "metadata": {},
   "outputs": [
    {
     "data": {
      "text/plain": [
       "0    9238\n",
       "1       2\n",
       "Name: Newspaper Article, dtype: int64"
      ]
     },
     "execution_count": 21,
     "metadata": {},
     "output_type": "execute_result"
    }
   ],
   "source": [
    "Leads['Newspaper Article'].value_counts()"
   ]
  },
  {
   "cell_type": "code",
   "execution_count": 22,
   "id": "7928ea8a",
   "metadata": {},
   "outputs": [
    {
     "data": {
      "text/plain": [
       "0    9233\n",
       "1       7\n",
       "Name: Through Recommendations, dtype: int64"
      ]
     },
     "execution_count": 22,
     "metadata": {},
     "output_type": "execute_result"
    }
   ],
   "source": [
    "Leads['Through Recommendations'].value_counts()"
   ]
  },
  {
   "cell_type": "code",
   "execution_count": 23,
   "id": "4a3a4f07",
   "metadata": {},
   "outputs": [
    {
     "data": {
      "text/plain": [
       "0    9236\n",
       "1       4\n",
       "Name: Digital Advertisement, dtype: int64"
      ]
     },
     "execution_count": 23,
     "metadata": {},
     "output_type": "execute_result"
    }
   ],
   "source": [
    "Leads['Digital Advertisement'].value_counts()"
   ]
  },
  {
   "cell_type": "code",
   "execution_count": 24,
   "id": "3a1c1fa2",
   "metadata": {},
   "outputs": [
    {
     "data": {
      "text/plain": [
       "0    9226\n",
       "1      14\n",
       "Name: Search, dtype: int64"
      ]
     },
     "execution_count": 24,
     "metadata": {},
     "output_type": "execute_result"
    }
   ],
   "source": [
    "Leads['Search'].value_counts()"
   ]
  },
  {
   "cell_type": "code",
   "execution_count": 25,
   "id": "f5b88b72",
   "metadata": {},
   "outputs": [
    {
     "data": {
      "text/plain": [
       "0    9238\n",
       "1       2\n",
       "Name: Do Not Call, dtype: int64"
      ]
     },
     "execution_count": 25,
     "metadata": {},
     "output_type": "execute_result"
    }
   ],
   "source": [
    "Leads['Do Not Call'].value_counts()"
   ]
  },
  {
   "cell_type": "code",
   "execution_count": 26,
   "id": "2ea5dde0",
   "metadata": {},
   "outputs": [
    {
     "data": {
      "text/plain": [
       "0    8506\n",
       "1     734\n",
       "Name: Do Not Email, dtype: int64"
      ]
     },
     "execution_count": 26,
     "metadata": {},
     "output_type": "execute_result"
    }
   ],
   "source": [
    "Leads['Do Not Email'].value_counts()"
   ]
  },
  {
   "cell_type": "markdown",
   "id": "6dbcf6c2",
   "metadata": {},
   "source": [
    "We notice that the following columns have only one unique value. Either Yes or No. Also in some cases, the Yes and No ratio is highly skewed. This could be due to unavailability of data for that particular column. These will not matter at all in our analysis, We can remove them\n",
    "\n",
    "['Receive More Updates About Our Courses', 'I agree to pay the amount through cheque', 'Get updates on DM Content', 'Update me on Supply Chain Content', 'Magazine', 'X Education Forums', 'Newspaper', 'Newspaper Article',\n",
    "        'Through Recommendations', 'Digital Advertisement', 'Do Not Call']"
   ]
  },
  {
   "cell_type": "code",
   "execution_count": 27,
   "id": "90a0283a",
   "metadata": {},
   "outputs": [],
   "source": [
    "Remove = ['Receive More Updates About Our Courses', 'I agree to pay the amount through cheque', 'Get updates on DM Content',\n",
    "        'Update me on Supply Chain Content', 'Magazine', 'X Education Forums', 'Newspaper', 'Newspaper Article',\n",
    "        'Through Recommendations', 'Digital Advertisement', 'Do Not Call']"
   ]
  },
  {
   "cell_type": "code",
   "execution_count": 28,
   "id": "5ee10e54",
   "metadata": {},
   "outputs": [],
   "source": [
    "Leads.drop(Remove, axis=1, inplace=True)"
   ]
  },
  {
   "cell_type": "code",
   "execution_count": 29,
   "id": "21399640",
   "metadata": {},
   "outputs": [
    {
     "data": {
      "text/plain": [
       "0       0\n",
       "1     674\n",
       "2    1532\n",
       "3     305\n",
       "4    1428\n",
       "Name: Total Time Spent on Website, dtype: int64"
      ]
     },
     "execution_count": 29,
     "metadata": {},
     "output_type": "execute_result"
    }
   ],
   "source": [
    "Leads['Total Time Spent on Website'].head()"
   ]
  },
  {
   "cell_type": "markdown",
   "id": "ec3de30c",
   "metadata": {},
   "source": [
    "Converting 'Total Time Spent on Website' to float"
   ]
  },
  {
   "cell_type": "code",
   "execution_count": 30,
   "id": "af43124c",
   "metadata": {},
   "outputs": [],
   "source": [
    "Leads['Total Time Spent on Website']=Leads['Total Time Spent on Website'].astype('float64')"
   ]
  },
  {
   "cell_type": "code",
   "execution_count": 31,
   "id": "7b42554b",
   "metadata": {},
   "outputs": [
    {
     "data": {
      "text/plain": [
       "(9240, 14)"
      ]
     },
     "execution_count": 31,
     "metadata": {},
     "output_type": "execute_result"
    }
   ],
   "source": [
    "Leads.shape"
   ]
  },
  {
   "cell_type": "markdown",
   "id": "8a8b6c72",
   "metadata": {},
   "source": [
    "### Looking at columns based on Data Types"
   ]
  },
  {
   "cell_type": "code",
   "execution_count": 32,
   "id": "f0e7d6f5",
   "metadata": {},
   "outputs": [],
   "source": [
    "i64=Leads.dtypes[Leads.dtypes == 'int64'].index\n",
    "f64=Leads.dtypes[Leads.dtypes == 'float64'].index\n",
    "obj=Leads.dtypes[Leads.dtypes == 'object'].index"
   ]
  },
  {
   "cell_type": "markdown",
   "id": "612f3f06",
   "metadata": {},
   "source": [
    "### Integer Columns"
   ]
  },
  {
   "cell_type": "code",
   "execution_count": 33,
   "id": "03e0e710",
   "metadata": {},
   "outputs": [
    {
     "data": {
      "text/html": [
       "<div>\n",
       "<style scoped>\n",
       "    .dataframe tbody tr th:only-of-type {\n",
       "        vertical-align: middle;\n",
       "    }\n",
       "\n",
       "    .dataframe tbody tr th {\n",
       "        vertical-align: top;\n",
       "    }\n",
       "\n",
       "    .dataframe thead th {\n",
       "        text-align: right;\n",
       "    }\n",
       "</style>\n",
       "<table border=\"1\" class=\"dataframe\">\n",
       "  <thead>\n",
       "    <tr style=\"text-align: right;\">\n",
       "      <th></th>\n",
       "      <th>A free copy of Mastering The Interview</th>\n",
       "      <th>Search</th>\n",
       "      <th>Converted</th>\n",
       "      <th>Do Not Email</th>\n",
       "    </tr>\n",
       "  </thead>\n",
       "  <tbody>\n",
       "    <tr>\n",
       "      <th>0</th>\n",
       "      <td>0</td>\n",
       "      <td>0</td>\n",
       "      <td>0</td>\n",
       "      <td>0</td>\n",
       "    </tr>\n",
       "    <tr>\n",
       "      <th>1</th>\n",
       "      <td>0</td>\n",
       "      <td>0</td>\n",
       "      <td>0</td>\n",
       "      <td>0</td>\n",
       "    </tr>\n",
       "    <tr>\n",
       "      <th>2</th>\n",
       "      <td>1</td>\n",
       "      <td>0</td>\n",
       "      <td>1</td>\n",
       "      <td>0</td>\n",
       "    </tr>\n",
       "    <tr>\n",
       "      <th>3</th>\n",
       "      <td>0</td>\n",
       "      <td>0</td>\n",
       "      <td>0</td>\n",
       "      <td>0</td>\n",
       "    </tr>\n",
       "    <tr>\n",
       "      <th>4</th>\n",
       "      <td>0</td>\n",
       "      <td>0</td>\n",
       "      <td>1</td>\n",
       "      <td>0</td>\n",
       "    </tr>\n",
       "    <tr>\n",
       "      <th>...</th>\n",
       "      <td>...</td>\n",
       "      <td>...</td>\n",
       "      <td>...</td>\n",
       "      <td>...</td>\n",
       "    </tr>\n",
       "    <tr>\n",
       "      <th>9235</th>\n",
       "      <td>0</td>\n",
       "      <td>0</td>\n",
       "      <td>1</td>\n",
       "      <td>1</td>\n",
       "    </tr>\n",
       "    <tr>\n",
       "      <th>9236</th>\n",
       "      <td>1</td>\n",
       "      <td>0</td>\n",
       "      <td>0</td>\n",
       "      <td>0</td>\n",
       "    </tr>\n",
       "    <tr>\n",
       "      <th>9237</th>\n",
       "      <td>1</td>\n",
       "      <td>0</td>\n",
       "      <td>0</td>\n",
       "      <td>1</td>\n",
       "    </tr>\n",
       "    <tr>\n",
       "      <th>9238</th>\n",
       "      <td>0</td>\n",
       "      <td>0</td>\n",
       "      <td>1</td>\n",
       "      <td>0</td>\n",
       "    </tr>\n",
       "    <tr>\n",
       "      <th>9239</th>\n",
       "      <td>1</td>\n",
       "      <td>0</td>\n",
       "      <td>1</td>\n",
       "      <td>0</td>\n",
       "    </tr>\n",
       "  </tbody>\n",
       "</table>\n",
       "<p>9240 rows × 4 columns</p>\n",
       "</div>"
      ],
      "text/plain": [
       "      A free copy of Mastering The Interview  Search  Converted  Do Not Email\n",
       "0                                          0       0          0             0\n",
       "1                                          0       0          0             0\n",
       "2                                          1       0          1             0\n",
       "3                                          0       0          0             0\n",
       "4                                          0       0          1             0\n",
       "...                                      ...     ...        ...           ...\n",
       "9235                                       0       0          1             1\n",
       "9236                                       1       0          0             0\n",
       "9237                                       1       0          0             1\n",
       "9238                                       0       0          1             0\n",
       "9239                                       1       0          1             0\n",
       "\n",
       "[9240 rows x 4 columns]"
      ]
     },
     "execution_count": 33,
     "metadata": {},
     "output_type": "execute_result"
    }
   ],
   "source": [
    "Leads[i64]"
   ]
  },
  {
   "cell_type": "code",
   "execution_count": 34,
   "id": "787be956",
   "metadata": {},
   "outputs": [
    {
     "data": {
      "text/plain": [
       "A free copy of Mastering The Interview    0.0\n",
       "Search                                    0.0\n",
       "Converted                                 0.0\n",
       "Do Not Email                              0.0\n",
       "dtype: float64"
      ]
     },
     "execution_count": 34,
     "metadata": {},
     "output_type": "execute_result"
    }
   ],
   "source": [
    "Leads[i64].isna().sum().sort_values(ascending=False)/Leads.shape[0] * 100"
   ]
  },
  {
   "cell_type": "markdown",
   "id": "85aebfff",
   "metadata": {},
   "source": [
    "Thus the integer columns look fine with no missing values"
   ]
  },
  {
   "cell_type": "markdown",
   "id": "cc83f62d",
   "metadata": {},
   "source": [
    "### Float Columns"
   ]
  },
  {
   "cell_type": "code",
   "execution_count": 35,
   "id": "82bd40e1",
   "metadata": {},
   "outputs": [
    {
     "data": {
      "text/html": [
       "<div>\n",
       "<style scoped>\n",
       "    .dataframe tbody tr th:only-of-type {\n",
       "        vertical-align: middle;\n",
       "    }\n",
       "\n",
       "    .dataframe tbody tr th {\n",
       "        vertical-align: top;\n",
       "    }\n",
       "\n",
       "    .dataframe thead th {\n",
       "        text-align: right;\n",
       "    }\n",
       "</style>\n",
       "<table border=\"1\" class=\"dataframe\">\n",
       "  <thead>\n",
       "    <tr style=\"text-align: right;\">\n",
       "      <th></th>\n",
       "      <th>Page Views Per Visit</th>\n",
       "      <th>TotalVisits</th>\n",
       "      <th>Total Time Spent on Website</th>\n",
       "    </tr>\n",
       "  </thead>\n",
       "  <tbody>\n",
       "    <tr>\n",
       "      <th>0</th>\n",
       "      <td>0.00</td>\n",
       "      <td>0.0</td>\n",
       "      <td>0.0</td>\n",
       "    </tr>\n",
       "    <tr>\n",
       "      <th>1</th>\n",
       "      <td>2.50</td>\n",
       "      <td>5.0</td>\n",
       "      <td>674.0</td>\n",
       "    </tr>\n",
       "    <tr>\n",
       "      <th>2</th>\n",
       "      <td>2.00</td>\n",
       "      <td>2.0</td>\n",
       "      <td>1532.0</td>\n",
       "    </tr>\n",
       "    <tr>\n",
       "      <th>3</th>\n",
       "      <td>1.00</td>\n",
       "      <td>1.0</td>\n",
       "      <td>305.0</td>\n",
       "    </tr>\n",
       "    <tr>\n",
       "      <th>4</th>\n",
       "      <td>1.00</td>\n",
       "      <td>2.0</td>\n",
       "      <td>1428.0</td>\n",
       "    </tr>\n",
       "    <tr>\n",
       "      <th>...</th>\n",
       "      <td>...</td>\n",
       "      <td>...</td>\n",
       "      <td>...</td>\n",
       "    </tr>\n",
       "    <tr>\n",
       "      <th>9235</th>\n",
       "      <td>2.67</td>\n",
       "      <td>8.0</td>\n",
       "      <td>1845.0</td>\n",
       "    </tr>\n",
       "    <tr>\n",
       "      <th>9236</th>\n",
       "      <td>2.00</td>\n",
       "      <td>2.0</td>\n",
       "      <td>238.0</td>\n",
       "    </tr>\n",
       "    <tr>\n",
       "      <th>9237</th>\n",
       "      <td>2.00</td>\n",
       "      <td>2.0</td>\n",
       "      <td>199.0</td>\n",
       "    </tr>\n",
       "    <tr>\n",
       "      <th>9238</th>\n",
       "      <td>3.00</td>\n",
       "      <td>3.0</td>\n",
       "      <td>499.0</td>\n",
       "    </tr>\n",
       "    <tr>\n",
       "      <th>9239</th>\n",
       "      <td>3.00</td>\n",
       "      <td>6.0</td>\n",
       "      <td>1279.0</td>\n",
       "    </tr>\n",
       "  </tbody>\n",
       "</table>\n",
       "<p>9240 rows × 3 columns</p>\n",
       "</div>"
      ],
      "text/plain": [
       "      Page Views Per Visit  TotalVisits  Total Time Spent on Website\n",
       "0                     0.00          0.0                          0.0\n",
       "1                     2.50          5.0                        674.0\n",
       "2                     2.00          2.0                       1532.0\n",
       "3                     1.00          1.0                        305.0\n",
       "4                     1.00          2.0                       1428.0\n",
       "...                    ...          ...                          ...\n",
       "9235                  2.67          8.0                       1845.0\n",
       "9236                  2.00          2.0                        238.0\n",
       "9237                  2.00          2.0                        199.0\n",
       "9238                  3.00          3.0                        499.0\n",
       "9239                  3.00          6.0                       1279.0\n",
       "\n",
       "[9240 rows x 3 columns]"
      ]
     },
     "execution_count": 35,
     "metadata": {},
     "output_type": "execute_result"
    }
   ],
   "source": [
    "Leads[f64]"
   ]
  },
  {
   "cell_type": "code",
   "execution_count": 36,
   "id": "af1e32f7",
   "metadata": {},
   "outputs": [
    {
     "data": {
      "text/plain": [
       "Page Views Per Visit           1.482684\n",
       "TotalVisits                    1.482684\n",
       "Total Time Spent on Website    0.000000\n",
       "dtype: float64"
      ]
     },
     "execution_count": 36,
     "metadata": {},
     "output_type": "execute_result"
    }
   ],
   "source": [
    "Leads[f64].isna().sum().sort_values(ascending=False)/Leads.shape[0] * 100"
   ]
  },
  {
   "cell_type": "markdown",
   "id": "d01370cc",
   "metadata": {},
   "source": [
    "### Imputing missing values with median\n",
    "\n",
    "For normalised data, the mean and the median are either same or very close. For data that has outlies, the mean is heavily affected. Hence it is safe to impute missing values with mediuan instead of mean. This will give us a good approximation even if a certain column has outliers"
   ]
  },
  {
   "cell_type": "code",
   "execution_count": 37,
   "id": "41ae2e09",
   "metadata": {},
   "outputs": [],
   "source": [
    "for i in f64:\n",
    "    Leads[i].fillna(Leads[i].median(), inplace=True)"
   ]
  },
  {
   "cell_type": "code",
   "execution_count": 38,
   "id": "dca90930",
   "metadata": {},
   "outputs": [
    {
     "data": {
      "text/plain": [
       "Page Views Per Visit           0.0\n",
       "TotalVisits                    0.0\n",
       "Total Time Spent on Website    0.0\n",
       "dtype: float64"
      ]
     },
     "execution_count": 38,
     "metadata": {},
     "output_type": "execute_result"
    }
   ],
   "source": [
    "Leads[f64].isna().sum().sort_values(ascending=False)/Leads.shape[0] * 100"
   ]
  },
  {
   "cell_type": "markdown",
   "id": "90c9d4b4",
   "metadata": {},
   "source": [
    "### Categorical Columns"
   ]
  },
  {
   "cell_type": "code",
   "execution_count": 39,
   "id": "d6645311",
   "metadata": {},
   "outputs": [
    {
     "data": {
      "text/html": [
       "<div>\n",
       "<style scoped>\n",
       "    .dataframe tbody tr th:only-of-type {\n",
       "        vertical-align: middle;\n",
       "    }\n",
       "\n",
       "    .dataframe tbody tr th {\n",
       "        vertical-align: top;\n",
       "    }\n",
       "\n",
       "    .dataframe thead th {\n",
       "        text-align: right;\n",
       "    }\n",
       "</style>\n",
       "<table border=\"1\" class=\"dataframe\">\n",
       "  <thead>\n",
       "    <tr style=\"text-align: right;\">\n",
       "      <th></th>\n",
       "      <th>What matters most to you in choosing a course</th>\n",
       "      <th>What is your current occupation</th>\n",
       "      <th>Country</th>\n",
       "      <th>Last Activity</th>\n",
       "      <th>Lead Source</th>\n",
       "      <th>Lead Origin</th>\n",
       "      <th>Last Notable Activity</th>\n",
       "    </tr>\n",
       "  </thead>\n",
       "  <tbody>\n",
       "    <tr>\n",
       "      <th>0</th>\n",
       "      <td>Better Career Prospects</td>\n",
       "      <td>Unemployed</td>\n",
       "      <td>NaN</td>\n",
       "      <td>Page Visited on Website</td>\n",
       "      <td>Olark Chat</td>\n",
       "      <td>API</td>\n",
       "      <td>Modified</td>\n",
       "    </tr>\n",
       "    <tr>\n",
       "      <th>1</th>\n",
       "      <td>Better Career Prospects</td>\n",
       "      <td>Unemployed</td>\n",
       "      <td>India</td>\n",
       "      <td>Email Opened</td>\n",
       "      <td>Organic Search</td>\n",
       "      <td>API</td>\n",
       "      <td>Email Opened</td>\n",
       "    </tr>\n",
       "    <tr>\n",
       "      <th>2</th>\n",
       "      <td>Better Career Prospects</td>\n",
       "      <td>Student</td>\n",
       "      <td>India</td>\n",
       "      <td>Email Opened</td>\n",
       "      <td>Direct Traffic</td>\n",
       "      <td>Landing Page Submission</td>\n",
       "      <td>Email Opened</td>\n",
       "    </tr>\n",
       "    <tr>\n",
       "      <th>3</th>\n",
       "      <td>Better Career Prospects</td>\n",
       "      <td>Unemployed</td>\n",
       "      <td>India</td>\n",
       "      <td>Unreachable</td>\n",
       "      <td>Direct Traffic</td>\n",
       "      <td>Landing Page Submission</td>\n",
       "      <td>Modified</td>\n",
       "    </tr>\n",
       "    <tr>\n",
       "      <th>4</th>\n",
       "      <td>Better Career Prospects</td>\n",
       "      <td>Unemployed</td>\n",
       "      <td>India</td>\n",
       "      <td>Converted to Lead</td>\n",
       "      <td>Google</td>\n",
       "      <td>Landing Page Submission</td>\n",
       "      <td>Modified</td>\n",
       "    </tr>\n",
       "    <tr>\n",
       "      <th>...</th>\n",
       "      <td>...</td>\n",
       "      <td>...</td>\n",
       "      <td>...</td>\n",
       "      <td>...</td>\n",
       "      <td>...</td>\n",
       "      <td>...</td>\n",
       "      <td>...</td>\n",
       "    </tr>\n",
       "    <tr>\n",
       "      <th>9235</th>\n",
       "      <td>Better Career Prospects</td>\n",
       "      <td>Unemployed</td>\n",
       "      <td>Saudi Arabia</td>\n",
       "      <td>Email Marked Spam</td>\n",
       "      <td>Direct Traffic</td>\n",
       "      <td>Landing Page Submission</td>\n",
       "      <td>Email Marked Spam</td>\n",
       "    </tr>\n",
       "    <tr>\n",
       "      <th>9236</th>\n",
       "      <td>Better Career Prospects</td>\n",
       "      <td>Unemployed</td>\n",
       "      <td>India</td>\n",
       "      <td>SMS Sent</td>\n",
       "      <td>Direct Traffic</td>\n",
       "      <td>Landing Page Submission</td>\n",
       "      <td>SMS Sent</td>\n",
       "    </tr>\n",
       "    <tr>\n",
       "      <th>9237</th>\n",
       "      <td>Better Career Prospects</td>\n",
       "      <td>Unemployed</td>\n",
       "      <td>India</td>\n",
       "      <td>SMS Sent</td>\n",
       "      <td>Direct Traffic</td>\n",
       "      <td>Landing Page Submission</td>\n",
       "      <td>SMS Sent</td>\n",
       "    </tr>\n",
       "    <tr>\n",
       "      <th>9238</th>\n",
       "      <td>NaN</td>\n",
       "      <td>NaN</td>\n",
       "      <td>India</td>\n",
       "      <td>SMS Sent</td>\n",
       "      <td>Google</td>\n",
       "      <td>Landing Page Submission</td>\n",
       "      <td>SMS Sent</td>\n",
       "    </tr>\n",
       "    <tr>\n",
       "      <th>9239</th>\n",
       "      <td>Better Career Prospects</td>\n",
       "      <td>Unemployed</td>\n",
       "      <td>Bangladesh</td>\n",
       "      <td>SMS Sent</td>\n",
       "      <td>Direct Traffic</td>\n",
       "      <td>Landing Page Submission</td>\n",
       "      <td>Modified</td>\n",
       "    </tr>\n",
       "  </tbody>\n",
       "</table>\n",
       "<p>9240 rows × 7 columns</p>\n",
       "</div>"
      ],
      "text/plain": [
       "     What matters most to you in choosing a course  \\\n",
       "0                          Better Career Prospects   \n",
       "1                          Better Career Prospects   \n",
       "2                          Better Career Prospects   \n",
       "3                          Better Career Prospects   \n",
       "4                          Better Career Prospects   \n",
       "...                                            ...   \n",
       "9235                       Better Career Prospects   \n",
       "9236                       Better Career Prospects   \n",
       "9237                       Better Career Prospects   \n",
       "9238                                           NaN   \n",
       "9239                       Better Career Prospects   \n",
       "\n",
       "     What is your current occupation       Country            Last Activity  \\\n",
       "0                         Unemployed           NaN  Page Visited on Website   \n",
       "1                         Unemployed         India             Email Opened   \n",
       "2                            Student         India             Email Opened   \n",
       "3                         Unemployed         India              Unreachable   \n",
       "4                         Unemployed         India        Converted to Lead   \n",
       "...                              ...           ...                      ...   \n",
       "9235                      Unemployed  Saudi Arabia        Email Marked Spam   \n",
       "9236                      Unemployed         India                 SMS Sent   \n",
       "9237                      Unemployed         India                 SMS Sent   \n",
       "9238                             NaN         India                 SMS Sent   \n",
       "9239                      Unemployed    Bangladesh                 SMS Sent   \n",
       "\n",
       "         Lead Source              Lead Origin Last Notable Activity  \n",
       "0         Olark Chat                      API              Modified  \n",
       "1     Organic Search                      API          Email Opened  \n",
       "2     Direct Traffic  Landing Page Submission          Email Opened  \n",
       "3     Direct Traffic  Landing Page Submission              Modified  \n",
       "4             Google  Landing Page Submission              Modified  \n",
       "...              ...                      ...                   ...  \n",
       "9235  Direct Traffic  Landing Page Submission     Email Marked Spam  \n",
       "9236  Direct Traffic  Landing Page Submission              SMS Sent  \n",
       "9237  Direct Traffic  Landing Page Submission              SMS Sent  \n",
       "9238          Google  Landing Page Submission              SMS Sent  \n",
       "9239  Direct Traffic  Landing Page Submission              Modified  \n",
       "\n",
       "[9240 rows x 7 columns]"
      ]
     },
     "execution_count": 39,
     "metadata": {},
     "output_type": "execute_result"
    }
   ],
   "source": [
    "Leads[obj]"
   ]
  },
  {
   "cell_type": "code",
   "execution_count": 40,
   "id": "efa13b04",
   "metadata": {},
   "outputs": [
    {
     "data": {
      "text/plain": [
       "What matters most to you in choosing a course    29.318182\n",
       "What is your current occupation                  29.112554\n",
       "Country                                          26.634199\n",
       "Last Activity                                     1.114719\n",
       "Lead Source                                       0.389610\n",
       "Lead Origin                                       0.000000\n",
       "Last Notable Activity                             0.000000\n",
       "dtype: float64"
      ]
     },
     "execution_count": 40,
     "metadata": {},
     "output_type": "execute_result"
    }
   ],
   "source": [
    "Leads[obj].isna().sum().sort_values(ascending=False)/Leads.shape[0] * 100"
   ]
  },
  {
   "cell_type": "markdown",
   "id": "fb311d28",
   "metadata": {},
   "source": [
    "#### Lets check the value counts for each values in the country column"
   ]
  },
  {
   "cell_type": "code",
   "execution_count": 41,
   "id": "4d0ca035",
   "metadata": {},
   "outputs": [
    {
     "data": {
      "text/plain": [
       "India                   6492\n",
       "United States             69\n",
       "United Arab Emirates      53\n",
       "Singapore                 24\n",
       "Saudi Arabia              21\n",
       "United Kingdom            15\n",
       "Australia                 13\n",
       "Qatar                     10\n",
       "Hong Kong                  7\n",
       "Bahrain                    7\n",
       "Oman                       6\n",
       "France                     6\n",
       "unknown                    5\n",
       "South Africa               4\n",
       "Nigeria                    4\n",
       "Germany                    4\n",
       "Kuwait                     4\n",
       "Canada                     4\n",
       "Sweden                     3\n",
       "China                      2\n",
       "Asia/Pacific Region        2\n",
       "Uganda                     2\n",
       "Bangladesh                 2\n",
       "Italy                      2\n",
       "Belgium                    2\n",
       "Netherlands                2\n",
       "Ghana                      2\n",
       "Philippines                2\n",
       "Russia                     1\n",
       "Switzerland                1\n",
       "Vietnam                    1\n",
       "Denmark                    1\n",
       "Tanzania                   1\n",
       "Liberia                    1\n",
       "Malaysia                   1\n",
       "Kenya                      1\n",
       "Sri Lanka                  1\n",
       "Indonesia                  1\n",
       "Name: Country, dtype: int64"
      ]
     },
     "execution_count": 41,
     "metadata": {},
     "output_type": "execute_result"
    }
   ],
   "source": [
    "Leads.Country.value_counts()"
   ]
  },
  {
   "cell_type": "markdown",
   "id": "de25a10f",
   "metadata": {},
   "source": [
    "Check the percentage of India as value in the country column"
   ]
  },
  {
   "cell_type": "code",
   "execution_count": 42,
   "id": "eb18b580",
   "metadata": {},
   "outputs": [
    {
     "name": "stdout",
     "output_type": "stream",
     "text": [
      "70.26\n"
     ]
    }
   ],
   "source": [
    "country_percentage = round(100*len(Leads[Leads['Country'] == 'India'])/len(Leads['Country']),2)\n",
    "print(country_percentage)"
   ]
  },
  {
   "cell_type": "markdown",
   "id": "24bb36dd",
   "metadata": {},
   "source": [
    "Since \"India\" occurs around 70% of times in the Country column, and country column also has around 27% as missing values, we shall go ahead and drop the column"
   ]
  },
  {
   "cell_type": "code",
   "execution_count": 43,
   "id": "5c4f7005",
   "metadata": {},
   "outputs": [],
   "source": [
    "Leads = Leads.drop(['Country'], axis=1)"
   ]
  },
  {
   "cell_type": "markdown",
   "id": "7a75ab04",
   "metadata": {},
   "source": [
    "#### Lets check the value counts for each values in the Lead Source column"
   ]
  },
  {
   "cell_type": "code",
   "execution_count": 44,
   "id": "7a31c86b",
   "metadata": {},
   "outputs": [
    {
     "data": {
      "text/plain": [
       "Google               2868\n",
       "Direct Traffic       2543\n",
       "Olark Chat           1755\n",
       "Organic Search       1154\n",
       "Reference             534\n",
       "Welingak Website      142\n",
       "Referral Sites        125\n",
       "Facebook               55\n",
       "bing                    6\n",
       "google                  5\n",
       "Click2call              4\n",
       "Press_Release           2\n",
       "Social Media            2\n",
       "Live Chat               2\n",
       "youtubechannel          1\n",
       "testone                 1\n",
       "Pay per Click Ads       1\n",
       "welearnblog_Home        1\n",
       "WeLearn                 1\n",
       "blog                    1\n",
       "NC_EDM                  1\n",
       "Name: Lead Source, dtype: int64"
      ]
     },
     "execution_count": 44,
     "metadata": {},
     "output_type": "execute_result"
    }
   ],
   "source": [
    "Leads['Lead Source'].value_counts()"
   ]
  },
  {
   "cell_type": "markdown",
   "id": "453359df",
   "metadata": {},
   "source": [
    "From the above it can be noticed that Google appears twice with different cases. Hence we shall convert all rows with value \"Google\" to the same case. Also since \"Google\" has majority data, we impute the null values with Google"
   ]
  },
  {
   "cell_type": "code",
   "execution_count": 45,
   "id": "a2d027df",
   "metadata": {},
   "outputs": [],
   "source": [
    "Leads['Lead Source'] = Leads['Lead Source'].replace('google', 'Google')\n",
    "Leads['Lead Source'] = Leads['Lead Source'].replace(np.nan, 'Google')"
   ]
  },
  {
   "cell_type": "markdown",
   "id": "c684d50c",
   "metadata": {},
   "source": [
    "#### Lets check the value counts for each values in the 'What matters most to you in choosing a course' column"
   ]
  },
  {
   "cell_type": "code",
   "execution_count": 46,
   "id": "6ecf9dbd",
   "metadata": {},
   "outputs": [
    {
     "data": {
      "text/plain": [
       "Better Career Prospects      6528\n",
       "Flexibility & Convenience       2\n",
       "Other                           1\n",
       "Name: What matters most to you in choosing a course, dtype: int64"
      ]
     },
     "execution_count": 46,
     "metadata": {},
     "output_type": "execute_result"
    }
   ],
   "source": [
    "Leads['What matters most to you in choosing a course'].value_counts()"
   ]
  },
  {
   "cell_type": "markdown",
   "id": "119803db",
   "metadata": {},
   "source": [
    "Since \"Better Career Prospects\" occurs around 70% of times in the 'What matters most to you in choosing a course' column, and this column also has around 29% as missing values - \n",
    "We shall go ahead and drop the column"
   ]
  },
  {
   "cell_type": "code",
   "execution_count": 47,
   "id": "65b5046f",
   "metadata": {},
   "outputs": [],
   "source": [
    "Leads = Leads.drop(['What matters most to you in choosing a course'], axis=1)"
   ]
  },
  {
   "cell_type": "markdown",
   "id": "3591d7b7",
   "metadata": {},
   "source": [
    "#### Lets check the value counts for each values in the 'What is your current occupation' column"
   ]
  },
  {
   "cell_type": "code",
   "execution_count": 48,
   "id": "d32fbc9e",
   "metadata": {},
   "outputs": [
    {
     "data": {
      "text/plain": [
       "Unemployed              5600\n",
       "Working Professional     706\n",
       "Student                  210\n",
       "Other                     16\n",
       "Housewife                 10\n",
       "Businessman                8\n",
       "Name: What is your current occupation, dtype: int64"
      ]
     },
     "execution_count": 48,
     "metadata": {},
     "output_type": "execute_result"
    }
   ],
   "source": [
    "Leads['What is your current occupation'].value_counts()"
   ]
  },
  {
   "cell_type": "code",
   "execution_count": 49,
   "id": "d2ad80d6",
   "metadata": {},
   "outputs": [
    {
     "name": "stdout",
     "output_type": "stream",
     "text": [
      "60.61\n"
     ]
    }
   ],
   "source": [
    "Unemployed_Occupation = round(100*len(Leads[Leads['What is your current occupation'] \n",
    "                            == 'Unemployed'])/len(Leads['What is your current occupation']),2)\n",
    "print(Unemployed_Occupation)"
   ]
  },
  {
   "cell_type": "markdown",
   "id": "a264bee7",
   "metadata": {},
   "source": [
    "Since \"Unemployed\" occurs around 60% of times in the What is your current occupation' column, and this column also has around 29% as missing values - \n",
    "We shall go ahead and drop the column"
   ]
  },
  {
   "cell_type": "code",
   "execution_count": 50,
   "id": "079b670c",
   "metadata": {},
   "outputs": [],
   "source": [
    "Leads = Leads.drop(['What is your current occupation'], axis=1)"
   ]
  },
  {
   "cell_type": "markdown",
   "id": "e65b4504",
   "metadata": {},
   "source": [
    "#### Lets check the value counts for each values in the 'Last Activity' column"
   ]
  },
  {
   "cell_type": "code",
   "execution_count": 51,
   "id": "f01dce7b",
   "metadata": {},
   "outputs": [
    {
     "data": {
      "text/plain": [
       "Email Opened                    3437\n",
       "SMS Sent                        2745\n",
       "Olark Chat Conversation          973\n",
       "Page Visited on Website          640\n",
       "Converted to Lead                428\n",
       "Email Bounced                    326\n",
       "Email Link Clicked               267\n",
       "Form Submitted on Website        116\n",
       "Unreachable                       93\n",
       "Unsubscribed                      61\n",
       "Had a Phone Conversation          30\n",
       "Approached upfront                 9\n",
       "View in browser link Clicked       6\n",
       "Email Received                     2\n",
       "Email Marked Spam                  2\n",
       "Visited Booth in Tradeshow         1\n",
       "Resubscribed to emails             1\n",
       "Name: Last Activity, dtype: int64"
      ]
     },
     "execution_count": 51,
     "metadata": {},
     "output_type": "execute_result"
    }
   ],
   "source": [
    "Leads['Last Activity'].value_counts()"
   ]
  },
  {
   "cell_type": "markdown",
   "id": "7c02cbd8",
   "metadata": {},
   "source": [
    "Imputing the unknown with the mode"
   ]
  },
  {
   "cell_type": "code",
   "execution_count": 52,
   "id": "12e26dd9",
   "metadata": {},
   "outputs": [],
   "source": [
    "Leads['Last Activity'].fillna(Leads['Last Activity'].mode()[0], inplace=True)"
   ]
  },
  {
   "cell_type": "code",
   "execution_count": 53,
   "id": "a702089f",
   "metadata": {},
   "outputs": [],
   "source": [
    "# Redefining types of columns again\n",
    "\n",
    "i64=Leads.dtypes[Leads.dtypes == 'int64'].index\n",
    "f64=Leads.dtypes[Leads.dtypes == 'float64'].index\n",
    "obj=Leads.dtypes[Leads.dtypes == 'object'].index"
   ]
  },
  {
   "cell_type": "code",
   "execution_count": 54,
   "id": "e59b7d22",
   "metadata": {},
   "outputs": [
    {
     "data": {
      "text/plain": [
       "Last Activity            0.0\n",
       "Lead Source              0.0\n",
       "Lead Origin              0.0\n",
       "Last Notable Activity    0.0\n",
       "dtype: float64"
      ]
     },
     "execution_count": 54,
     "metadata": {},
     "output_type": "execute_result"
    }
   ],
   "source": [
    "Leads[obj].isna().sum().sort_values(ascending=False)/Leads.shape[0] * 100"
   ]
  },
  {
   "cell_type": "markdown",
   "id": "65c53661",
   "metadata": {},
   "source": [
    "### Outlier Analysis of float columns"
   ]
  },
  {
   "cell_type": "code",
   "execution_count": 55,
   "id": "2ebd7b50",
   "metadata": {},
   "outputs": [],
   "source": [
    "def cat_plot_box(df,x,ncol,fw,fh):\n",
    "    a=len(x)\n",
    "    if a%2==0:\n",
    "        nrows=int((a/ncol))\n",
    "    else:\n",
    "        nrows=int((a/ncol)+1)\n",
    "    v=[]\n",
    "    for i in range(nrows):\n",
    "        for j in range(ncol):\n",
    "            v.append((i,j))\n",
    "    fig, axis = plt.subplots(nrows, ncol, figsize=(fw, fh))\n",
    "    for i in range(a):\n",
    "        sns.boxplot(ax=axis[v[i]],x=df[x[i]])\n",
    "        axis[v[i]].set_title(x[i])"
   ]
  },
  {
   "cell_type": "code",
   "execution_count": 56,
   "id": "c2b10c90",
   "metadata": {},
   "outputs": [
    {
     "data": {
      "image/png": "[encoded data removed]",
      "text/plain": [
       "<Figure size 1080x720 with 4 Axes>"
      ]
     },
     "metadata": {
      "needs_background": "light"
     },
     "output_type": "display_data"
    }
   ],
   "source": [
    "cat_plot_box(Leads, f64, 2, 15, 10)"
   ]
  },
  {
   "cell_type": "code",
   "execution_count": 57,
   "id": "ea03c17e",
   "metadata": {},
   "outputs": [
    {
     "data": {
      "text/html": [
       "<div>\n",
       "<style scoped>\n",
       "    .dataframe tbody tr th:only-of-type {\n",
       "        vertical-align: middle;\n",
       "    }\n",
       "\n",
       "    .dataframe tbody tr th {\n",
       "        vertical-align: top;\n",
       "    }\n",
       "\n",
       "    .dataframe thead th {\n",
       "        text-align: right;\n",
       "    }\n",
       "</style>\n",
       "<table border=\"1\" class=\"dataframe\">\n",
       "  <thead>\n",
       "    <tr style=\"text-align: right;\">\n",
       "      <th></th>\n",
       "      <th>Page Views Per Visit</th>\n",
       "      <th>TotalVisits</th>\n",
       "      <th>Total Time Spent on Website</th>\n",
       "    </tr>\n",
       "  </thead>\n",
       "  <tbody>\n",
       "    <tr>\n",
       "      <th>count</th>\n",
       "      <td>9240.000000</td>\n",
       "      <td>9240.000000</td>\n",
       "      <td>9240.000000</td>\n",
       "    </tr>\n",
       "    <tr>\n",
       "      <th>mean</th>\n",
       "      <td>2.357440</td>\n",
       "      <td>3.438636</td>\n",
       "      <td>487.698268</td>\n",
       "    </tr>\n",
       "    <tr>\n",
       "      <th>std</th>\n",
       "      <td>2.145781</td>\n",
       "      <td>4.819024</td>\n",
       "      <td>548.021466</td>\n",
       "    </tr>\n",
       "    <tr>\n",
       "      <th>min</th>\n",
       "      <td>0.000000</td>\n",
       "      <td>0.000000</td>\n",
       "      <td>0.000000</td>\n",
       "    </tr>\n",
       "    <tr>\n",
       "      <th>25%</th>\n",
       "      <td>1.000000</td>\n",
       "      <td>1.000000</td>\n",
       "      <td>12.000000</td>\n",
       "    </tr>\n",
       "    <tr>\n",
       "      <th>50%</th>\n",
       "      <td>2.000000</td>\n",
       "      <td>3.000000</td>\n",
       "      <td>248.000000</td>\n",
       "    </tr>\n",
       "    <tr>\n",
       "      <th>75%</th>\n",
       "      <td>3.000000</td>\n",
       "      <td>5.000000</td>\n",
       "      <td>936.000000</td>\n",
       "    </tr>\n",
       "    <tr>\n",
       "      <th>max</th>\n",
       "      <td>55.000000</td>\n",
       "      <td>251.000000</td>\n",
       "      <td>2272.000000</td>\n",
       "    </tr>\n",
       "  </tbody>\n",
       "</table>\n",
       "</div>"
      ],
      "text/plain": [
       "       Page Views Per Visit  TotalVisits  Total Time Spent on Website\n",
       "count           9240.000000  9240.000000                  9240.000000\n",
       "mean               2.357440     3.438636                   487.698268\n",
       "std                2.145781     4.819024                   548.021466\n",
       "min                0.000000     0.000000                     0.000000\n",
       "25%                1.000000     1.000000                    12.000000\n",
       "50%                2.000000     3.000000                   248.000000\n",
       "75%                3.000000     5.000000                   936.000000\n",
       "max               55.000000   251.000000                  2272.000000"
      ]
     },
     "execution_count": 57,
     "metadata": {},
     "output_type": "execute_result"
    }
   ],
   "source": [
    "Leads[f64].describe()"
   ]
  },
  {
   "cell_type": "markdown",
   "id": "f05f87bc",
   "metadata": {},
   "source": [
    "#### Cleaning Outliers\n",
    "As we know we now need to clean the outliers for better results"
   ]
  },
  {
   "cell_type": "code",
   "execution_count": 58,
   "id": "71ba21c2",
   "metadata": {},
   "outputs": [],
   "source": [
    "def clean_outliers(x):\n",
    "    q1 = x.quantile(0.25)\n",
    "    q3 = x.quantile(0.75)\n",
    "    IQR=q3-q1\n",
    "    ul = q3+1.5*IQR\n",
    "    ll = q1-1.5*IQR\n",
    "    x[x>ul]=ul\n",
    "    x[x<ll]=ll "
   ]
  },
  {
   "cell_type": "code",
   "execution_count": 59,
   "id": "9752286d",
   "metadata": {},
   "outputs": [
    {
     "data": {
      "image/png": "[encoded data removed]",
      "text/plain": [
       "<Figure size 1080x720 with 4 Axes>"
      ]
     },
     "metadata": {
      "needs_background": "light"
     },
     "output_type": "display_data"
    }
   ],
   "source": [
    "cat_plot_box(Leads,f64,2,15,10)"
   ]
  },
  {
   "cell_type": "code",
   "execution_count": 60,
   "id": "ac3fb751",
   "metadata": {},
   "outputs": [],
   "source": [
    "for i in f64:\n",
    "    clean_outliers(Leads[i])"
   ]
  },
  {
   "cell_type": "code",
   "execution_count": 61,
   "id": "fbcb13de",
   "metadata": {},
   "outputs": [
    {
     "data": {
      "image/png": "[encoded data removed]",
      "text/plain": [
       "<Figure size 1080x720 with 4 Axes>"
      ]
     },
     "metadata": {
      "needs_background": "light"
     },
     "output_type": "display_data"
    }
   ],
   "source": [
    "cat_plot_box(Leads,f64,2,15,10)"
   ]
  },
  {
   "cell_type": "markdown",
   "id": "d7916d44",
   "metadata": {},
   "source": [
    "## 3. Exploratory Data Analysis"
   ]
  },
  {
   "cell_type": "markdown",
   "id": "89cd6c5d",
   "metadata": {},
   "source": [
    "Looking at the balance of the data"
   ]
  },
  {
   "cell_type": "code",
   "execution_count": 62,
   "id": "486251c5",
   "metadata": {},
   "outputs": [
    {
     "data": {
      "text/plain": [
       "<AxesSubplot:xlabel='Converted', ylabel='count'>"
      ]
     },
     "execution_count": 62,
     "metadata": {},
     "output_type": "execute_result"
    },
    {
     "data": {
      "image/png": "[encoded data removed]",
      "text/plain": [
       "<Figure size 432x288 with 1 Axes>"
      ]
     },
     "metadata": {
      "needs_background": "light"
     },
     "output_type": "display_data"
    }
   ],
   "source": [
    "sns.countplot(Leads['Converted'])"
   ]
  },
  {
   "cell_type": "code",
   "execution_count": 63,
   "id": "efd852d4",
   "metadata": {},
   "outputs": [],
   "source": [
    "def cat_plot_box_target(df,x,ncol,fw,fh):\n",
    "    a=len(x)\n",
    "    if a%2==0:\n",
    "        nrows=int((a/ncol))\n",
    "    else:\n",
    "        nrows=int((a/ncol)+1)\n",
    "    v=[]\n",
    "    for i in range(nrows):\n",
    "        for j in range(ncol):\n",
    "            v.append((i,j))\n",
    "    fig, axis = plt.subplots(nrows, ncol, figsize=(fw, fh))\n",
    "    for i in range(a):\n",
    "        sns.boxplot(data=df,ax=axis[v[i]], x='Converted', y=x[i])\n",
    "        axis[v[i]].set_title(x[i])"
   ]
  },
  {
   "cell_type": "code",
   "execution_count": 64,
   "id": "3a9f2f72",
   "metadata": {},
   "outputs": [
    {
     "data": {
      "image/png": "[encoded data removed]",
      "text/plain": [
       "<Figure size 1152x720 with 4 Axes>"
      ]
     },
     "metadata": {
      "needs_background": "light"
     },
     "output_type": "display_data"
    }
   ],
   "source": [
    "cat_plot_box_target(Leads,f64,2,16,10)"
   ]
  },
  {
   "cell_type": "code",
   "execution_count": 65,
   "id": "aceff701",
   "metadata": {},
   "outputs": [
    {
     "data": {
      "image/png": "[encoded data removed]",
      "text/plain": [
       "<Figure size 432x288 with 1 Axes>"
      ]
     },
     "metadata": {
      "needs_background": "light"
     },
     "output_type": "display_data"
    },
    {
     "data": {
      "image/png": "[encoded data removed]",
      "text/plain": [
       "<Figure size 432x288 with 1 Axes>"
      ]
     },
     "metadata": {
      "needs_background": "light"
     },
     "output_type": "display_data"
    },
    {
     "data": {
      "image/png": "[encoded data removed]",
      "text/plain": [
       "<Figure size 432x288 with 1 Axes>"
      ]
     },
     "metadata": {
      "needs_background": "light"
     },
     "output_type": "display_data"
    }
   ],
   "source": [
    "def p75(x):\n",
    "    return np.quantile(x,0.75)\n",
    "for i in f64:\n",
    "    Leads.groupby('Converted')[i].aggregate(['mean','median', p75]).plot.bar()\n",
    "    plt.title(i)"
   ]
  },
  {
   "cell_type": "markdown",
   "id": "862d332b",
   "metadata": {},
   "source": [
    "#### Analysis:\n",
    "Looking at the visualization, we can clearly see that 'Total Time Spent on Website' is directly impacting conversions. More time the users spend on the Website, the higher is the conversion rate\n",
    "#### Suggestion\n",
    "It would be great if X Education could improve their website to increase total time spent"
   ]
  },
  {
   "cell_type": "markdown",
   "id": "8adc54b3",
   "metadata": {},
   "source": [
    "### Analysis of Categorical Columns"
   ]
  },
  {
   "cell_type": "markdown",
   "id": "2f578572",
   "metadata": {},
   "source": [
    "Creating a dataframe of successful Conversions"
   ]
  },
  {
   "cell_type": "code",
   "execution_count": 66,
   "id": "9fd8cc2d",
   "metadata": {},
   "outputs": [],
   "source": [
    "ConvertedLeads=Leads[Leads.Converted == 1]"
   ]
  },
  {
   "cell_type": "code",
   "execution_count": 67,
   "id": "6d545316",
   "metadata": {},
   "outputs": [],
   "source": [
    "def cat_plot(df,x,ncol,fw,fh):\n",
    "    a=len(x)\n",
    "    if a%2==0:\n",
    "        nrows=int((a/ncol))\n",
    "    else:\n",
    "        nrows=int((a/ncol)+1)\n",
    "    v=[]\n",
    "    for i in range(nrows):\n",
    "        for j in range(ncol):\n",
    "            v.append((i,j))\n",
    "    fig, axis = plt.subplots(nrows, ncol, figsize=(fw, fh))\n",
    "    for i in range(a):\n",
    "        A=list(df[x[i]].value_counts(ascending=False).head(9).index)\n",
    "        B=list(df[x[i]].value_counts(ascending=False).head(9))\n",
    "        axis[v[i]].barh(A,B)\n",
    "        axis[v[i]].tick_params(axis='x', labelrotation = 100)\n",
    "        axis[v[i]].set_title(x[i])"
   ]
  },
  {
   "cell_type": "code",
   "execution_count": 68,
   "id": "ae6bffe9",
   "metadata": {},
   "outputs": [
    {
     "data": {
      "image/png": "[encoded data removed]",
      "text/plain": [
       "<Figure size 3600x4320 with 4 Axes>"
      ]
     },
     "metadata": {
      "needs_background": "light"
     },
     "output_type": "display_data"
    }
   ],
   "source": [
    "cat_plot(ConvertedLeads,obj,2,50,60)"
   ]
  },
  {
   "cell_type": "markdown",
   "id": "618c2656",
   "metadata": {},
   "source": [
    "### Simplifying categories in columns\n",
    "\n",
    "As we see most of the data is split in 4-5 categories for all columns. It would be better if we remove all extra columns by just piling them together as 'Others'. This will help us get the top 5 categories for all columns always"
   ]
  },
  {
   "cell_type": "code",
   "execution_count": 69,
   "id": "69d28197",
   "metadata": {},
   "outputs": [],
   "source": [
    "for i in obj:\n",
    "    if len(Leads[i].unique()) > 4:\n",
    "        topcats = list(Leads[i].value_counts(ascending=False).head(4).index)\n",
    "        Leads[i]=Leads[i].apply(lambda x: x if x in topcats else 'Others')"
   ]
  },
  {
   "cell_type": "code",
   "execution_count": 70,
   "id": "62872d0b",
   "metadata": {},
   "outputs": [],
   "source": [
    "ConvertedLeads=Leads[Leads.Converted == 1]"
   ]
  },
  {
   "cell_type": "code",
   "execution_count": 71,
   "id": "5ee5d0cb",
   "metadata": {},
   "outputs": [
    {
     "data": {
      "text/plain": [
       "['Last Activity 5',\n",
       " 'Lead Source 5',\n",
       " 'Lead Origin 5',\n",
       " 'Last Notable Activity 5']"
      ]
     },
     "execution_count": 71,
     "metadata": {},
     "output_type": "execute_result"
    }
   ],
   "source": [
    "UnqCol=[]\n",
    "for i in obj:\n",
    "    a= \" \".join([str(i), str(Leads[i].value_counts().size)])\n",
    "    UnqCol.append(a)\n",
    "UnqCol"
   ]
  },
  {
   "cell_type": "code",
   "execution_count": 72,
   "id": "c0c6009f",
   "metadata": {},
   "outputs": [
    {
     "data": {
      "image/png": "[encoded data removed]",
      "text/plain": [
       "<Figure size 1800x1080 with 4 Axes>"
      ]
     },
     "metadata": {
      "needs_background": "light"
     },
     "output_type": "display_data"
    }
   ],
   "source": [
    "cat_plot(ConvertedLeads,obj,2,25,15)"
   ]
  },
  {
   "cell_type": "markdown",
   "id": "68d0041e",
   "metadata": {},
   "source": [
    "#### Analysis:\n",
    "Looking at the visualizations, we can infer that Conversion rate is high when :\n",
    "- The last activity is 'SMS sent'\n",
    "- The lead origin is from comes from Landing Page Submission\n",
    "- The lead source is Google"
   ]
  },
  {
   "cell_type": "code",
   "execution_count": null,
   "id": "e0dd4236",
   "metadata": {},
   "outputs": [],
   "source": []
  },
  {
   "cell_type": "code",
   "execution_count": null,
   "id": "f7a0f388",
   "metadata": {},
   "outputs": [],
   "source": []
  },
  {
   "cell_type": "markdown",
   "id": "73f16583",
   "metadata": {},
   "source": [
    "### Analysis of Yes/No Columns"
   ]
  },
  {
   "cell_type": "code",
   "execution_count": 73,
   "id": "41729a05",
   "metadata": {},
   "outputs": [
    {
     "data": {
      "image/png": "[encoded data removed]",
      "text/plain": [
       "<Figure size 1080x720 with 4 Axes>"
      ]
     },
     "metadata": {
      "needs_background": "light"
     },
     "output_type": "display_data"
    }
   ],
   "source": [
    "cat_plot(Leads,i64,2,15,10)"
   ]
  },
  {
   "cell_type": "code",
   "execution_count": 74,
   "id": "85203fc0",
   "metadata": {},
   "outputs": [
    {
     "data": {
      "image/png": "[encoded data removed]",
      "text/plain": [
       "<Figure size 1080x720 with 4 Axes>"
      ]
     },
     "metadata": {
      "needs_background": "light"
     },
     "output_type": "display_data"
    }
   ],
   "source": [
    "cat_plot(ConvertedLeads,i64,2,15,10)"
   ]
  },
  {
   "cell_type": "markdown",
   "id": "11720c4d",
   "metadata": {},
   "source": [
    "#### Analysis:\n",
    "Looking at the visualization, the only suggestion that comes to mind is that 'A Free Copy of Mastering the Interview' is a good marketing technique if worked on a bit more"
   ]
  },
  {
   "cell_type": "markdown",
   "id": "0b583c64",
   "metadata": {},
   "source": [
    "## 4. Preparing Data for Regression"
   ]
  },
  {
   "cell_type": "code",
   "execution_count": 75,
   "id": "d64a3f35",
   "metadata": {},
   "outputs": [],
   "source": [
    "# Resetting the values just to be safe\n",
    "i64=Leads.dtypes[Leads.dtypes == 'int64'].index\n",
    "f64=Leads.dtypes[Leads.dtypes == 'float64'].index\n",
    "obj=Leads.dtypes[Leads.dtypes == 'object'].index"
   ]
  },
  {
   "cell_type": "markdown",
   "id": "d2c93a1c",
   "metadata": {},
   "source": [
    "### Creating Dummy Variables"
   ]
  },
  {
   "cell_type": "code",
   "execution_count": 76,
   "id": "26147260",
   "metadata": {},
   "outputs": [
    {
     "data": {
      "text/plain": [
       "(9240, 11)"
      ]
     },
     "execution_count": 76,
     "metadata": {},
     "output_type": "execute_result"
    }
   ],
   "source": [
    "Leads.shape"
   ]
  },
  {
   "cell_type": "code",
   "execution_count": 77,
   "id": "c8dc60e8",
   "metadata": {},
   "outputs": [
    {
     "data": {
      "text/plain": [
       "Index(['Page Views Per Visit', 'TotalVisits', 'Last Activity', 'Lead Source',\n",
       "       'A free copy of Mastering The Interview', 'Search',\n",
       "       'Total Time Spent on Website', 'Converted', 'Do Not Email',\n",
       "       'Lead Origin', 'Last Notable Activity'],\n",
       "      dtype='object')"
      ]
     },
     "execution_count": 77,
     "metadata": {},
     "output_type": "execute_result"
    }
   ],
   "source": [
    "Leads.columns"
   ]
  },
  {
   "cell_type": "code",
   "execution_count": 78,
   "id": "faff06c7",
   "metadata": {},
   "outputs": [],
   "source": [
    "# Creating a dummy variable for some of the categorical variables and dropping the first one.\n",
    "dummy1 = pd.get_dummies(Leads[obj], drop_first=True)\n",
    "\n",
    "# Adding the results to the master dataframe\n",
    "Leads = pd.concat([Leads, dummy1], axis=1)\n",
    "\n",
    "#Dropping the original columns\n",
    "Leads = Leads.drop(obj, 1)"
   ]
  },
  {
   "cell_type": "code",
   "execution_count": 79,
   "id": "0195d78b",
   "metadata": {},
   "outputs": [
    {
     "data": {
      "text/plain": [
       "(9240, 23)"
      ]
     },
     "execution_count": 79,
     "metadata": {},
     "output_type": "execute_result"
    }
   ],
   "source": [
    "Leads.shape"
   ]
  },
  {
   "cell_type": "markdown",
   "id": "ddd02fce",
   "metadata": {},
   "source": [
    "### Test - Train Split"
   ]
  },
  {
   "cell_type": "markdown",
   "id": "458390d4",
   "metadata": {},
   "source": [
    "#### Splitting the Target Variable"
   ]
  },
  {
   "cell_type": "code",
   "execution_count": 80,
   "id": "cfeb8068",
   "metadata": {},
   "outputs": [],
   "source": [
    "from sklearn.model_selection import train_test_split"
   ]
  },
  {
   "cell_type": "code",
   "execution_count": 81,
   "id": "fb4c78be",
   "metadata": {},
   "outputs": [
    {
     "data": {
      "text/html": [
       "<div>\n",
       "<style scoped>\n",
       "    .dataframe tbody tr th:only-of-type {\n",
       "        vertical-align: middle;\n",
       "    }\n",
       "\n",
       "    .dataframe tbody tr th {\n",
       "        vertical-align: top;\n",
       "    }\n",
       "\n",
       "    .dataframe thead th {\n",
       "        text-align: right;\n",
       "    }\n",
       "</style>\n",
       "<table border=\"1\" class=\"dataframe\">\n",
       "  <thead>\n",
       "    <tr style=\"text-align: right;\">\n",
       "      <th></th>\n",
       "      <th>Page Views Per Visit</th>\n",
       "      <th>TotalVisits</th>\n",
       "      <th>A free copy of Mastering The Interview</th>\n",
       "      <th>Search</th>\n",
       "      <th>Total Time Spent on Website</th>\n",
       "      <th>Do Not Email</th>\n",
       "      <th>Last Activity_Olark Chat Conversation</th>\n",
       "      <th>Last Activity_Others</th>\n",
       "      <th>Last Activity_Page Visited on Website</th>\n",
       "      <th>Last Activity_SMS Sent</th>\n",
       "      <th>...</th>\n",
       "      <th>Lead Source_Organic Search</th>\n",
       "      <th>Lead Source_Others</th>\n",
       "      <th>Lead Origin_Landing Page Submission</th>\n",
       "      <th>Lead Origin_Lead Add Form</th>\n",
       "      <th>Lead Origin_Lead Import</th>\n",
       "      <th>Lead Origin_Others</th>\n",
       "      <th>Last Notable Activity_Modified</th>\n",
       "      <th>Last Notable Activity_Others</th>\n",
       "      <th>Last Notable Activity_Page Visited on Website</th>\n",
       "      <th>Last Notable Activity_SMS Sent</th>\n",
       "    </tr>\n",
       "  </thead>\n",
       "  <tbody>\n",
       "    <tr>\n",
       "      <th>0</th>\n",
       "      <td>0.0</td>\n",
       "      <td>0.0</td>\n",
       "      <td>0</td>\n",
       "      <td>0</td>\n",
       "      <td>0.0</td>\n",
       "      <td>0</td>\n",
       "      <td>0</td>\n",
       "      <td>0</td>\n",
       "      <td>1</td>\n",
       "      <td>0</td>\n",
       "      <td>...</td>\n",
       "      <td>0</td>\n",
       "      <td>0</td>\n",
       "      <td>0</td>\n",
       "      <td>0</td>\n",
       "      <td>0</td>\n",
       "      <td>0</td>\n",
       "      <td>1</td>\n",
       "      <td>0</td>\n",
       "      <td>0</td>\n",
       "      <td>0</td>\n",
       "    </tr>\n",
       "    <tr>\n",
       "      <th>1</th>\n",
       "      <td>2.5</td>\n",
       "      <td>5.0</td>\n",
       "      <td>0</td>\n",
       "      <td>0</td>\n",
       "      <td>674.0</td>\n",
       "      <td>0</td>\n",
       "      <td>0</td>\n",
       "      <td>0</td>\n",
       "      <td>0</td>\n",
       "      <td>0</td>\n",
       "      <td>...</td>\n",
       "      <td>1</td>\n",
       "      <td>0</td>\n",
       "      <td>0</td>\n",
       "      <td>0</td>\n",
       "      <td>0</td>\n",
       "      <td>0</td>\n",
       "      <td>0</td>\n",
       "      <td>0</td>\n",
       "      <td>0</td>\n",
       "      <td>0</td>\n",
       "    </tr>\n",
       "    <tr>\n",
       "      <th>2</th>\n",
       "      <td>2.0</td>\n",
       "      <td>2.0</td>\n",
       "      <td>1</td>\n",
       "      <td>0</td>\n",
       "      <td>1532.0</td>\n",
       "      <td>0</td>\n",
       "      <td>0</td>\n",
       "      <td>0</td>\n",
       "      <td>0</td>\n",
       "      <td>0</td>\n",
       "      <td>...</td>\n",
       "      <td>0</td>\n",
       "      <td>0</td>\n",
       "      <td>1</td>\n",
       "      <td>0</td>\n",
       "      <td>0</td>\n",
       "      <td>0</td>\n",
       "      <td>0</td>\n",
       "      <td>0</td>\n",
       "      <td>0</td>\n",
       "      <td>0</td>\n",
       "    </tr>\n",
       "    <tr>\n",
       "      <th>3</th>\n",
       "      <td>1.0</td>\n",
       "      <td>1.0</td>\n",
       "      <td>0</td>\n",
       "      <td>0</td>\n",
       "      <td>305.0</td>\n",
       "      <td>0</td>\n",
       "      <td>0</td>\n",
       "      <td>1</td>\n",
       "      <td>0</td>\n",
       "      <td>0</td>\n",
       "      <td>...</td>\n",
       "      <td>0</td>\n",
       "      <td>0</td>\n",
       "      <td>1</td>\n",
       "      <td>0</td>\n",
       "      <td>0</td>\n",
       "      <td>0</td>\n",
       "      <td>1</td>\n",
       "      <td>0</td>\n",
       "      <td>0</td>\n",
       "      <td>0</td>\n",
       "    </tr>\n",
       "    <tr>\n",
       "      <th>4</th>\n",
       "      <td>1.0</td>\n",
       "      <td>2.0</td>\n",
       "      <td>0</td>\n",
       "      <td>0</td>\n",
       "      <td>1428.0</td>\n",
       "      <td>0</td>\n",
       "      <td>0</td>\n",
       "      <td>1</td>\n",
       "      <td>0</td>\n",
       "      <td>0</td>\n",
       "      <td>...</td>\n",
       "      <td>0</td>\n",
       "      <td>0</td>\n",
       "      <td>1</td>\n",
       "      <td>0</td>\n",
       "      <td>0</td>\n",
       "      <td>0</td>\n",
       "      <td>1</td>\n",
       "      <td>0</td>\n",
       "      <td>0</td>\n",
       "      <td>0</td>\n",
       "    </tr>\n",
       "  </tbody>\n",
       "</table>\n",
       "<p>5 rows × 22 columns</p>\n",
       "</div>"
      ],
      "text/plain": [
       "   Page Views Per Visit  TotalVisits  A free copy of Mastering The Interview  \\\n",
       "0                   0.0          0.0                                       0   \n",
       "1                   2.5          5.0                                       0   \n",
       "2                   2.0          2.0                                       1   \n",
       "3                   1.0          1.0                                       0   \n",
       "4                   1.0          2.0                                       0   \n",
       "\n",
       "   Search  Total Time Spent on Website  Do Not Email  \\\n",
       "0       0                          0.0             0   \n",
       "1       0                        674.0             0   \n",
       "2       0                       1532.0             0   \n",
       "3       0                        305.0             0   \n",
       "4       0                       1428.0             0   \n",
       "\n",
       "   Last Activity_Olark Chat Conversation  Last Activity_Others  \\\n",
       "0                                      0                     0   \n",
       "1                                      0                     0   \n",
       "2                                      0                     0   \n",
       "3                                      0                     1   \n",
       "4                                      0                     1   \n",
       "\n",
       "   Last Activity_Page Visited on Website  Last Activity_SMS Sent  ...  \\\n",
       "0                                      1                       0  ...   \n",
       "1                                      0                       0  ...   \n",
       "2                                      0                       0  ...   \n",
       "3                                      0                       0  ...   \n",
       "4                                      0                       0  ...   \n",
       "\n",
       "   Lead Source_Organic Search  Lead Source_Others  \\\n",
       "0                           0                   0   \n",
       "1                           1                   0   \n",
       "2                           0                   0   \n",
       "3                           0                   0   \n",
       "4                           0                   0   \n",
       "\n",
       "   Lead Origin_Landing Page Submission  Lead Origin_Lead Add Form  \\\n",
       "0                                    0                          0   \n",
       "1                                    0                          0   \n",
       "2                                    1                          0   \n",
       "3                                    1                          0   \n",
       "4                                    1                          0   \n",
       "\n",
       "   Lead Origin_Lead Import  Lead Origin_Others  \\\n",
       "0                        0                   0   \n",
       "1                        0                   0   \n",
       "2                        0                   0   \n",
       "3                        0                   0   \n",
       "4                        0                   0   \n",
       "\n",
       "   Last Notable Activity_Modified  Last Notable Activity_Others  \\\n",
       "0                               1                             0   \n",
       "1                               0                             0   \n",
       "2                               0                             0   \n",
       "3                               1                             0   \n",
       "4                               1                             0   \n",
       "\n",
       "   Last Notable Activity_Page Visited on Website  \\\n",
       "0                                              0   \n",
       "1                                              0   \n",
       "2                                              0   \n",
       "3                                              0   \n",
       "4                                              0   \n",
       "\n",
       "   Last Notable Activity_SMS Sent  \n",
       "0                               0  \n",
       "1                               0  \n",
       "2                               0  \n",
       "3                               0  \n",
       "4                               0  \n",
       "\n",
       "[5 rows x 22 columns]"
      ]
     },
     "execution_count": 81,
     "metadata": {},
     "output_type": "execute_result"
    }
   ],
   "source": [
    "# Putting feature variable to X\n",
    "X = Leads.drop('Converted', axis=1)\n",
    "\n",
    "X.head()"
   ]
  },
  {
   "cell_type": "code",
   "execution_count": 82,
   "id": "63407d1b",
   "metadata": {},
   "outputs": [
    {
     "data": {
      "text/plain": [
       "0    0\n",
       "1    0\n",
       "2    1\n",
       "3    0\n",
       "4    1\n",
       "Name: Converted, dtype: int64"
      ]
     },
     "execution_count": 82,
     "metadata": {},
     "output_type": "execute_result"
    }
   ],
   "source": [
    "y = Leads['Converted']\n",
    "\n",
    "y.head()"
   ]
  },
  {
   "cell_type": "markdown",
   "id": "88ff33f7",
   "metadata": {},
   "source": [
    "#### Splitting the data into train and test"
   ]
  },
  {
   "cell_type": "code",
   "execution_count": 83,
   "id": "eb1bc8e6",
   "metadata": {},
   "outputs": [],
   "source": [
    "X_train, X_test, y_train, y_test = train_test_split(X, y, train_size=0.7, test_size=0.3, random_state=100)"
   ]
  },
  {
   "cell_type": "markdown",
   "id": "d2737e86",
   "metadata": {},
   "source": [
    "### Rescaling the Features"
   ]
  },
  {
   "cell_type": "markdown",
   "id": "83f659c5",
   "metadata": {},
   "source": [
    "As we can see values in some columns are quite high. These will not be easy to interpret, hence it is better to scale them. We will use Standard Scaling for this purpose:"
   ]
  },
  {
   "cell_type": "code",
   "execution_count": 84,
   "id": "2a15ad61",
   "metadata": {},
   "outputs": [],
   "source": [
    "from sklearn.preprocessing import MinMaxScaler"
   ]
  },
  {
   "cell_type": "code",
   "execution_count": 85,
   "id": "9a8371c8",
   "metadata": {},
   "outputs": [
    {
     "data": {
      "text/html": [
       "<div>\n",
       "<style scoped>\n",
       "    .dataframe tbody tr th:only-of-type {\n",
       "        vertical-align: middle;\n",
       "    }\n",
       "\n",
       "    .dataframe tbody tr th {\n",
       "        vertical-align: top;\n",
       "    }\n",
       "\n",
       "    .dataframe thead th {\n",
       "        text-align: right;\n",
       "    }\n",
       "</style>\n",
       "<table border=\"1\" class=\"dataframe\">\n",
       "  <thead>\n",
       "    <tr style=\"text-align: right;\">\n",
       "      <th></th>\n",
       "      <th>Page Views Per Visit</th>\n",
       "      <th>TotalVisits</th>\n",
       "      <th>A free copy of Mastering The Interview</th>\n",
       "      <th>Search</th>\n",
       "      <th>Total Time Spent on Website</th>\n",
       "      <th>Do Not Email</th>\n",
       "      <th>Last Activity_Olark Chat Conversation</th>\n",
       "      <th>Last Activity_Others</th>\n",
       "      <th>Last Activity_Page Visited on Website</th>\n",
       "      <th>Last Activity_SMS Sent</th>\n",
       "      <th>...</th>\n",
       "      <th>Lead Source_Organic Search</th>\n",
       "      <th>Lead Source_Others</th>\n",
       "      <th>Lead Origin_Landing Page Submission</th>\n",
       "      <th>Lead Origin_Lead Add Form</th>\n",
       "      <th>Lead Origin_Lead Import</th>\n",
       "      <th>Lead Origin_Others</th>\n",
       "      <th>Last Notable Activity_Modified</th>\n",
       "      <th>Last Notable Activity_Others</th>\n",
       "      <th>Last Notable Activity_Page Visited on Website</th>\n",
       "      <th>Last Notable Activity_SMS Sent</th>\n",
       "    </tr>\n",
       "  </thead>\n",
       "  <tbody>\n",
       "    <tr>\n",
       "      <th>1871</th>\n",
       "      <td>0.000000</td>\n",
       "      <td>0.000000</td>\n",
       "      <td>0</td>\n",
       "      <td>0</td>\n",
       "      <td>0.000000</td>\n",
       "      <td>0</td>\n",
       "      <td>0</td>\n",
       "      <td>0</td>\n",
       "      <td>0</td>\n",
       "      <td>0</td>\n",
       "      <td>...</td>\n",
       "      <td>0</td>\n",
       "      <td>0</td>\n",
       "      <td>0</td>\n",
       "      <td>0</td>\n",
       "      <td>0</td>\n",
       "      <td>0</td>\n",
       "      <td>0</td>\n",
       "      <td>0</td>\n",
       "      <td>0</td>\n",
       "      <td>0</td>\n",
       "    </tr>\n",
       "    <tr>\n",
       "      <th>6795</th>\n",
       "      <td>0.221667</td>\n",
       "      <td>0.363636</td>\n",
       "      <td>1</td>\n",
       "      <td>0</td>\n",
       "      <td>0.214349</td>\n",
       "      <td>0</td>\n",
       "      <td>0</td>\n",
       "      <td>0</td>\n",
       "      <td>0</td>\n",
       "      <td>0</td>\n",
       "      <td>...</td>\n",
       "      <td>0</td>\n",
       "      <td>0</td>\n",
       "      <td>1</td>\n",
       "      <td>0</td>\n",
       "      <td>0</td>\n",
       "      <td>0</td>\n",
       "      <td>0</td>\n",
       "      <td>0</td>\n",
       "      <td>0</td>\n",
       "      <td>0</td>\n",
       "    </tr>\n",
       "    <tr>\n",
       "      <th>3516</th>\n",
       "      <td>0.416667</td>\n",
       "      <td>0.454545</td>\n",
       "      <td>0</td>\n",
       "      <td>0</td>\n",
       "      <td>0.046655</td>\n",
       "      <td>0</td>\n",
       "      <td>0</td>\n",
       "      <td>0</td>\n",
       "      <td>0</td>\n",
       "      <td>0</td>\n",
       "      <td>...</td>\n",
       "      <td>0</td>\n",
       "      <td>0</td>\n",
       "      <td>0</td>\n",
       "      <td>0</td>\n",
       "      <td>0</td>\n",
       "      <td>0</td>\n",
       "      <td>0</td>\n",
       "      <td>0</td>\n",
       "      <td>0</td>\n",
       "      <td>0</td>\n",
       "    </tr>\n",
       "    <tr>\n",
       "      <th>8105</th>\n",
       "      <td>0.833333</td>\n",
       "      <td>0.454545</td>\n",
       "      <td>0</td>\n",
       "      <td>0</td>\n",
       "      <td>0.541373</td>\n",
       "      <td>0</td>\n",
       "      <td>0</td>\n",
       "      <td>0</td>\n",
       "      <td>0</td>\n",
       "      <td>1</td>\n",
       "      <td>...</td>\n",
       "      <td>0</td>\n",
       "      <td>0</td>\n",
       "      <td>1</td>\n",
       "      <td>0</td>\n",
       "      <td>0</td>\n",
       "      <td>0</td>\n",
       "      <td>0</td>\n",
       "      <td>0</td>\n",
       "      <td>0</td>\n",
       "      <td>1</td>\n",
       "    </tr>\n",
       "    <tr>\n",
       "      <th>3934</th>\n",
       "      <td>0.000000</td>\n",
       "      <td>0.000000</td>\n",
       "      <td>0</td>\n",
       "      <td>0</td>\n",
       "      <td>0.000000</td>\n",
       "      <td>0</td>\n",
       "      <td>0</td>\n",
       "      <td>0</td>\n",
       "      <td>0</td>\n",
       "      <td>0</td>\n",
       "      <td>...</td>\n",
       "      <td>0</td>\n",
       "      <td>0</td>\n",
       "      <td>0</td>\n",
       "      <td>0</td>\n",
       "      <td>0</td>\n",
       "      <td>0</td>\n",
       "      <td>1</td>\n",
       "      <td>0</td>\n",
       "      <td>0</td>\n",
       "      <td>0</td>\n",
       "    </tr>\n",
       "  </tbody>\n",
       "</table>\n",
       "<p>5 rows × 22 columns</p>\n",
       "</div>"
      ],
      "text/plain": [
       "      Page Views Per Visit  TotalVisits  \\\n",
       "1871              0.000000     0.000000   \n",
       "6795              0.221667     0.363636   \n",
       "3516              0.416667     0.454545   \n",
       "8105              0.833333     0.454545   \n",
       "3934              0.000000     0.000000   \n",
       "\n",
       "      A free copy of Mastering The Interview  Search  \\\n",
       "1871                                       0       0   \n",
       "6795                                       1       0   \n",
       "3516                                       0       0   \n",
       "8105                                       0       0   \n",
       "3934                                       0       0   \n",
       "\n",
       "      Total Time Spent on Website  Do Not Email  \\\n",
       "1871                     0.000000             0   \n",
       "6795                     0.214349             0   \n",
       "3516                     0.046655             0   \n",
       "8105                     0.541373             0   \n",
       "3934                     0.000000             0   \n",
       "\n",
       "      Last Activity_Olark Chat Conversation  Last Activity_Others  \\\n",
       "1871                                      0                     0   \n",
       "6795                                      0                     0   \n",
       "3516                                      0                     0   \n",
       "8105                                      0                     0   \n",
       "3934                                      0                     0   \n",
       "\n",
       "      Last Activity_Page Visited on Website  Last Activity_SMS Sent  ...  \\\n",
       "1871                                      0                       0  ...   \n",
       "6795                                      0                       0  ...   \n",
       "3516                                      0                       0  ...   \n",
       "8105                                      0                       1  ...   \n",
       "3934                                      0                       0  ...   \n",
       "\n",
       "      Lead Source_Organic Search  Lead Source_Others  \\\n",
       "1871                           0                   0   \n",
       "6795                           0                   0   \n",
       "3516                           0                   0   \n",
       "8105                           0                   0   \n",
       "3934                           0                   0   \n",
       "\n",
       "      Lead Origin_Landing Page Submission  Lead Origin_Lead Add Form  \\\n",
       "1871                                    0                          0   \n",
       "6795                                    1                          0   \n",
       "3516                                    0                          0   \n",
       "8105                                    1                          0   \n",
       "3934                                    0                          0   \n",
       "\n",
       "      Lead Origin_Lead Import  Lead Origin_Others  \\\n",
       "1871                        0                   0   \n",
       "6795                        0                   0   \n",
       "3516                        0                   0   \n",
       "8105                        0                   0   \n",
       "3934                        0                   0   \n",
       "\n",
       "      Last Notable Activity_Modified  Last Notable Activity_Others  \\\n",
       "1871                               0                             0   \n",
       "6795                               0                             0   \n",
       "3516                               0                             0   \n",
       "8105                               0                             0   \n",
       "3934                               1                             0   \n",
       "\n",
       "      Last Notable Activity_Page Visited on Website  \\\n",
       "1871                                              0   \n",
       "6795                                              0   \n",
       "3516                                              0   \n",
       "8105                                              0   \n",
       "3934                                              0   \n",
       "\n",
       "      Last Notable Activity_SMS Sent  \n",
       "1871                               0  \n",
       "6795                               0  \n",
       "3516                               0  \n",
       "8105                               1  \n",
       "3934                               0  \n",
       "\n",
       "[5 rows x 22 columns]"
      ]
     },
     "execution_count": 85,
     "metadata": {},
     "output_type": "execute_result"
    }
   ],
   "source": [
    "scaler = MinMaxScaler()\n",
    "\n",
    "X_train[f64] = scaler.fit_transform(X_train[f64])\n",
    "X_test[f64] = scaler.transform(X_test[f64])\n",
    "\n",
    "X_train.head()"
   ]
  },
  {
   "cell_type": "code",
   "execution_count": null,
   "id": "0ad38bf8",
   "metadata": {},
   "outputs": [],
   "source": []
  },
  {
   "cell_type": "code",
   "execution_count": 86,
   "id": "08d0a5a9",
   "metadata": {},
   "outputs": [
    {
     "data": {
      "text/plain": [
       "38.53896103896104"
      ]
     },
     "execution_count": 86,
     "metadata": {},
     "output_type": "execute_result"
    }
   ],
   "source": [
    "Conversion = (sum(Leads['Converted'])/len(Leads['Converted'].index))*100\n",
    "Conversion"
   ]
  },
  {
   "cell_type": "code",
   "execution_count": 87,
   "id": "61342f26",
   "metadata": {},
   "outputs": [
    {
     "name": "stdout",
     "output_type": "stream",
     "text": [
      "<class 'pandas.core.frame.DataFrame'>\n",
      "Int64Index: 6468 entries, 1871 to 5640\n",
      "Data columns (total 22 columns):\n",
      " #   Column                                         Non-Null Count  Dtype  \n",
      "---  ------                                         --------------  -----  \n",
      " 0   Page Views Per Visit                           6468 non-null   float64\n",
      " 1   TotalVisits                                    6468 non-null   float64\n",
      " 2   A free copy of Mastering The Interview         6468 non-null   int64  \n",
      " 3   Search                                         6468 non-null   int64  \n",
      " 4   Total Time Spent on Website                    6468 non-null   float64\n",
      " 5   Do Not Email                                   6468 non-null   int64  \n",
      " 6   Last Activity_Olark Chat Conversation          6468 non-null   uint8  \n",
      " 7   Last Activity_Others                           6468 non-null   uint8  \n",
      " 8   Last Activity_Page Visited on Website          6468 non-null   uint8  \n",
      " 9   Last Activity_SMS Sent                         6468 non-null   uint8  \n",
      " 10  Lead Source_Google                             6468 non-null   uint8  \n",
      " 11  Lead Source_Olark Chat                         6468 non-null   uint8  \n",
      " 12  Lead Source_Organic Search                     6468 non-null   uint8  \n",
      " 13  Lead Source_Others                             6468 non-null   uint8  \n",
      " 14  Lead Origin_Landing Page Submission            6468 non-null   uint8  \n",
      " 15  Lead Origin_Lead Add Form                      6468 non-null   uint8  \n",
      " 16  Lead Origin_Lead Import                        6468 non-null   uint8  \n",
      " 17  Lead Origin_Others                             6468 non-null   uint8  \n",
      " 18  Last Notable Activity_Modified                 6468 non-null   uint8  \n",
      " 19  Last Notable Activity_Others                   6468 non-null   uint8  \n",
      " 20  Last Notable Activity_Page Visited on Website  6468 non-null   uint8  \n",
      " 21  Last Notable Activity_SMS Sent                 6468 non-null   uint8  \n",
      "dtypes: float64(3), int64(3), uint8(16)\n",
      "memory usage: 454.8 KB\n"
     ]
    }
   ],
   "source": [
    "X_train.info()"
   ]
  },
  {
   "cell_type": "code",
   "execution_count": null,
   "id": "70e63677",
   "metadata": {},
   "outputs": [],
   "source": []
  },
  {
   "cell_type": "markdown",
   "id": "63851dc7",
   "metadata": {},
   "source": [
    "## 5. Modelling"
   ]
  },
  {
   "cell_type": "markdown",
   "id": "7d91236f",
   "metadata": {},
   "source": [
    "### First Model"
   ]
  },
  {
   "cell_type": "code",
   "execution_count": 88,
   "id": "739f53b3",
   "metadata": {},
   "outputs": [],
   "source": [
    "import statsmodels.api as sm"
   ]
  },
  {
   "cell_type": "code",
   "execution_count": 89,
   "id": "7644b032",
   "metadata": {},
   "outputs": [
    {
     "data": {
      "text/html": [
       "<table class=\"simpletable\">\n",
       "<caption>Generalized Linear Model Regression Results</caption>\n",
       "<tr>\n",
       "  <th>Dep. Variable:</th>       <td>Converted</td>    <th>  No. Observations:  </th>  <td>  6468</td> \n",
       "</tr>\n",
       "<tr>\n",
       "  <th>Model:</th>                  <td>GLM</td>       <th>  Df Residuals:      </th>  <td>  6445</td> \n",
       "</tr>\n",
       "<tr>\n",
       "  <th>Model Family:</th>        <td>Binomial</td>     <th>  Df Model:          </th>  <td>    22</td> \n",
       "</tr>\n",
       "<tr>\n",
       "  <th>Link Function:</th>         <td>Logit</td>      <th>  Scale:             </th> <td>  1.0000</td>\n",
       "</tr>\n",
       "<tr>\n",
       "  <th>Method:</th>                <td>IRLS</td>       <th>  Log-Likelihood:    </th> <td> -2846.1</td>\n",
       "</tr>\n",
       "<tr>\n",
       "  <th>Date:</th>            <td>Sun, 05 Mar 2023</td> <th>  Deviance:          </th> <td>  5692.2</td>\n",
       "</tr>\n",
       "<tr>\n",
       "  <th>Time:</th>                <td>19:48:15</td>     <th>  Pearson chi2:      </th> <td>6.65e+03</td>\n",
       "</tr>\n",
       "<tr>\n",
       "  <th>No. Iterations:</th>         <td>19</td>        <th>  Pseudo R-squ. (CS):</th>  <td>0.3619</td> \n",
       "</tr>\n",
       "<tr>\n",
       "  <th>Covariance Type:</th>     <td>nonrobust</td>    <th>                     </th>     <td> </td>   \n",
       "</tr>\n",
       "</table>\n",
       "<table class=\"simpletable\">\n",
       "<tr>\n",
       "                        <td></td>                           <th>coef</th>     <th>std err</th>      <th>z</th>      <th>P>|z|</th>  <th>[0.025</th>    <th>0.975]</th>  \n",
       "</tr>\n",
       "<tr>\n",
       "  <th>const</th>                                         <td>   -2.1892</td> <td>    0.147</td> <td>  -14.914</td> <td> 0.000</td> <td>   -2.477</td> <td>   -1.901</td>\n",
       "</tr>\n",
       "<tr>\n",
       "  <th>Page Views Per Visit</th>                          <td>   -0.9486</td> <td>    0.196</td> <td>   -4.836</td> <td> 0.000</td> <td>   -1.333</td> <td>   -0.564</td>\n",
       "</tr>\n",
       "<tr>\n",
       "  <th>TotalVisits</th>                                   <td>    1.3110</td> <td>    0.198</td> <td>    6.622</td> <td> 0.000</td> <td>    0.923</td> <td>    1.699</td>\n",
       "</tr>\n",
       "<tr>\n",
       "  <th>A free copy of Mastering The Interview</th>        <td>   -0.0609</td> <td>    0.101</td> <td>   -0.603</td> <td> 0.546</td> <td>   -0.259</td> <td>    0.137</td>\n",
       "</tr>\n",
       "<tr>\n",
       "  <th>Search</th>                                        <td>    0.2530</td> <td>    0.695</td> <td>    0.364</td> <td> 0.716</td> <td>   -1.109</td> <td>    1.615</td>\n",
       "</tr>\n",
       "<tr>\n",
       "  <th>Total Time Spent on Website</th>                   <td>    4.5836</td> <td>    0.161</td> <td>   28.535</td> <td> 0.000</td> <td>    4.269</td> <td>    4.898</td>\n",
       "</tr>\n",
       "<tr>\n",
       "  <th>Do Not Email</th>                                  <td>   -1.2032</td> <td>    0.168</td> <td>   -7.147</td> <td> 0.000</td> <td>   -1.533</td> <td>   -0.873</td>\n",
       "</tr>\n",
       "<tr>\n",
       "  <th>Last Activity_Olark Chat Conversation</th>         <td>   -1.5039</td> <td>    0.205</td> <td>   -7.350</td> <td> 0.000</td> <td>   -1.905</td> <td>   -1.103</td>\n",
       "</tr>\n",
       "<tr>\n",
       "  <th>Last Activity_Others</th>                          <td>   -0.5459</td> <td>    0.172</td> <td>   -3.166</td> <td> 0.002</td> <td>   -0.884</td> <td>   -0.208</td>\n",
       "</tr>\n",
       "<tr>\n",
       "  <th>Last Activity_Page Visited on Website</th>         <td>   -0.6683</td> <td>    0.239</td> <td>   -2.800</td> <td> 0.005</td> <td>   -1.136</td> <td>   -0.200</td>\n",
       "</tr>\n",
       "<tr>\n",
       "  <th>Last Activity_SMS Sent</th>                        <td>    0.3668</td> <td>    0.174</td> <td>    2.107</td> <td> 0.035</td> <td>    0.026</td> <td>    0.708</td>\n",
       "</tr>\n",
       "<tr>\n",
       "  <th>Lead Source_Google</th>                            <td>    0.3293</td> <td>    0.108</td> <td>    3.040</td> <td> 0.002</td> <td>    0.117</td> <td>    0.542</td>\n",
       "</tr>\n",
       "<tr>\n",
       "  <th>Lead Source_Olark Chat</th>                        <td>    1.1928</td> <td>    0.156</td> <td>    7.653</td> <td> 0.000</td> <td>    0.887</td> <td>    1.498</td>\n",
       "</tr>\n",
       "<tr>\n",
       "  <th>Lead Source_Organic Search</th>                    <td>    0.1222</td> <td>    0.124</td> <td>    0.984</td> <td> 0.325</td> <td>   -0.121</td> <td>    0.366</td>\n",
       "</tr>\n",
       "<tr>\n",
       "  <th>Lead Source_Others</th>                            <td>    0.3679</td> <td>    0.254</td> <td>    1.449</td> <td> 0.147</td> <td>   -0.130</td> <td>    0.866</td>\n",
       "</tr>\n",
       "<tr>\n",
       "  <th>Lead Origin_Landing Page Submission</th>           <td>   -0.0445</td> <td>    0.102</td> <td>   -0.437</td> <td> 0.662</td> <td>   -0.244</td> <td>    0.155</td>\n",
       "</tr>\n",
       "<tr>\n",
       "  <th>Lead Origin_Lead Add Form</th>                     <td>    3.8290</td> <td>    0.291</td> <td>   13.174</td> <td> 0.000</td> <td>    3.259</td> <td>    4.399</td>\n",
       "</tr>\n",
       "<tr>\n",
       "  <th>Lead Origin_Lead Import</th>                       <td>   -0.2730</td> <td>    0.560</td> <td>   -0.488</td> <td> 0.626</td> <td>   -1.370</td> <td>    0.824</td>\n",
       "</tr>\n",
       "<tr>\n",
       "  <th>Lead Origin_Others</th>                            <td>   20.0218</td> <td> 1.77e+04</td> <td>    0.001</td> <td> 0.999</td> <td>-3.47e+04</td> <td> 3.48e+04</td>\n",
       "</tr>\n",
       "<tr>\n",
       "  <th>Last Notable Activity_Modified</th>                <td>   -0.3608</td> <td>    0.133</td> <td>   -2.716</td> <td> 0.007</td> <td>   -0.621</td> <td>   -0.100</td>\n",
       "</tr>\n",
       "<tr>\n",
       "  <th>Last Notable Activity_Others</th>                  <td>    0.5636</td> <td>    0.223</td> <td>    2.529</td> <td> 0.011</td> <td>    0.127</td> <td>    1.000</td>\n",
       "</tr>\n",
       "<tr>\n",
       "  <th>Last Notable Activity_Page Visited on Website</th> <td>    0.0649</td> <td>    0.302</td> <td>    0.215</td> <td> 0.830</td> <td>   -0.526</td> <td>    0.656</td>\n",
       "</tr>\n",
       "<tr>\n",
       "  <th>Last Notable Activity_SMS Sent</th>                <td>    1.0241</td> <td>    0.193</td> <td>    5.309</td> <td> 0.000</td> <td>    0.646</td> <td>    1.402</td>\n",
       "</tr>\n",
       "</table>"
      ],
      "text/plain": [
       "<class 'statsmodels.iolib.summary.Summary'>\n",
       "\"\"\"\n",
       "                 Generalized Linear Model Regression Results                  \n",
       "==============================================================================\n",
       "Dep. Variable:              Converted   No. Observations:                 6468\n",
       "Model:                            GLM   Df Residuals:                     6445\n",
       "Model Family:                Binomial   Df Model:                           22\n",
       "Link Function:                  Logit   Scale:                          1.0000\n",
       "Method:                          IRLS   Log-Likelihood:                -2846.1\n",
       "Date:                Sun, 05 Mar 2023   Deviance:                       5692.2\n",
       "Time:                        19:48:15   Pearson chi2:                 6.65e+03\n",
       "No. Iterations:                    19   Pseudo R-squ. (CS):             0.3619\n",
       "Covariance Type:            nonrobust                                         \n",
       "=================================================================================================================\n",
       "                                                    coef    std err          z      P>|z|      [0.025      0.975]\n",
       "-----------------------------------------------------------------------------------------------------------------\n",
       "const                                            -2.1892      0.147    -14.914      0.000      -2.477      -1.901\n",
       "Page Views Per Visit                             -0.9486      0.196     -4.836      0.000      -1.333      -0.564\n",
       "TotalVisits                                       1.3110      0.198      6.622      0.000       0.923       1.699\n",
       "A free copy of Mastering The Interview           -0.0609      0.101     -0.603      0.546      -0.259       0.137\n",
       "Search                                            0.2530      0.695      0.364      0.716      -1.109       1.615\n",
       "Total Time Spent on Website                       4.5836      0.161     28.535      0.000       4.269       4.898\n",
       "Do Not Email                                     -1.2032      0.168     -7.147      0.000      -1.533      -0.873\n",
       "Last Activity_Olark Chat Conversation            -1.5039      0.205     -7.350      0.000      -1.905      -1.103\n",
       "Last Activity_Others                             -0.5459      0.172     -3.166      0.002      -0.884      -0.208\n",
       "Last Activity_Page Visited on Website            -0.6683      0.239     -2.800      0.005      -1.136      -0.200\n",
       "Last Activity_SMS Sent                            0.3668      0.174      2.107      0.035       0.026       0.708\n",
       "Lead Source_Google                                0.3293      0.108      3.040      0.002       0.117       0.542\n",
       "Lead Source_Olark Chat                            1.1928      0.156      7.653      0.000       0.887       1.498\n",
       "Lead Source_Organic Search                        0.1222      0.124      0.984      0.325      -0.121       0.366\n",
       "Lead Source_Others                                0.3679      0.254      1.449      0.147      -0.130       0.866\n",
       "Lead Origin_Landing Page Submission              -0.0445      0.102     -0.437      0.662      -0.244       0.155\n",
       "Lead Origin_Lead Add Form                         3.8290      0.291     13.174      0.000       3.259       4.399\n",
       "Lead Origin_Lead Import                          -0.2730      0.560     -0.488      0.626      -1.370       0.824\n",
       "Lead Origin_Others                               20.0218   1.77e+04      0.001      0.999   -3.47e+04    3.48e+04\n",
       "Last Notable Activity_Modified                   -0.3608      0.133     -2.716      0.007      -0.621      -0.100\n",
       "Last Notable Activity_Others                      0.5636      0.223      2.529      0.011       0.127       1.000\n",
       "Last Notable Activity_Page Visited on Website     0.0649      0.302      0.215      0.830      -0.526       0.656\n",
       "Last Notable Activity_SMS Sent                    1.0241      0.193      5.309      0.000       0.646       1.402\n",
       "=================================================================================================================\n",
       "\"\"\""
      ]
     },
     "execution_count": 89,
     "metadata": {},
     "output_type": "execute_result"
    }
   ],
   "source": [
    "# Logistic regression model\n",
    "logm1 = sm.GLM(y_train.astype(float),(sm.add_constant(X_train.astype(float))), family = sm.families.Binomial())\n",
    "logm1.fit().summary()"
   ]
  },
  {
   "cell_type": "markdown",
   "id": "43478d99",
   "metadata": {},
   "source": [
    "As we see there are too many columns to deal with, Let's automate this initial selection using RFE"
   ]
  },
  {
   "cell_type": "markdown",
   "id": "a6ae91d9",
   "metadata": {},
   "source": [
    "## 6. Feature Selection Using RFE"
   ]
  },
  {
   "cell_type": "code",
   "execution_count": 90,
   "id": "72ab92df",
   "metadata": {},
   "outputs": [],
   "source": [
    "from sklearn.linear_model import LogisticRegression\n",
    "logreg = LogisticRegression()"
   ]
  },
  {
   "cell_type": "code",
   "execution_count": 91,
   "id": "765e017d",
   "metadata": {},
   "outputs": [],
   "source": [
    "from sklearn.feature_selection import RFE\n",
    "rfe = RFE(logreg , n_features_to_select=18)             # running RFE with 18 variables as output\n",
    "rfe = rfe.fit(X_train, y_train)"
   ]
  },
  {
   "cell_type": "code",
   "execution_count": 92,
   "id": "279a4770",
   "metadata": {},
   "outputs": [
    {
     "data": {
      "text/plain": [
       "array([ True,  True, False,  True,  True,  True,  True,  True,  True,\n",
       "        True,  True,  True, False,  True, False,  True,  True,  True,\n",
       "        True,  True, False,  True])"
      ]
     },
     "execution_count": 92,
     "metadata": {},
     "output_type": "execute_result"
    }
   ],
   "source": [
    "rfe.support_"
   ]
  },
  {
   "cell_type": "code",
   "execution_count": 93,
   "id": "9778ca7f",
   "metadata": {},
   "outputs": [
    {
     "data": {
      "text/plain": [
       "[('Page Views Per Visit', True, 1),\n",
       " ('TotalVisits', True, 1),\n",
       " ('A free copy of Mastering The Interview', False, 3),\n",
       " ('Search', True, 1),\n",
       " ('Total Time Spent on Website', True, 1),\n",
       " ('Do Not Email', True, 1),\n",
       " ('Last Activity_Olark Chat Conversation', True, 1),\n",
       " ('Last Activity_Others', True, 1),\n",
       " ('Last Activity_Page Visited on Website', True, 1),\n",
       " ('Last Activity_SMS Sent', True, 1),\n",
       " ('Lead Source_Google', True, 1),\n",
       " ('Lead Source_Olark Chat', True, 1),\n",
       " ('Lead Source_Organic Search', False, 2),\n",
       " ('Lead Source_Others', True, 1),\n",
       " ('Lead Origin_Landing Page Submission', False, 4),\n",
       " ('Lead Origin_Lead Add Form', True, 1),\n",
       " ('Lead Origin_Lead Import', True, 1),\n",
       " ('Lead Origin_Others', True, 1),\n",
       " ('Last Notable Activity_Modified', True, 1),\n",
       " ('Last Notable Activity_Others', True, 1),\n",
       " ('Last Notable Activity_Page Visited on Website', False, 5),\n",
       " ('Last Notable Activity_SMS Sent', True, 1)]"
      ]
     },
     "execution_count": 93,
     "metadata": {},
     "output_type": "execute_result"
    }
   ],
   "source": [
    "list(zip(X_train.columns, rfe.support_, rfe.ranking_))"
   ]
  },
  {
   "cell_type": "markdown",
   "id": "5ae10913",
   "metadata": {},
   "source": [
    "#### Storing the selected columns"
   ]
  },
  {
   "cell_type": "code",
   "execution_count": 94,
   "id": "68871410",
   "metadata": {},
   "outputs": [],
   "source": [
    "col1 = X_train.columns[rfe.support_]"
   ]
  },
  {
   "cell_type": "code",
   "execution_count": 95,
   "id": "4af49e60",
   "metadata": {},
   "outputs": [
    {
     "data": {
      "text/plain": [
       "Index(['Page Views Per Visit', 'TotalVisits', 'Search',\n",
       "       'Total Time Spent on Website', 'Do Not Email',\n",
       "       'Last Activity_Olark Chat Conversation', 'Last Activity_Others',\n",
       "       'Last Activity_Page Visited on Website', 'Last Activity_SMS Sent',\n",
       "       'Lead Source_Google', 'Lead Source_Olark Chat', 'Lead Source_Others',\n",
       "       'Lead Origin_Lead Add Form', 'Lead Origin_Lead Import',\n",
       "       'Lead Origin_Others', 'Last Notable Activity_Modified',\n",
       "       'Last Notable Activity_Others', 'Last Notable Activity_SMS Sent'],\n",
       "      dtype='object')"
      ]
     },
     "execution_count": 95,
     "metadata": {},
     "output_type": "execute_result"
    }
   ],
   "source": [
    "col1"
   ]
  },
  {
   "cell_type": "markdown",
   "id": "758ebcd3",
   "metadata": {},
   "source": [
    "## 7. Modeling with the selected features"
   ]
  },
  {
   "cell_type": "markdown",
   "id": "35bd9f2b",
   "metadata": {},
   "source": [
    "### Model 1"
   ]
  },
  {
   "cell_type": "code",
   "execution_count": 96,
   "id": "c985b703",
   "metadata": {
    "scrolled": true
   },
   "outputs": [
    {
     "data": {
      "text/html": [
       "<table class=\"simpletable\">\n",
       "<caption>Generalized Linear Model Regression Results</caption>\n",
       "<tr>\n",
       "  <th>Dep. Variable:</th>       <td>Converted</td>    <th>  No. Observations:  </th>  <td>  6468</td> \n",
       "</tr>\n",
       "<tr>\n",
       "  <th>Model:</th>                  <td>GLM</td>       <th>  Df Residuals:      </th>  <td>  6449</td> \n",
       "</tr>\n",
       "<tr>\n",
       "  <th>Model Family:</th>        <td>Binomial</td>     <th>  Df Model:          </th>  <td>    18</td> \n",
       "</tr>\n",
       "<tr>\n",
       "  <th>Link Function:</th>         <td>Logit</td>      <th>  Scale:             </th> <td>  1.0000</td>\n",
       "</tr>\n",
       "<tr>\n",
       "  <th>Method:</th>                <td>IRLS</td>       <th>  Log-Likelihood:    </th> <td> -2847.5</td>\n",
       "</tr>\n",
       "<tr>\n",
       "  <th>Date:</th>            <td>Sun, 05 Mar 2023</td> <th>  Deviance:          </th> <td>  5695.0</td>\n",
       "</tr>\n",
       "<tr>\n",
       "  <th>Time:</th>                <td>19:48:15</td>     <th>  Pearson chi2:      </th> <td>6.65e+03</td>\n",
       "</tr>\n",
       "<tr>\n",
       "  <th>No. Iterations:</th>         <td>19</td>        <th>  Pseudo R-squ. (CS):</th>  <td>0.3617</td> \n",
       "</tr>\n",
       "<tr>\n",
       "  <th>Covariance Type:</th>     <td>nonrobust</td>    <th>                     </th>     <td> </td>   \n",
       "</tr>\n",
       "</table>\n",
       "<table class=\"simpletable\">\n",
       "<tr>\n",
       "                    <td></td>                       <th>coef</th>     <th>std err</th>      <th>z</th>      <th>P>|z|</th>  <th>[0.025</th>    <th>0.975]</th>  \n",
       "</tr>\n",
       "<tr>\n",
       "  <th>const</th>                                 <td>   -2.2383</td> <td>    0.119</td> <td>  -18.790</td> <td> 0.000</td> <td>   -2.472</td> <td>   -2.005</td>\n",
       "</tr>\n",
       "<tr>\n",
       "  <th>Page Views Per Visit</th>                  <td>   -0.9468</td> <td>    0.189</td> <td>   -5.016</td> <td> 0.000</td> <td>   -1.317</td> <td>   -0.577</td>\n",
       "</tr>\n",
       "<tr>\n",
       "  <th>TotalVisits</th>                           <td>    1.3327</td> <td>    0.194</td> <td>    6.879</td> <td> 0.000</td> <td>    0.953</td> <td>    1.712</td>\n",
       "</tr>\n",
       "<tr>\n",
       "  <th>Search</th>                                <td>    0.2656</td> <td>    0.691</td> <td>    0.384</td> <td> 0.701</td> <td>   -1.090</td> <td>    1.621</td>\n",
       "</tr>\n",
       "<tr>\n",
       "  <th>Total Time Spent on Website</th>           <td>    4.5793</td> <td>    0.161</td> <td>   28.524</td> <td> 0.000</td> <td>    4.265</td> <td>    4.894</td>\n",
       "</tr>\n",
       "<tr>\n",
       "  <th>Do Not Email</th>                          <td>   -1.2050</td> <td>    0.168</td> <td>   -7.171</td> <td> 0.000</td> <td>   -1.534</td> <td>   -0.876</td>\n",
       "</tr>\n",
       "<tr>\n",
       "  <th>Last Activity_Olark Chat Conversation</th> <td>   -1.4811</td> <td>    0.199</td> <td>   -7.439</td> <td> 0.000</td> <td>   -1.871</td> <td>   -1.091</td>\n",
       "</tr>\n",
       "<tr>\n",
       "  <th>Last Activity_Others</th>                  <td>   -0.5331</td> <td>    0.165</td> <td>   -3.227</td> <td> 0.001</td> <td>   -0.857</td> <td>   -0.209</td>\n",
       "</tr>\n",
       "<tr>\n",
       "  <th>Last Activity_Page Visited on Website</th> <td>   -0.6333</td> <td>    0.150</td> <td>   -4.211</td> <td> 0.000</td> <td>   -0.928</td> <td>   -0.339</td>\n",
       "</tr>\n",
       "<tr>\n",
       "  <th>Last Activity_SMS Sent</th>                <td>    0.3736</td> <td>    0.167</td> <td>    2.236</td> <td> 0.025</td> <td>    0.046</td> <td>    0.701</td>\n",
       "</tr>\n",
       "<tr>\n",
       "  <th>Lead Source_Google</th>                    <td>    0.3375</td> <td>    0.077</td> <td>    4.382</td> <td> 0.000</td> <td>    0.187</td> <td>    0.488</td>\n",
       "</tr>\n",
       "<tr>\n",
       "  <th>Lead Source_Olark Chat</th>                <td>    1.2385</td> <td>    0.132</td> <td>    9.410</td> <td> 0.000</td> <td>    0.981</td> <td>    1.496</td>\n",
       "</tr>\n",
       "<tr>\n",
       "  <th>Lead Source_Others</th>                    <td>    0.3799</td> <td>    0.240</td> <td>    1.581</td> <td> 0.114</td> <td>   -0.091</td> <td>    0.851</td>\n",
       "</tr>\n",
       "<tr>\n",
       "  <th>Lead Origin_Lead Add Form</th>             <td>    3.8664</td> <td>    0.290</td> <td>   13.340</td> <td> 0.000</td> <td>    3.298</td> <td>    4.434</td>\n",
       "</tr>\n",
       "<tr>\n",
       "  <th>Lead Origin_Lead Import</th>               <td>   -0.2348</td> <td>    0.559</td> <td>   -0.420</td> <td> 0.675</td> <td>   -1.331</td> <td>    0.861</td>\n",
       "</tr>\n",
       "<tr>\n",
       "  <th>Lead Origin_Others</th>                    <td>   20.0580</td> <td> 1.77e+04</td> <td>    0.001</td> <td> 0.999</td> <td>-3.47e+04</td> <td> 3.48e+04</td>\n",
       "</tr>\n",
       "<tr>\n",
       "  <th>Last Notable Activity_Modified</th>        <td>   -0.3692</td> <td>    0.120</td> <td>   -3.089</td> <td> 0.002</td> <td>   -0.603</td> <td>   -0.135</td>\n",
       "</tr>\n",
       "<tr>\n",
       "  <th>Last Notable Activity_Others</th>          <td>    0.5483</td> <td>    0.215</td> <td>    2.554</td> <td> 0.011</td> <td>    0.128</td> <td>    0.969</td>\n",
       "</tr>\n",
       "<tr>\n",
       "  <th>Last Notable Activity_SMS Sent</th>        <td>    1.0160</td> <td>    0.184</td> <td>    5.516</td> <td> 0.000</td> <td>    0.655</td> <td>    1.377</td>\n",
       "</tr>\n",
       "</table>"
      ],
      "text/plain": [
       "<class 'statsmodels.iolib.summary.Summary'>\n",
       "\"\"\"\n",
       "                 Generalized Linear Model Regression Results                  \n",
       "==============================================================================\n",
       "Dep. Variable:              Converted   No. Observations:                 6468\n",
       "Model:                            GLM   Df Residuals:                     6449\n",
       "Model Family:                Binomial   Df Model:                           18\n",
       "Link Function:                  Logit   Scale:                          1.0000\n",
       "Method:                          IRLS   Log-Likelihood:                -2847.5\n",
       "Date:                Sun, 05 Mar 2023   Deviance:                       5695.0\n",
       "Time:                        19:48:15   Pearson chi2:                 6.65e+03\n",
       "No. Iterations:                    19   Pseudo R-squ. (CS):             0.3617\n",
       "Covariance Type:            nonrobust                                         \n",
       "=========================================================================================================\n",
       "                                            coef    std err          z      P>|z|      [0.025      0.975]\n",
       "---------------------------------------------------------------------------------------------------------\n",
       "const                                    -2.2383      0.119    -18.790      0.000      -2.472      -2.005\n",
       "Page Views Per Visit                     -0.9468      0.189     -5.016      0.000      -1.317      -0.577\n",
       "TotalVisits                               1.3327      0.194      6.879      0.000       0.953       1.712\n",
       "Search                                    0.2656      0.691      0.384      0.701      -1.090       1.621\n",
       "Total Time Spent on Website               4.5793      0.161     28.524      0.000       4.265       4.894\n",
       "Do Not Email                             -1.2050      0.168     -7.171      0.000      -1.534      -0.876\n",
       "Last Activity_Olark Chat Conversation    -1.4811      0.199     -7.439      0.000      -1.871      -1.091\n",
       "Last Activity_Others                     -0.5331      0.165     -3.227      0.001      -0.857      -0.209\n",
       "Last Activity_Page Visited on Website    -0.6333      0.150     -4.211      0.000      -0.928      -0.339\n",
       "Last Activity_SMS Sent                    0.3736      0.167      2.236      0.025       0.046       0.701\n",
       "Lead Source_Google                        0.3375      0.077      4.382      0.000       0.187       0.488\n",
       "Lead Source_Olark Chat                    1.2385      0.132      9.410      0.000       0.981       1.496\n",
       "Lead Source_Others                        0.3799      0.240      1.581      0.114      -0.091       0.851\n",
       "Lead Origin_Lead Add Form                 3.8664      0.290     13.340      0.000       3.298       4.434\n",
       "Lead Origin_Lead Import                  -0.2348      0.559     -0.420      0.675      -1.331       0.861\n",
       "Lead Origin_Others                       20.0580   1.77e+04      0.001      0.999   -3.47e+04    3.48e+04\n",
       "Last Notable Activity_Modified           -0.3692      0.120     -3.089      0.002      -0.603      -0.135\n",
       "Last Notable Activity_Others              0.5483      0.215      2.554      0.011       0.128       0.969\n",
       "Last Notable Activity_SMS Sent            1.0160      0.184      5.516      0.000       0.655       1.377\n",
       "=========================================================================================================\n",
       "\"\"\""
      ]
     },
     "execution_count": 96,
     "metadata": {},
     "output_type": "execute_result"
    }
   ],
   "source": [
    "X_train_sm = sm.add_constant(X_train[col1])\n",
    "logm01 = sm.GLM(y_train,X_train_sm, family = sm.families.Binomial())\n",
    "res = logm01.fit()\n",
    "res.summary()"
   ]
  },
  {
   "cell_type": "code",
   "execution_count": 97,
   "id": "81fbadc1",
   "metadata": {},
   "outputs": [
    {
     "data": {
      "text/html": [
       "<div>\n",
       "<style scoped>\n",
       "    .dataframe tbody tr th:only-of-type {\n",
       "        vertical-align: middle;\n",
       "    }\n",
       "\n",
       "    .dataframe tbody tr th {\n",
       "        vertical-align: top;\n",
       "    }\n",
       "\n",
       "    .dataframe thead th {\n",
       "        text-align: right;\n",
       "    }\n",
       "</style>\n",
       "<table border=\"1\" class=\"dataframe\">\n",
       "  <thead>\n",
       "    <tr style=\"text-align: right;\">\n",
       "      <th></th>\n",
       "      <th>Converted</th>\n",
       "      <th>Conversion_Prob</th>\n",
       "      <th>LeadID</th>\n",
       "      <th>predicted</th>\n",
       "    </tr>\n",
       "  </thead>\n",
       "  <tbody>\n",
       "    <tr>\n",
       "      <th>0</th>\n",
       "      <td>0</td>\n",
       "      <td>0.268978</td>\n",
       "      <td>1871</td>\n",
       "      <td>0</td>\n",
       "    </tr>\n",
       "    <tr>\n",
       "      <th>1</th>\n",
       "      <td>0</td>\n",
       "      <td>0.272488</td>\n",
       "      <td>6795</td>\n",
       "      <td>0</td>\n",
       "    </tr>\n",
       "    <tr>\n",
       "      <th>2</th>\n",
       "      <td>0</td>\n",
       "      <td>0.360102</td>\n",
       "      <td>3516</td>\n",
       "      <td>0</td>\n",
       "    </tr>\n",
       "    <tr>\n",
       "      <th>3</th>\n",
       "      <td>0</td>\n",
       "      <td>0.856264</td>\n",
       "      <td>8105</td>\n",
       "      <td>1</td>\n",
       "    </tr>\n",
       "    <tr>\n",
       "      <th>4</th>\n",
       "      <td>0</td>\n",
       "      <td>0.202775</td>\n",
       "      <td>3934</td>\n",
       "      <td>0</td>\n",
       "    </tr>\n",
       "    <tr>\n",
       "      <th>5</th>\n",
       "      <td>1</td>\n",
       "      <td>0.912745</td>\n",
       "      <td>4844</td>\n",
       "      <td>1</td>\n",
       "    </tr>\n",
       "    <tr>\n",
       "      <th>6</th>\n",
       "      <td>0</td>\n",
       "      <td>0.145385</td>\n",
       "      <td>3297</td>\n",
       "      <td>0</td>\n",
       "    </tr>\n",
       "    <tr>\n",
       "      <th>7</th>\n",
       "      <td>1</td>\n",
       "      <td>0.863034</td>\n",
       "      <td>8071</td>\n",
       "      <td>1</td>\n",
       "    </tr>\n",
       "    <tr>\n",
       "      <th>8</th>\n",
       "      <td>0</td>\n",
       "      <td>0.239618</td>\n",
       "      <td>987</td>\n",
       "      <td>0</td>\n",
       "    </tr>\n",
       "    <tr>\n",
       "      <th>9</th>\n",
       "      <td>1</td>\n",
       "      <td>0.940799</td>\n",
       "      <td>7423</td>\n",
       "      <td>1</td>\n",
       "    </tr>\n",
       "    <tr>\n",
       "      <th>10</th>\n",
       "      <td>1</td>\n",
       "      <td>0.846416</td>\n",
       "      <td>1032</td>\n",
       "      <td>1</td>\n",
       "    </tr>\n",
       "    <tr>\n",
       "      <th>11</th>\n",
       "      <td>0</td>\n",
       "      <td>0.408052</td>\n",
       "      <td>6542</td>\n",
       "      <td>0</td>\n",
       "    </tr>\n",
       "    <tr>\n",
       "      <th>12</th>\n",
       "      <td>1</td>\n",
       "      <td>0.110043</td>\n",
       "      <td>4317</td>\n",
       "      <td>0</td>\n",
       "    </tr>\n",
       "    <tr>\n",
       "      <th>13</th>\n",
       "      <td>1</td>\n",
       "      <td>0.500137</td>\n",
       "      <td>6472</td>\n",
       "      <td>1</td>\n",
       "    </tr>\n",
       "    <tr>\n",
       "      <th>14</th>\n",
       "      <td>0</td>\n",
       "      <td>0.073407</td>\n",
       "      <td>712</td>\n",
       "      <td>0</td>\n",
       "    </tr>\n",
       "    <tr>\n",
       "      <th>15</th>\n",
       "      <td>0</td>\n",
       "      <td>0.268978</td>\n",
       "      <td>3960</td>\n",
       "      <td>0</td>\n",
       "    </tr>\n",
       "    <tr>\n",
       "      <th>16</th>\n",
       "      <td>0</td>\n",
       "      <td>0.268978</td>\n",
       "      <td>4654</td>\n",
       "      <td>0</td>\n",
       "    </tr>\n",
       "    <tr>\n",
       "      <th>17</th>\n",
       "      <td>0</td>\n",
       "      <td>0.015239</td>\n",
       "      <td>5902</td>\n",
       "      <td>0</td>\n",
       "    </tr>\n",
       "    <tr>\n",
       "      <th>18</th>\n",
       "      <td>0</td>\n",
       "      <td>0.268978</td>\n",
       "      <td>4691</td>\n",
       "      <td>0</td>\n",
       "    </tr>\n",
       "    <tr>\n",
       "      <th>19</th>\n",
       "      <td>1</td>\n",
       "      <td>0.175942</td>\n",
       "      <td>4341</td>\n",
       "      <td>0</td>\n",
       "    </tr>\n",
       "  </tbody>\n",
       "</table>\n",
       "</div>"
      ],
      "text/plain": [
       "    Converted  Conversion_Prob  LeadID  predicted\n",
       "0           0         0.268978    1871          0\n",
       "1           0         0.272488    6795          0\n",
       "2           0         0.360102    3516          0\n",
       "3           0         0.856264    8105          1\n",
       "4           0         0.202775    3934          0\n",
       "5           1         0.912745    4844          1\n",
       "6           0         0.145385    3297          0\n",
       "7           1         0.863034    8071          1\n",
       "8           0         0.239618     987          0\n",
       "9           1         0.940799    7423          1\n",
       "10          1         0.846416    1032          1\n",
       "11          0         0.408052    6542          0\n",
       "12          1         0.110043    4317          0\n",
       "13          1         0.500137    6472          1\n",
       "14          0         0.073407     712          0\n",
       "15          0         0.268978    3960          0\n",
       "16          0         0.268978    4654          0\n",
       "17          0         0.015239    5902          0\n",
       "18          0         0.268978    4691          0\n",
       "19          1         0.175942    4341          0"
      ]
     },
     "execution_count": 97,
     "metadata": {},
     "output_type": "execute_result"
    }
   ],
   "source": [
    "y_train_pred = res.predict(X_train_sm)\n",
    "y_train_pred = y_train_pred.values.reshape(-1)\n",
    "y_train_pred_final = pd.DataFrame({'Converted':y_train.values, 'Conversion_Prob':y_train_pred})\n",
    "y_train_pred_final['LeadID'] = y_train.index\n",
    "y_train_pred_final['predicted'] = y_train_pred_final.Conversion_Prob.map(lambda x: 1 if x > 0.5 else 0)\n",
    "\n",
    "# Let's see the head\n",
    "y_train_pred_final.head(20)"
   ]
  },
  {
   "cell_type": "markdown",
   "id": "e446d851",
   "metadata": {},
   "source": [
    "### Lets look at some metrics"
   ]
  },
  {
   "cell_type": "code",
   "execution_count": 98,
   "id": "9bca7cb3",
   "metadata": {},
   "outputs": [],
   "source": [
    "from sklearn import metrics"
   ]
  },
  {
   "cell_type": "code",
   "execution_count": 99,
   "id": "d7d3ca2c",
   "metadata": {},
   "outputs": [
    {
     "name": "stdout",
     "output_type": "stream",
     "text": [
      "[[3515  487]\n",
      " [ 791 1675]]\n"
     ]
    }
   ],
   "source": [
    "# Confusion matrix \n",
    "confusion = metrics.confusion_matrix(y_train_pred_final.Converted, y_train_pred_final.predicted )\n",
    "print(confusion)"
   ]
  },
  {
   "cell_type": "code",
   "execution_count": 100,
   "id": "a80721d2",
   "metadata": {},
   "outputs": [
    {
     "name": "stdout",
     "output_type": "stream",
     "text": [
      "0.8024118738404453\n"
     ]
    }
   ],
   "source": [
    "# Let's check the overall accuracy.\n",
    "print(metrics.accuracy_score(y_train_pred_final.Converted, y_train_pred_final.predicted))"
   ]
  },
  {
   "cell_type": "code",
   "execution_count": 101,
   "id": "690b30a8",
   "metadata": {},
   "outputs": [],
   "source": [
    "# Check for the VIF values of the feature variables. \n",
    "from statsmodels.stats.outliers_influence import variance_inflation_factor"
   ]
  },
  {
   "cell_type": "code",
   "execution_count": 102,
   "id": "04577e95",
   "metadata": {},
   "outputs": [
    {
     "data": {
      "text/html": [
       "<div>\n",
       "<style scoped>\n",
       "    .dataframe tbody tr th:only-of-type {\n",
       "        vertical-align: middle;\n",
       "    }\n",
       "\n",
       "    .dataframe tbody tr th {\n",
       "        vertical-align: top;\n",
       "    }\n",
       "\n",
       "    .dataframe thead th {\n",
       "        text-align: right;\n",
       "    }\n",
       "</style>\n",
       "<table border=\"1\" class=\"dataframe\">\n",
       "  <thead>\n",
       "    <tr style=\"text-align: right;\">\n",
       "      <th></th>\n",
       "      <th>Features</th>\n",
       "      <th>VIF</th>\n",
       "    </tr>\n",
       "  </thead>\n",
       "  <tbody>\n",
       "    <tr>\n",
       "      <th>8</th>\n",
       "      <td>Last Activity_SMS Sent</td>\n",
       "      <td>8.06</td>\n",
       "    </tr>\n",
       "    <tr>\n",
       "      <th>17</th>\n",
       "      <td>Last Notable Activity_SMS Sent</td>\n",
       "      <td>7.85</td>\n",
       "    </tr>\n",
       "    <tr>\n",
       "      <th>0</th>\n",
       "      <td>Page Views Per Visit</td>\n",
       "      <td>6.28</td>\n",
       "    </tr>\n",
       "    <tr>\n",
       "      <th>1</th>\n",
       "      <td>TotalVisits</td>\n",
       "      <td>5.55</td>\n",
       "    </tr>\n",
       "    <tr>\n",
       "      <th>11</th>\n",
       "      <td>Lead Source_Others</td>\n",
       "      <td>4.94</td>\n",
       "    </tr>\n",
       "    <tr>\n",
       "      <th>12</th>\n",
       "      <td>Lead Origin_Lead Add Form</td>\n",
       "      <td>4.75</td>\n",
       "    </tr>\n",
       "    <tr>\n",
       "      <th>15</th>\n",
       "      <td>Last Notable Activity_Modified</td>\n",
       "      <td>4.71</td>\n",
       "    </tr>\n",
       "    <tr>\n",
       "      <th>6</th>\n",
       "      <td>Last Activity_Others</td>\n",
       "      <td>2.97</td>\n",
       "    </tr>\n",
       "    <tr>\n",
       "      <th>5</th>\n",
       "      <td>Last Activity_Olark Chat Conversation</td>\n",
       "      <td>2.44</td>\n",
       "    </tr>\n",
       "    <tr>\n",
       "      <th>3</th>\n",
       "      <td>Total Time Spent on Website</td>\n",
       "      <td>2.10</td>\n",
       "    </tr>\n",
       "    <tr>\n",
       "      <th>16</th>\n",
       "      <td>Last Notable Activity_Others</td>\n",
       "      <td>2.01</td>\n",
       "    </tr>\n",
       "    <tr>\n",
       "      <th>9</th>\n",
       "      <td>Lead Source_Google</td>\n",
       "      <td>1.65</td>\n",
       "    </tr>\n",
       "    <tr>\n",
       "      <th>10</th>\n",
       "      <td>Lead Source_Olark Chat</td>\n",
       "      <td>1.56</td>\n",
       "    </tr>\n",
       "    <tr>\n",
       "      <th>7</th>\n",
       "      <td>Last Activity_Page Visited on Website</td>\n",
       "      <td>1.37</td>\n",
       "    </tr>\n",
       "    <tr>\n",
       "      <th>4</th>\n",
       "      <td>Do Not Email</td>\n",
       "      <td>1.27</td>\n",
       "    </tr>\n",
       "    <tr>\n",
       "      <th>13</th>\n",
       "      <td>Lead Origin_Lead Import</td>\n",
       "      <td>1.25</td>\n",
       "    </tr>\n",
       "    <tr>\n",
       "      <th>2</th>\n",
       "      <td>Search</td>\n",
       "      <td>1.01</td>\n",
       "    </tr>\n",
       "    <tr>\n",
       "      <th>14</th>\n",
       "      <td>Lead Origin_Others</td>\n",
       "      <td>1.00</td>\n",
       "    </tr>\n",
       "  </tbody>\n",
       "</table>\n",
       "</div>"
      ],
      "text/plain": [
       "                                 Features   VIF\n",
       "8                  Last Activity_SMS Sent  8.06\n",
       "17         Last Notable Activity_SMS Sent  7.85\n",
       "0                    Page Views Per Visit  6.28\n",
       "1                             TotalVisits  5.55\n",
       "11                     Lead Source_Others  4.94\n",
       "12              Lead Origin_Lead Add Form  4.75\n",
       "15         Last Notable Activity_Modified  4.71\n",
       "6                    Last Activity_Others  2.97\n",
       "5   Last Activity_Olark Chat Conversation  2.44\n",
       "3             Total Time Spent on Website  2.10\n",
       "16           Last Notable Activity_Others  2.01\n",
       "9                      Lead Source_Google  1.65\n",
       "10                 Lead Source_Olark Chat  1.56\n",
       "7   Last Activity_Page Visited on Website  1.37\n",
       "4                            Do Not Email  1.27\n",
       "13                Lead Origin_Lead Import  1.25\n",
       "2                                  Search  1.01\n",
       "14                     Lead Origin_Others  1.00"
      ]
     },
     "execution_count": 102,
     "metadata": {},
     "output_type": "execute_result"
    }
   ],
   "source": [
    "# Create a dataframe that will contain the names of all the feature variables and their respective VIFs\n",
    "vif = pd.DataFrame()\n",
    "vif['Features'] = X_train[col1].columns\n",
    "vif['VIF'] = [variance_inflation_factor(X_train[col1].values, i) for i in range(X_train[col1].shape[1])]\n",
    "vif['VIF'] = round(vif['VIF'], 2)\n",
    "vif = vif.sort_values(by = \"VIF\", ascending = False)\n",
    "vif"
   ]
  },
  {
   "cell_type": "markdown",
   "id": "e1e22dd2",
   "metadata": {},
   "source": [
    "#### Dropping column\n",
    "\n",
    "We need to drop the following columns for having a high p value - 'Lead Origin_Others'"
   ]
  },
  {
   "cell_type": "code",
   "execution_count": 103,
   "id": "033816ca",
   "metadata": {},
   "outputs": [],
   "source": [
    "droplist='Lead Origin_Others'"
   ]
  },
  {
   "cell_type": "code",
   "execution_count": 104,
   "id": "ea68e59b",
   "metadata": {},
   "outputs": [],
   "source": [
    "col2 = col1.drop(droplist, 1)"
   ]
  },
  {
   "cell_type": "markdown",
   "id": "637fd49c",
   "metadata": {},
   "source": [
    "### Model 2"
   ]
  },
  {
   "cell_type": "code",
   "execution_count": 105,
   "id": "86474029",
   "metadata": {},
   "outputs": [
    {
     "data": {
      "text/html": [
       "<table class=\"simpletable\">\n",
       "<caption>Generalized Linear Model Regression Results</caption>\n",
       "<tr>\n",
       "  <th>Dep. Variable:</th>       <td>Converted</td>    <th>  No. Observations:  </th>  <td>  6468</td> \n",
       "</tr>\n",
       "<tr>\n",
       "  <th>Model:</th>                  <td>GLM</td>       <th>  Df Residuals:      </th>  <td>  6450</td> \n",
       "</tr>\n",
       "<tr>\n",
       "  <th>Model Family:</th>        <td>Binomial</td>     <th>  Df Model:          </th>  <td>    17</td> \n",
       "</tr>\n",
       "<tr>\n",
       "  <th>Link Function:</th>         <td>Logit</td>      <th>  Scale:             </th> <td>  1.0000</td>\n",
       "</tr>\n",
       "<tr>\n",
       "  <th>Method:</th>                <td>IRLS</td>       <th>  Log-Likelihood:    </th> <td> -2848.0</td>\n",
       "</tr>\n",
       "<tr>\n",
       "  <th>Date:</th>            <td>Sun, 05 Mar 2023</td> <th>  Deviance:          </th> <td>  5695.9</td>\n",
       "</tr>\n",
       "<tr>\n",
       "  <th>Time:</th>                <td>19:48:15</td>     <th>  Pearson chi2:      </th> <td>6.66e+03</td>\n",
       "</tr>\n",
       "<tr>\n",
       "  <th>No. Iterations:</th>          <td>6</td>        <th>  Pseudo R-squ. (CS):</th>  <td>0.3616</td> \n",
       "</tr>\n",
       "<tr>\n",
       "  <th>Covariance Type:</th>     <td>nonrobust</td>    <th>                     </th>     <td> </td>   \n",
       "</tr>\n",
       "</table>\n",
       "<table class=\"simpletable\">\n",
       "<tr>\n",
       "                    <td></td>                       <th>coef</th>     <th>std err</th>      <th>z</th>      <th>P>|z|</th>  <th>[0.025</th>    <th>0.975]</th>  \n",
       "</tr>\n",
       "<tr>\n",
       "  <th>const</th>                                 <td>   -2.2402</td> <td>    0.119</td> <td>  -18.807</td> <td> 0.000</td> <td>   -2.474</td> <td>   -2.007</td>\n",
       "</tr>\n",
       "<tr>\n",
       "  <th>Page Views Per Visit</th>                  <td>   -0.9481</td> <td>    0.189</td> <td>   -5.022</td> <td> 0.000</td> <td>   -1.318</td> <td>   -0.578</td>\n",
       "</tr>\n",
       "<tr>\n",
       "  <th>TotalVisits</th>                           <td>    1.3332</td> <td>    0.194</td> <td>    6.880</td> <td> 0.000</td> <td>    0.953</td> <td>    1.713</td>\n",
       "</tr>\n",
       "<tr>\n",
       "  <th>Search</th>                                <td>    0.2664</td> <td>    0.692</td> <td>    0.385</td> <td> 0.700</td> <td>   -1.089</td> <td>    1.622</td>\n",
       "</tr>\n",
       "<tr>\n",
       "  <th>Total Time Spent on Website</th>           <td>    4.5851</td> <td>    0.160</td> <td>   28.583</td> <td> 0.000</td> <td>    4.271</td> <td>    4.900</td>\n",
       "</tr>\n",
       "<tr>\n",
       "  <th>Do Not Email</th>                          <td>   -1.1962</td> <td>    0.167</td> <td>   -7.148</td> <td> 0.000</td> <td>   -1.524</td> <td>   -0.868</td>\n",
       "</tr>\n",
       "<tr>\n",
       "  <th>Last Activity_Olark Chat Conversation</th> <td>   -1.4798</td> <td>    0.199</td> <td>   -7.433</td> <td> 0.000</td> <td>   -1.870</td> <td>   -1.090</td>\n",
       "</tr>\n",
       "<tr>\n",
       "  <th>Last Activity_Others</th>                  <td>   -0.5293</td> <td>    0.165</td> <td>   -3.207</td> <td> 0.001</td> <td>   -0.853</td> <td>   -0.206</td>\n",
       "</tr>\n",
       "<tr>\n",
       "  <th>Last Activity_Page Visited on Website</th> <td>   -0.6342</td> <td>    0.150</td> <td>   -4.217</td> <td> 0.000</td> <td>   -0.929</td> <td>   -0.339</td>\n",
       "</tr>\n",
       "<tr>\n",
       "  <th>Last Activity_SMS Sent</th>                <td>    0.3732</td> <td>    0.167</td> <td>    2.233</td> <td> 0.026</td> <td>    0.046</td> <td>    0.701</td>\n",
       "</tr>\n",
       "<tr>\n",
       "  <th>Lead Source_Google</th>                    <td>    0.3388</td> <td>    0.077</td> <td>    4.400</td> <td> 0.000</td> <td>    0.188</td> <td>    0.490</td>\n",
       "</tr>\n",
       "<tr>\n",
       "  <th>Lead Source_Olark Chat</th>                <td>    1.2401</td> <td>    0.132</td> <td>    9.423</td> <td> 0.000</td> <td>    0.982</td> <td>    1.498</td>\n",
       "</tr>\n",
       "<tr>\n",
       "  <th>Lead Source_Others</th>                    <td>    0.3807</td> <td>    0.240</td> <td>    1.585</td> <td> 0.113</td> <td>   -0.090</td> <td>    0.852</td>\n",
       "</tr>\n",
       "<tr>\n",
       "  <th>Lead Origin_Lead Add Form</th>             <td>    3.8663</td> <td>    0.290</td> <td>   13.338</td> <td> 0.000</td> <td>    3.298</td> <td>    4.434</td>\n",
       "</tr>\n",
       "<tr>\n",
       "  <th>Lead Origin_Lead Import</th>               <td>   -0.2342</td> <td>    0.559</td> <td>   -0.419</td> <td> 0.675</td> <td>   -1.330</td> <td>    0.862</td>\n",
       "</tr>\n",
       "<tr>\n",
       "  <th>Last Notable Activity_Modified</th>        <td>   -0.3694</td> <td>    0.120</td> <td>   -3.090</td> <td> 0.002</td> <td>   -0.604</td> <td>   -0.135</td>\n",
       "</tr>\n",
       "<tr>\n",
       "  <th>Last Notable Activity_Others</th>          <td>    0.5436</td> <td>    0.215</td> <td>    2.533</td> <td> 0.011</td> <td>    0.123</td> <td>    0.964</td>\n",
       "</tr>\n",
       "<tr>\n",
       "  <th>Last Notable Activity_SMS Sent</th>        <td>    1.0163</td> <td>    0.184</td> <td>    5.516</td> <td> 0.000</td> <td>    0.655</td> <td>    1.377</td>\n",
       "</tr>\n",
       "</table>"
      ],
      "text/plain": [
       "<class 'statsmodels.iolib.summary.Summary'>\n",
       "\"\"\"\n",
       "                 Generalized Linear Model Regression Results                  \n",
       "==============================================================================\n",
       "Dep. Variable:              Converted   No. Observations:                 6468\n",
       "Model:                            GLM   Df Residuals:                     6450\n",
       "Model Family:                Binomial   Df Model:                           17\n",
       "Link Function:                  Logit   Scale:                          1.0000\n",
       "Method:                          IRLS   Log-Likelihood:                -2848.0\n",
       "Date:                Sun, 05 Mar 2023   Deviance:                       5695.9\n",
       "Time:                        19:48:15   Pearson chi2:                 6.66e+03\n",
       "No. Iterations:                     6   Pseudo R-squ. (CS):             0.3616\n",
       "Covariance Type:            nonrobust                                         \n",
       "=========================================================================================================\n",
       "                                            coef    std err          z      P>|z|      [0.025      0.975]\n",
       "---------------------------------------------------------------------------------------------------------\n",
       "const                                    -2.2402      0.119    -18.807      0.000      -2.474      -2.007\n",
       "Page Views Per Visit                     -0.9481      0.189     -5.022      0.000      -1.318      -0.578\n",
       "TotalVisits                               1.3332      0.194      6.880      0.000       0.953       1.713\n",
       "Search                                    0.2664      0.692      0.385      0.700      -1.089       1.622\n",
       "Total Time Spent on Website               4.5851      0.160     28.583      0.000       4.271       4.900\n",
       "Do Not Email                             -1.1962      0.167     -7.148      0.000      -1.524      -0.868\n",
       "Last Activity_Olark Chat Conversation    -1.4798      0.199     -7.433      0.000      -1.870      -1.090\n",
       "Last Activity_Others                     -0.5293      0.165     -3.207      0.001      -0.853      -0.206\n",
       "Last Activity_Page Visited on Website    -0.6342      0.150     -4.217      0.000      -0.929      -0.339\n",
       "Last Activity_SMS Sent                    0.3732      0.167      2.233      0.026       0.046       0.701\n",
       "Lead Source_Google                        0.3388      0.077      4.400      0.000       0.188       0.490\n",
       "Lead Source_Olark Chat                    1.2401      0.132      9.423      0.000       0.982       1.498\n",
       "Lead Source_Others                        0.3807      0.240      1.585      0.113      -0.090       0.852\n",
       "Lead Origin_Lead Add Form                 3.8663      0.290     13.338      0.000       3.298       4.434\n",
       "Lead Origin_Lead Import                  -0.2342      0.559     -0.419      0.675      -1.330       0.862\n",
       "Last Notable Activity_Modified           -0.3694      0.120     -3.090      0.002      -0.604      -0.135\n",
       "Last Notable Activity_Others              0.5436      0.215      2.533      0.011       0.123       0.964\n",
       "Last Notable Activity_SMS Sent            1.0163      0.184      5.516      0.000       0.655       1.377\n",
       "=========================================================================================================\n",
       "\"\"\""
      ]
     },
     "execution_count": 105,
     "metadata": {},
     "output_type": "execute_result"
    }
   ],
   "source": [
    "# Let's re-run the model using the selected variables\n",
    "X_train_sm = sm.add_constant(X_train[col2])\n",
    "logm02 = sm.GLM(y_train,X_train_sm, family = sm.families.Binomial())\n",
    "res = logm02.fit()\n",
    "res.summary()"
   ]
  },
  {
   "cell_type": "code",
   "execution_count": 106,
   "id": "c7a0846a",
   "metadata": {},
   "outputs": [
    {
     "data": {
      "text/html": [
       "<div>\n",
       "<style scoped>\n",
       "    .dataframe tbody tr th:only-of-type {\n",
       "        vertical-align: middle;\n",
       "    }\n",
       "\n",
       "    .dataframe tbody tr th {\n",
       "        vertical-align: top;\n",
       "    }\n",
       "\n",
       "    .dataframe thead th {\n",
       "        text-align: right;\n",
       "    }\n",
       "</style>\n",
       "<table border=\"1\" class=\"dataframe\">\n",
       "  <thead>\n",
       "    <tr style=\"text-align: right;\">\n",
       "      <th></th>\n",
       "      <th>Converted</th>\n",
       "      <th>Conversion_Prob</th>\n",
       "      <th>LeadID</th>\n",
       "      <th>predicted</th>\n",
       "    </tr>\n",
       "  </thead>\n",
       "  <tbody>\n",
       "    <tr>\n",
       "      <th>0</th>\n",
       "      <td>0</td>\n",
       "      <td>0.268921</td>\n",
       "      <td>1871</td>\n",
       "      <td>0</td>\n",
       "    </tr>\n",
       "    <tr>\n",
       "      <th>1</th>\n",
       "      <td>0</td>\n",
       "      <td>0.272336</td>\n",
       "      <td>6795</td>\n",
       "      <td>0</td>\n",
       "    </tr>\n",
       "    <tr>\n",
       "      <th>2</th>\n",
       "      <td>0</td>\n",
       "      <td>0.360023</td>\n",
       "      <td>3516</td>\n",
       "      <td>0</td>\n",
       "    </tr>\n",
       "    <tr>\n",
       "      <th>3</th>\n",
       "      <td>0</td>\n",
       "      <td>0.856459</td>\n",
       "      <td>8105</td>\n",
       "      <td>1</td>\n",
       "    </tr>\n",
       "    <tr>\n",
       "      <th>4</th>\n",
       "      <td>0</td>\n",
       "      <td>0.202693</td>\n",
       "      <td>3934</td>\n",
       "      <td>0</td>\n",
       "    </tr>\n",
       "    <tr>\n",
       "      <th>5</th>\n",
       "      <td>1</td>\n",
       "      <td>0.912869</td>\n",
       "      <td>4844</td>\n",
       "      <td>1</td>\n",
       "    </tr>\n",
       "    <tr>\n",
       "      <th>6</th>\n",
       "      <td>0</td>\n",
       "      <td>0.145120</td>\n",
       "      <td>3297</td>\n",
       "      <td>0</td>\n",
       "    </tr>\n",
       "    <tr>\n",
       "      <th>7</th>\n",
       "      <td>1</td>\n",
       "      <td>0.863381</td>\n",
       "      <td>8071</td>\n",
       "      <td>1</td>\n",
       "    </tr>\n",
       "    <tr>\n",
       "      <th>8</th>\n",
       "      <td>0</td>\n",
       "      <td>0.240420</td>\n",
       "      <td>987</td>\n",
       "      <td>0</td>\n",
       "    </tr>\n",
       "    <tr>\n",
       "      <th>9</th>\n",
       "      <td>1</td>\n",
       "      <td>0.940972</td>\n",
       "      <td>7423</td>\n",
       "      <td>1</td>\n",
       "    </tr>\n",
       "    <tr>\n",
       "      <th>10</th>\n",
       "      <td>1</td>\n",
       "      <td>0.846474</td>\n",
       "      <td>1032</td>\n",
       "      <td>1</td>\n",
       "    </tr>\n",
       "    <tr>\n",
       "      <th>11</th>\n",
       "      <td>0</td>\n",
       "      <td>0.407771</td>\n",
       "      <td>6542</td>\n",
       "      <td>0</td>\n",
       "    </tr>\n",
       "    <tr>\n",
       "      <th>12</th>\n",
       "      <td>1</td>\n",
       "      <td>0.109838</td>\n",
       "      <td>4317</td>\n",
       "      <td>0</td>\n",
       "    </tr>\n",
       "    <tr>\n",
       "      <th>13</th>\n",
       "      <td>1</td>\n",
       "      <td>0.500225</td>\n",
       "      <td>6472</td>\n",
       "      <td>1</td>\n",
       "    </tr>\n",
       "    <tr>\n",
       "      <th>14</th>\n",
       "      <td>0</td>\n",
       "      <td>0.073625</td>\n",
       "      <td>712</td>\n",
       "      <td>0</td>\n",
       "    </tr>\n",
       "    <tr>\n",
       "      <th>15</th>\n",
       "      <td>0</td>\n",
       "      <td>0.268921</td>\n",
       "      <td>3960</td>\n",
       "      <td>0</td>\n",
       "    </tr>\n",
       "    <tr>\n",
       "      <th>16</th>\n",
       "      <td>0</td>\n",
       "      <td>0.268921</td>\n",
       "      <td>4654</td>\n",
       "      <td>0</td>\n",
       "    </tr>\n",
       "    <tr>\n",
       "      <th>17</th>\n",
       "      <td>0</td>\n",
       "      <td>0.015388</td>\n",
       "      <td>5902</td>\n",
       "      <td>0</td>\n",
       "    </tr>\n",
       "    <tr>\n",
       "      <th>18</th>\n",
       "      <td>0</td>\n",
       "      <td>0.268921</td>\n",
       "      <td>4691</td>\n",
       "      <td>0</td>\n",
       "    </tr>\n",
       "    <tr>\n",
       "      <th>19</th>\n",
       "      <td>1</td>\n",
       "      <td>0.175738</td>\n",
       "      <td>4341</td>\n",
       "      <td>0</td>\n",
       "    </tr>\n",
       "  </tbody>\n",
       "</table>\n",
       "</div>"
      ],
      "text/plain": [
       "    Converted  Conversion_Prob  LeadID  predicted\n",
       "0           0         0.268921    1871          0\n",
       "1           0         0.272336    6795          0\n",
       "2           0         0.360023    3516          0\n",
       "3           0         0.856459    8105          1\n",
       "4           0         0.202693    3934          0\n",
       "5           1         0.912869    4844          1\n",
       "6           0         0.145120    3297          0\n",
       "7           1         0.863381    8071          1\n",
       "8           0         0.240420     987          0\n",
       "9           1         0.940972    7423          1\n",
       "10          1         0.846474    1032          1\n",
       "11          0         0.407771    6542          0\n",
       "12          1         0.109838    4317          0\n",
       "13          1         0.500225    6472          1\n",
       "14          0         0.073625     712          0\n",
       "15          0         0.268921    3960          0\n",
       "16          0         0.268921    4654          0\n",
       "17          0         0.015388    5902          0\n",
       "18          0         0.268921    4691          0\n",
       "19          1         0.175738    4341          0"
      ]
     },
     "execution_count": 106,
     "metadata": {},
     "output_type": "execute_result"
    }
   ],
   "source": [
    "y_train_pred = res.predict(X_train_sm)\n",
    "y_train_pred = y_train_pred.values.reshape(-1)\n",
    "y_train_pred_final = pd.DataFrame({'Converted':y_train.values, 'Conversion_Prob':y_train_pred})\n",
    "y_train_pred_final['LeadID'] = y_train.index\n",
    "y_train_pred_final['predicted'] = y_train_pred_final.Conversion_Prob.map(lambda x: 1 if x > 0.5 else 0)\n",
    "\n",
    "# Let's see the head\n",
    "y_train_pred_final.head(20)"
   ]
  },
  {
   "cell_type": "code",
   "execution_count": 107,
   "id": "139d1cc8",
   "metadata": {},
   "outputs": [
    {
     "name": "stdout",
     "output_type": "stream",
     "text": [
      "0.8025664811379097\n"
     ]
    }
   ],
   "source": [
    "print(metrics.accuracy_score(y_train_pred_final.Converted, y_train_pred_final.predicted))"
   ]
  },
  {
   "cell_type": "code",
   "execution_count": 108,
   "id": "33a17b34",
   "metadata": {},
   "outputs": [
    {
     "data": {
      "text/html": [
       "<div>\n",
       "<style scoped>\n",
       "    .dataframe tbody tr th:only-of-type {\n",
       "        vertical-align: middle;\n",
       "    }\n",
       "\n",
       "    .dataframe tbody tr th {\n",
       "        vertical-align: top;\n",
       "    }\n",
       "\n",
       "    .dataframe thead th {\n",
       "        text-align: right;\n",
       "    }\n",
       "</style>\n",
       "<table border=\"1\" class=\"dataframe\">\n",
       "  <thead>\n",
       "    <tr style=\"text-align: right;\">\n",
       "      <th></th>\n",
       "      <th>Features</th>\n",
       "      <th>VIF</th>\n",
       "    </tr>\n",
       "  </thead>\n",
       "  <tbody>\n",
       "    <tr>\n",
       "      <th>8</th>\n",
       "      <td>Last Activity_SMS Sent</td>\n",
       "      <td>8.06</td>\n",
       "    </tr>\n",
       "    <tr>\n",
       "      <th>16</th>\n",
       "      <td>Last Notable Activity_SMS Sent</td>\n",
       "      <td>7.85</td>\n",
       "    </tr>\n",
       "    <tr>\n",
       "      <th>0</th>\n",
       "      <td>Page Views Per Visit</td>\n",
       "      <td>6.27</td>\n",
       "    </tr>\n",
       "    <tr>\n",
       "      <th>1</th>\n",
       "      <td>TotalVisits</td>\n",
       "      <td>5.55</td>\n",
       "    </tr>\n",
       "    <tr>\n",
       "      <th>11</th>\n",
       "      <td>Lead Source_Others</td>\n",
       "      <td>4.94</td>\n",
       "    </tr>\n",
       "    <tr>\n",
       "      <th>12</th>\n",
       "      <td>Lead Origin_Lead Add Form</td>\n",
       "      <td>4.75</td>\n",
       "    </tr>\n",
       "    <tr>\n",
       "      <th>14</th>\n",
       "      <td>Last Notable Activity_Modified</td>\n",
       "      <td>4.71</td>\n",
       "    </tr>\n",
       "    <tr>\n",
       "      <th>6</th>\n",
       "      <td>Last Activity_Others</td>\n",
       "      <td>2.97</td>\n",
       "    </tr>\n",
       "    <tr>\n",
       "      <th>5</th>\n",
       "      <td>Last Activity_Olark Chat Conversation</td>\n",
       "      <td>2.44</td>\n",
       "    </tr>\n",
       "    <tr>\n",
       "      <th>3</th>\n",
       "      <td>Total Time Spent on Website</td>\n",
       "      <td>2.10</td>\n",
       "    </tr>\n",
       "    <tr>\n",
       "      <th>15</th>\n",
       "      <td>Last Notable Activity_Others</td>\n",
       "      <td>2.01</td>\n",
       "    </tr>\n",
       "    <tr>\n",
       "      <th>9</th>\n",
       "      <td>Lead Source_Google</td>\n",
       "      <td>1.65</td>\n",
       "    </tr>\n",
       "    <tr>\n",
       "      <th>10</th>\n",
       "      <td>Lead Source_Olark Chat</td>\n",
       "      <td>1.56</td>\n",
       "    </tr>\n",
       "    <tr>\n",
       "      <th>7</th>\n",
       "      <td>Last Activity_Page Visited on Website</td>\n",
       "      <td>1.37</td>\n",
       "    </tr>\n",
       "    <tr>\n",
       "      <th>4</th>\n",
       "      <td>Do Not Email</td>\n",
       "      <td>1.27</td>\n",
       "    </tr>\n",
       "    <tr>\n",
       "      <th>13</th>\n",
       "      <td>Lead Origin_Lead Import</td>\n",
       "      <td>1.25</td>\n",
       "    </tr>\n",
       "    <tr>\n",
       "      <th>2</th>\n",
       "      <td>Search</td>\n",
       "      <td>1.01</td>\n",
       "    </tr>\n",
       "  </tbody>\n",
       "</table>\n",
       "</div>"
      ],
      "text/plain": [
       "                                 Features   VIF\n",
       "8                  Last Activity_SMS Sent  8.06\n",
       "16         Last Notable Activity_SMS Sent  7.85\n",
       "0                    Page Views Per Visit  6.27\n",
       "1                             TotalVisits  5.55\n",
       "11                     Lead Source_Others  4.94\n",
       "12              Lead Origin_Lead Add Form  4.75\n",
       "14         Last Notable Activity_Modified  4.71\n",
       "6                    Last Activity_Others  2.97\n",
       "5   Last Activity_Olark Chat Conversation  2.44\n",
       "3             Total Time Spent on Website  2.10\n",
       "15           Last Notable Activity_Others  2.01\n",
       "9                      Lead Source_Google  1.65\n",
       "10                 Lead Source_Olark Chat  1.56\n",
       "7   Last Activity_Page Visited on Website  1.37\n",
       "4                            Do Not Email  1.27\n",
       "13                Lead Origin_Lead Import  1.25\n",
       "2                                  Search  1.01"
      ]
     },
     "execution_count": 108,
     "metadata": {},
     "output_type": "execute_result"
    }
   ],
   "source": [
    "vif = pd.DataFrame()\n",
    "vif['Features'] = X_train[col2].columns\n",
    "vif['VIF'] = [variance_inflation_factor(X_train[col2].values, i) for i in range(X_train[col2].shape[1])]\n",
    "vif['VIF'] = round(vif['VIF'], 2)\n",
    "vif = vif.sort_values(by = \"VIF\", ascending = False)\n",
    "vif"
   ]
  },
  {
   "cell_type": "markdown",
   "id": "67e584a4",
   "metadata": {},
   "source": [
    "#### Dropping column\n",
    "\n",
    "We need to drop the following columns for having a high p value - 'Search'"
   ]
  },
  {
   "cell_type": "code",
   "execution_count": 109,
   "id": "f98585a8",
   "metadata": {},
   "outputs": [],
   "source": [
    "col3 = col2.drop('Search', 1)"
   ]
  },
  {
   "cell_type": "markdown",
   "id": "0a2f1eb8",
   "metadata": {},
   "source": [
    "### Model 3"
   ]
  },
  {
   "cell_type": "code",
   "execution_count": 110,
   "id": "1140ef36",
   "metadata": {},
   "outputs": [
    {
     "data": {
      "text/html": [
       "<table class=\"simpletable\">\n",
       "<caption>Generalized Linear Model Regression Results</caption>\n",
       "<tr>\n",
       "  <th>Dep. Variable:</th>       <td>Converted</td>    <th>  No. Observations:  </th>  <td>  6468</td> \n",
       "</tr>\n",
       "<tr>\n",
       "  <th>Model:</th>                  <td>GLM</td>       <th>  Df Residuals:      </th>  <td>  6451</td> \n",
       "</tr>\n",
       "<tr>\n",
       "  <th>Model Family:</th>        <td>Binomial</td>     <th>  Df Model:          </th>  <td>    16</td> \n",
       "</tr>\n",
       "<tr>\n",
       "  <th>Link Function:</th>         <td>Logit</td>      <th>  Scale:             </th> <td>  1.0000</td>\n",
       "</tr>\n",
       "<tr>\n",
       "  <th>Method:</th>                <td>IRLS</td>       <th>  Log-Likelihood:    </th> <td> -2848.0</td>\n",
       "</tr>\n",
       "<tr>\n",
       "  <th>Date:</th>            <td>Sun, 05 Mar 2023</td> <th>  Deviance:          </th> <td>  5696.1</td>\n",
       "</tr>\n",
       "<tr>\n",
       "  <th>Time:</th>                <td>19:48:16</td>     <th>  Pearson chi2:      </th> <td>6.65e+03</td>\n",
       "</tr>\n",
       "<tr>\n",
       "  <th>No. Iterations:</th>          <td>6</td>        <th>  Pseudo R-squ. (CS):</th>  <td>0.3615</td> \n",
       "</tr>\n",
       "<tr>\n",
       "  <th>Covariance Type:</th>     <td>nonrobust</td>    <th>                     </th>     <td> </td>   \n",
       "</tr>\n",
       "</table>\n",
       "<table class=\"simpletable\">\n",
       "<tr>\n",
       "                    <td></td>                       <th>coef</th>     <th>std err</th>      <th>z</th>      <th>P>|z|</th>  <th>[0.025</th>    <th>0.975]</th>  \n",
       "</tr>\n",
       "<tr>\n",
       "  <th>const</th>                                 <td>   -2.2402</td> <td>    0.119</td> <td>  -18.808</td> <td> 0.000</td> <td>   -2.474</td> <td>   -2.007</td>\n",
       "</tr>\n",
       "<tr>\n",
       "  <th>Page Views Per Visit</th>                  <td>   -0.9494</td> <td>    0.189</td> <td>   -5.030</td> <td> 0.000</td> <td>   -1.319</td> <td>   -0.579</td>\n",
       "</tr>\n",
       "<tr>\n",
       "  <th>TotalVisits</th>                           <td>    1.3389</td> <td>    0.193</td> <td>    6.930</td> <td> 0.000</td> <td>    0.960</td> <td>    1.718</td>\n",
       "</tr>\n",
       "<tr>\n",
       "  <th>Total Time Spent on Website</th>           <td>    4.5849</td> <td>    0.160</td> <td>   28.582</td> <td> 0.000</td> <td>    4.271</td> <td>    4.899</td>\n",
       "</tr>\n",
       "<tr>\n",
       "  <th>Do Not Email</th>                          <td>   -1.1968</td> <td>    0.167</td> <td>   -7.151</td> <td> 0.000</td> <td>   -1.525</td> <td>   -0.869</td>\n",
       "</tr>\n",
       "<tr>\n",
       "  <th>Last Activity_Olark Chat Conversation</th> <td>   -1.4802</td> <td>    0.199</td> <td>   -7.435</td> <td> 0.000</td> <td>   -1.870</td> <td>   -1.090</td>\n",
       "</tr>\n",
       "<tr>\n",
       "  <th>Last Activity_Others</th>                  <td>   -0.5294</td> <td>    0.165</td> <td>   -3.207</td> <td> 0.001</td> <td>   -0.853</td> <td>   -0.206</td>\n",
       "</tr>\n",
       "<tr>\n",
       "  <th>Last Activity_Page Visited on Website</th> <td>   -0.6340</td> <td>    0.150</td> <td>   -4.216</td> <td> 0.000</td> <td>   -0.929</td> <td>   -0.339</td>\n",
       "</tr>\n",
       "<tr>\n",
       "  <th>Last Activity_SMS Sent</th>                <td>    0.3738</td> <td>    0.167</td> <td>    2.236</td> <td> 0.025</td> <td>    0.046</td> <td>    0.701</td>\n",
       "</tr>\n",
       "<tr>\n",
       "  <th>Lead Source_Google</th>                    <td>    0.3376</td> <td>    0.077</td> <td>    4.388</td> <td> 0.000</td> <td>    0.187</td> <td>    0.488</td>\n",
       "</tr>\n",
       "<tr>\n",
       "  <th>Lead Source_Olark Chat</th>                <td>    1.2407</td> <td>    0.132</td> <td>    9.429</td> <td> 0.000</td> <td>    0.983</td> <td>    1.499</td>\n",
       "</tr>\n",
       "<tr>\n",
       "  <th>Lead Source_Others</th>                    <td>    0.3790</td> <td>    0.240</td> <td>    1.578</td> <td> 0.115</td> <td>   -0.092</td> <td>    0.850</td>\n",
       "</tr>\n",
       "<tr>\n",
       "  <th>Lead Origin_Lead Add Form</th>             <td>    3.8681</td> <td>    0.290</td> <td>   13.346</td> <td> 0.000</td> <td>    3.300</td> <td>    4.436</td>\n",
       "</tr>\n",
       "<tr>\n",
       "  <th>Lead Origin_Lead Import</th>               <td>   -0.2331</td> <td>    0.559</td> <td>   -0.417</td> <td> 0.677</td> <td>   -1.329</td> <td>    0.863</td>\n",
       "</tr>\n",
       "<tr>\n",
       "  <th>Last Notable Activity_Modified</th>        <td>   -0.3698</td> <td>    0.120</td> <td>   -3.093</td> <td> 0.002</td> <td>   -0.604</td> <td>   -0.135</td>\n",
       "</tr>\n",
       "<tr>\n",
       "  <th>Last Notable Activity_Others</th>          <td>    0.5428</td> <td>    0.215</td> <td>    2.530</td> <td> 0.011</td> <td>    0.122</td> <td>    0.963</td>\n",
       "</tr>\n",
       "<tr>\n",
       "  <th>Last Notable Activity_SMS Sent</th>        <td>    1.0149</td> <td>    0.184</td> <td>    5.510</td> <td> 0.000</td> <td>    0.654</td> <td>    1.376</td>\n",
       "</tr>\n",
       "</table>"
      ],
      "text/plain": [
       "<class 'statsmodels.iolib.summary.Summary'>\n",
       "\"\"\"\n",
       "                 Generalized Linear Model Regression Results                  \n",
       "==============================================================================\n",
       "Dep. Variable:              Converted   No. Observations:                 6468\n",
       "Model:                            GLM   Df Residuals:                     6451\n",
       "Model Family:                Binomial   Df Model:                           16\n",
       "Link Function:                  Logit   Scale:                          1.0000\n",
       "Method:                          IRLS   Log-Likelihood:                -2848.0\n",
       "Date:                Sun, 05 Mar 2023   Deviance:                       5696.1\n",
       "Time:                        19:48:16   Pearson chi2:                 6.65e+03\n",
       "No. Iterations:                     6   Pseudo R-squ. (CS):             0.3615\n",
       "Covariance Type:            nonrobust                                         \n",
       "=========================================================================================================\n",
       "                                            coef    std err          z      P>|z|      [0.025      0.975]\n",
       "---------------------------------------------------------------------------------------------------------\n",
       "const                                    -2.2402      0.119    -18.808      0.000      -2.474      -2.007\n",
       "Page Views Per Visit                     -0.9494      0.189     -5.030      0.000      -1.319      -0.579\n",
       "TotalVisits                               1.3389      0.193      6.930      0.000       0.960       1.718\n",
       "Total Time Spent on Website               4.5849      0.160     28.582      0.000       4.271       4.899\n",
       "Do Not Email                             -1.1968      0.167     -7.151      0.000      -1.525      -0.869\n",
       "Last Activity_Olark Chat Conversation    -1.4802      0.199     -7.435      0.000      -1.870      -1.090\n",
       "Last Activity_Others                     -0.5294      0.165     -3.207      0.001      -0.853      -0.206\n",
       "Last Activity_Page Visited on Website    -0.6340      0.150     -4.216      0.000      -0.929      -0.339\n",
       "Last Activity_SMS Sent                    0.3738      0.167      2.236      0.025       0.046       0.701\n",
       "Lead Source_Google                        0.3376      0.077      4.388      0.000       0.187       0.488\n",
       "Lead Source_Olark Chat                    1.2407      0.132      9.429      0.000       0.983       1.499\n",
       "Lead Source_Others                        0.3790      0.240      1.578      0.115      -0.092       0.850\n",
       "Lead Origin_Lead Add Form                 3.8681      0.290     13.346      0.000       3.300       4.436\n",
       "Lead Origin_Lead Import                  -0.2331      0.559     -0.417      0.677      -1.329       0.863\n",
       "Last Notable Activity_Modified           -0.3698      0.120     -3.093      0.002      -0.604      -0.135\n",
       "Last Notable Activity_Others              0.5428      0.215      2.530      0.011       0.122       0.963\n",
       "Last Notable Activity_SMS Sent            1.0149      0.184      5.510      0.000       0.654       1.376\n",
       "=========================================================================================================\n",
       "\"\"\""
      ]
     },
     "execution_count": 110,
     "metadata": {},
     "output_type": "execute_result"
    }
   ],
   "source": [
    "# Let's re-run the model using the selected variables\n",
    "X_train_sm = sm.add_constant(X_train[col3])\n",
    "logm03 = sm.GLM(y_train,X_train_sm, family = sm.families.Binomial())\n",
    "res = logm03.fit()\n",
    "res.summary()"
   ]
  },
  {
   "cell_type": "code",
   "execution_count": 111,
   "id": "f644a734",
   "metadata": {},
   "outputs": [
    {
     "data": {
      "text/html": [
       "<div>\n",
       "<style scoped>\n",
       "    .dataframe tbody tr th:only-of-type {\n",
       "        vertical-align: middle;\n",
       "    }\n",
       "\n",
       "    .dataframe tbody tr th {\n",
       "        vertical-align: top;\n",
       "    }\n",
       "\n",
       "    .dataframe thead th {\n",
       "        text-align: right;\n",
       "    }\n",
       "</style>\n",
       "<table border=\"1\" class=\"dataframe\">\n",
       "  <thead>\n",
       "    <tr style=\"text-align: right;\">\n",
       "      <th></th>\n",
       "      <th>Converted</th>\n",
       "      <th>Conversion_Prob</th>\n",
       "      <th>LeadID</th>\n",
       "      <th>predicted</th>\n",
       "    </tr>\n",
       "  </thead>\n",
       "  <tbody>\n",
       "    <tr>\n",
       "      <th>0</th>\n",
       "      <td>0</td>\n",
       "      <td>0.269051</td>\n",
       "      <td>1871</td>\n",
       "      <td>0</td>\n",
       "    </tr>\n",
       "    <tr>\n",
       "      <th>1</th>\n",
       "      <td>0</td>\n",
       "      <td>0.272697</td>\n",
       "      <td>6795</td>\n",
       "      <td>0</td>\n",
       "    </tr>\n",
       "    <tr>\n",
       "      <th>2</th>\n",
       "      <td>0</td>\n",
       "      <td>0.360651</td>\n",
       "      <td>3516</td>\n",
       "      <td>0</td>\n",
       "    </tr>\n",
       "    <tr>\n",
       "      <th>3</th>\n",
       "      <td>0</td>\n",
       "      <td>0.856380</td>\n",
       "      <td>8105</td>\n",
       "      <td>1</td>\n",
       "    </tr>\n",
       "    <tr>\n",
       "      <th>4</th>\n",
       "      <td>0</td>\n",
       "      <td>0.202750</td>\n",
       "      <td>3934</td>\n",
       "      <td>0</td>\n",
       "    </tr>\n",
       "    <tr>\n",
       "      <th>5</th>\n",
       "      <td>1</td>\n",
       "      <td>0.912926</td>\n",
       "      <td>4844</td>\n",
       "      <td>1</td>\n",
       "    </tr>\n",
       "    <tr>\n",
       "      <th>6</th>\n",
       "      <td>0</td>\n",
       "      <td>0.145487</td>\n",
       "      <td>3297</td>\n",
       "      <td>0</td>\n",
       "    </tr>\n",
       "    <tr>\n",
       "      <th>7</th>\n",
       "      <td>1</td>\n",
       "      <td>0.863483</td>\n",
       "      <td>8071</td>\n",
       "      <td>1</td>\n",
       "    </tr>\n",
       "    <tr>\n",
       "      <th>8</th>\n",
       "      <td>0</td>\n",
       "      <td>0.240089</td>\n",
       "      <td>987</td>\n",
       "      <td>0</td>\n",
       "    </tr>\n",
       "    <tr>\n",
       "      <th>9</th>\n",
       "      <td>1</td>\n",
       "      <td>0.940919</td>\n",
       "      <td>7423</td>\n",
       "      <td>1</td>\n",
       "    </tr>\n",
       "    <tr>\n",
       "      <th>10</th>\n",
       "      <td>1</td>\n",
       "      <td>0.846592</td>\n",
       "      <td>1032</td>\n",
       "      <td>1</td>\n",
       "    </tr>\n",
       "    <tr>\n",
       "      <th>11</th>\n",
       "      <td>0</td>\n",
       "      <td>0.407641</td>\n",
       "      <td>6542</td>\n",
       "      <td>0</td>\n",
       "    </tr>\n",
       "    <tr>\n",
       "      <th>12</th>\n",
       "      <td>1</td>\n",
       "      <td>0.109933</td>\n",
       "      <td>4317</td>\n",
       "      <td>0</td>\n",
       "    </tr>\n",
       "    <tr>\n",
       "      <th>13</th>\n",
       "      <td>1</td>\n",
       "      <td>0.500736</td>\n",
       "      <td>6472</td>\n",
       "      <td>1</td>\n",
       "    </tr>\n",
       "    <tr>\n",
       "      <th>14</th>\n",
       "      <td>0</td>\n",
       "      <td>0.073537</td>\n",
       "      <td>712</td>\n",
       "      <td>0</td>\n",
       "    </tr>\n",
       "    <tr>\n",
       "      <th>15</th>\n",
       "      <td>0</td>\n",
       "      <td>0.269051</td>\n",
       "      <td>3960</td>\n",
       "      <td>0</td>\n",
       "    </tr>\n",
       "    <tr>\n",
       "      <th>16</th>\n",
       "      <td>0</td>\n",
       "      <td>0.269051</td>\n",
       "      <td>4654</td>\n",
       "      <td>0</td>\n",
       "    </tr>\n",
       "    <tr>\n",
       "      <th>17</th>\n",
       "      <td>0</td>\n",
       "      <td>0.015403</td>\n",
       "      <td>5902</td>\n",
       "      <td>0</td>\n",
       "    </tr>\n",
       "    <tr>\n",
       "      <th>18</th>\n",
       "      <td>0</td>\n",
       "      <td>0.269051</td>\n",
       "      <td>4691</td>\n",
       "      <td>0</td>\n",
       "    </tr>\n",
       "    <tr>\n",
       "      <th>19</th>\n",
       "      <td>1</td>\n",
       "      <td>0.175875</td>\n",
       "      <td>4341</td>\n",
       "      <td>0</td>\n",
       "    </tr>\n",
       "  </tbody>\n",
       "</table>\n",
       "</div>"
      ],
      "text/plain": [
       "    Converted  Conversion_Prob  LeadID  predicted\n",
       "0           0         0.269051    1871          0\n",
       "1           0         0.272697    6795          0\n",
       "2           0         0.360651    3516          0\n",
       "3           0         0.856380    8105          1\n",
       "4           0         0.202750    3934          0\n",
       "5           1         0.912926    4844          1\n",
       "6           0         0.145487    3297          0\n",
       "7           1         0.863483    8071          1\n",
       "8           0         0.240089     987          0\n",
       "9           1         0.940919    7423          1\n",
       "10          1         0.846592    1032          1\n",
       "11          0         0.407641    6542          0\n",
       "12          1         0.109933    4317          0\n",
       "13          1         0.500736    6472          1\n",
       "14          0         0.073537     712          0\n",
       "15          0         0.269051    3960          0\n",
       "16          0         0.269051    4654          0\n",
       "17          0         0.015403    5902          0\n",
       "18          0         0.269051    4691          0\n",
       "19          1         0.175875    4341          0"
      ]
     },
     "execution_count": 111,
     "metadata": {},
     "output_type": "execute_result"
    }
   ],
   "source": [
    "y_train_pred = res.predict(X_train_sm)\n",
    "y_train_pred = y_train_pred.values.reshape(-1)\n",
    "y_train_pred_final = pd.DataFrame({'Converted':y_train.values, 'Conversion_Prob':y_train_pred})\n",
    "y_train_pred_final['LeadID'] = y_train.index\n",
    "y_train_pred_final['predicted'] = y_train_pred_final.Conversion_Prob.map(lambda x: 1 if x > 0.5 else 0)\n",
    "\n",
    "# Let's see the head\n",
    "y_train_pred_final.head(20)"
   ]
  },
  {
   "cell_type": "code",
   "execution_count": 112,
   "id": "d5088bb4",
   "metadata": {},
   "outputs": [
    {
     "name": "stdout",
     "output_type": "stream",
     "text": [
      "0.8024118738404453\n"
     ]
    }
   ],
   "source": [
    "print(metrics.accuracy_score(y_train_pred_final.Converted, y_train_pred_final.predicted))"
   ]
  },
  {
   "cell_type": "code",
   "execution_count": 113,
   "id": "4d991499",
   "metadata": {},
   "outputs": [
    {
     "data": {
      "text/html": [
       "<div>\n",
       "<style scoped>\n",
       "    .dataframe tbody tr th:only-of-type {\n",
       "        vertical-align: middle;\n",
       "    }\n",
       "\n",
       "    .dataframe tbody tr th {\n",
       "        vertical-align: top;\n",
       "    }\n",
       "\n",
       "    .dataframe thead th {\n",
       "        text-align: right;\n",
       "    }\n",
       "</style>\n",
       "<table border=\"1\" class=\"dataframe\">\n",
       "  <thead>\n",
       "    <tr style=\"text-align: right;\">\n",
       "      <th></th>\n",
       "      <th>Features</th>\n",
       "      <th>VIF</th>\n",
       "    </tr>\n",
       "  </thead>\n",
       "  <tbody>\n",
       "    <tr>\n",
       "      <th>7</th>\n",
       "      <td>Last Activity_SMS Sent</td>\n",
       "      <td>8.06</td>\n",
       "    </tr>\n",
       "    <tr>\n",
       "      <th>15</th>\n",
       "      <td>Last Notable Activity_SMS Sent</td>\n",
       "      <td>7.85</td>\n",
       "    </tr>\n",
       "    <tr>\n",
       "      <th>0</th>\n",
       "      <td>Page Views Per Visit</td>\n",
       "      <td>6.27</td>\n",
       "    </tr>\n",
       "    <tr>\n",
       "      <th>1</th>\n",
       "      <td>TotalVisits</td>\n",
       "      <td>5.51</td>\n",
       "    </tr>\n",
       "    <tr>\n",
       "      <th>10</th>\n",
       "      <td>Lead Source_Others</td>\n",
       "      <td>4.94</td>\n",
       "    </tr>\n",
       "    <tr>\n",
       "      <th>11</th>\n",
       "      <td>Lead Origin_Lead Add Form</td>\n",
       "      <td>4.75</td>\n",
       "    </tr>\n",
       "    <tr>\n",
       "      <th>13</th>\n",
       "      <td>Last Notable Activity_Modified</td>\n",
       "      <td>4.71</td>\n",
       "    </tr>\n",
       "    <tr>\n",
       "      <th>5</th>\n",
       "      <td>Last Activity_Others</td>\n",
       "      <td>2.97</td>\n",
       "    </tr>\n",
       "    <tr>\n",
       "      <th>4</th>\n",
       "      <td>Last Activity_Olark Chat Conversation</td>\n",
       "      <td>2.44</td>\n",
       "    </tr>\n",
       "    <tr>\n",
       "      <th>2</th>\n",
       "      <td>Total Time Spent on Website</td>\n",
       "      <td>2.10</td>\n",
       "    </tr>\n",
       "    <tr>\n",
       "      <th>14</th>\n",
       "      <td>Last Notable Activity_Others</td>\n",
       "      <td>2.00</td>\n",
       "    </tr>\n",
       "    <tr>\n",
       "      <th>8</th>\n",
       "      <td>Lead Source_Google</td>\n",
       "      <td>1.65</td>\n",
       "    </tr>\n",
       "    <tr>\n",
       "      <th>9</th>\n",
       "      <td>Lead Source_Olark Chat</td>\n",
       "      <td>1.56</td>\n",
       "    </tr>\n",
       "    <tr>\n",
       "      <th>6</th>\n",
       "      <td>Last Activity_Page Visited on Website</td>\n",
       "      <td>1.37</td>\n",
       "    </tr>\n",
       "    <tr>\n",
       "      <th>3</th>\n",
       "      <td>Do Not Email</td>\n",
       "      <td>1.27</td>\n",
       "    </tr>\n",
       "    <tr>\n",
       "      <th>12</th>\n",
       "      <td>Lead Origin_Lead Import</td>\n",
       "      <td>1.25</td>\n",
       "    </tr>\n",
       "  </tbody>\n",
       "</table>\n",
       "</div>"
      ],
      "text/plain": [
       "                                 Features   VIF\n",
       "7                  Last Activity_SMS Sent  8.06\n",
       "15         Last Notable Activity_SMS Sent  7.85\n",
       "0                    Page Views Per Visit  6.27\n",
       "1                             TotalVisits  5.51\n",
       "10                     Lead Source_Others  4.94\n",
       "11              Lead Origin_Lead Add Form  4.75\n",
       "13         Last Notable Activity_Modified  4.71\n",
       "5                    Last Activity_Others  2.97\n",
       "4   Last Activity_Olark Chat Conversation  2.44\n",
       "2             Total Time Spent on Website  2.10\n",
       "14           Last Notable Activity_Others  2.00\n",
       "8                      Lead Source_Google  1.65\n",
       "9                  Lead Source_Olark Chat  1.56\n",
       "6   Last Activity_Page Visited on Website  1.37\n",
       "3                            Do Not Email  1.27\n",
       "12                Lead Origin_Lead Import  1.25"
      ]
     },
     "execution_count": 113,
     "metadata": {},
     "output_type": "execute_result"
    }
   ],
   "source": [
    "vif = pd.DataFrame()\n",
    "vif['Features'] = X_train[col3].columns\n",
    "vif['VIF'] = [variance_inflation_factor(X_train[col3].values, i) for i in range(X_train[col3].shape[1])]\n",
    "vif['VIF'] = round(vif['VIF'], 2)\n",
    "vif = vif.sort_values(by = \"VIF\", ascending = False)\n",
    "vif"
   ]
  },
  {
   "cell_type": "markdown",
   "id": "23e1d0c8",
   "metadata": {},
   "source": [
    "#### Dropping column\n",
    "\n",
    "We need to drop the following columns for having a high p value - 'Lead Origin_Lead Import'"
   ]
  },
  {
   "cell_type": "code",
   "execution_count": 114,
   "id": "ede46a48",
   "metadata": {},
   "outputs": [],
   "source": [
    "col4 = col3.drop('Lead Origin_Lead Import', 1)"
   ]
  },
  {
   "cell_type": "markdown",
   "id": "e2dd58ae",
   "metadata": {},
   "source": [
    "### Model 4"
   ]
  },
  {
   "cell_type": "code",
   "execution_count": 115,
   "id": "7eeefd51",
   "metadata": {},
   "outputs": [
    {
     "data": {
      "text/html": [
       "<table class=\"simpletable\">\n",
       "<caption>Generalized Linear Model Regression Results</caption>\n",
       "<tr>\n",
       "  <th>Dep. Variable:</th>       <td>Converted</td>    <th>  No. Observations:  </th>  <td>  6468</td> \n",
       "</tr>\n",
       "<tr>\n",
       "  <th>Model:</th>                  <td>GLM</td>       <th>  Df Residuals:      </th>  <td>  6452</td> \n",
       "</tr>\n",
       "<tr>\n",
       "  <th>Model Family:</th>        <td>Binomial</td>     <th>  Df Model:          </th>  <td>    15</td> \n",
       "</tr>\n",
       "<tr>\n",
       "  <th>Link Function:</th>         <td>Logit</td>      <th>  Scale:             </th> <td>  1.0000</td>\n",
       "</tr>\n",
       "<tr>\n",
       "  <th>Method:</th>                <td>IRLS</td>       <th>  Log-Likelihood:    </th> <td> -2848.1</td>\n",
       "</tr>\n",
       "<tr>\n",
       "  <th>Date:</th>            <td>Sun, 05 Mar 2023</td> <th>  Deviance:          </th> <td>  5696.2</td>\n",
       "</tr>\n",
       "<tr>\n",
       "  <th>Time:</th>                <td>19:48:16</td>     <th>  Pearson chi2:      </th> <td>6.66e+03</td>\n",
       "</tr>\n",
       "<tr>\n",
       "  <th>No. Iterations:</th>          <td>6</td>        <th>  Pseudo R-squ. (CS):</th>  <td>0.3615</td> \n",
       "</tr>\n",
       "<tr>\n",
       "  <th>Covariance Type:</th>     <td>nonrobust</td>    <th>                     </th>     <td> </td>   \n",
       "</tr>\n",
       "</table>\n",
       "<table class=\"simpletable\">\n",
       "<tr>\n",
       "                    <td></td>                       <th>coef</th>     <th>std err</th>      <th>z</th>      <th>P>|z|</th>  <th>[0.025</th>    <th>0.975]</th>  \n",
       "</tr>\n",
       "<tr>\n",
       "  <th>const</th>                                 <td>   -2.2450</td> <td>    0.119</td> <td>  -18.934</td> <td> 0.000</td> <td>   -2.477</td> <td>   -2.013</td>\n",
       "</tr>\n",
       "<tr>\n",
       "  <th>Page Views Per Visit</th>                  <td>   -0.9439</td> <td>    0.188</td> <td>   -5.012</td> <td> 0.000</td> <td>   -1.313</td> <td>   -0.575</td>\n",
       "</tr>\n",
       "<tr>\n",
       "  <th>TotalVisits</th>                           <td>    1.3418</td> <td>    0.193</td> <td>    6.948</td> <td> 0.000</td> <td>    0.963</td> <td>    1.720</td>\n",
       "</tr>\n",
       "<tr>\n",
       "  <th>Total Time Spent on Website</th>           <td>    4.5871</td> <td>    0.160</td> <td>   28.606</td> <td> 0.000</td> <td>    4.273</td> <td>    4.901</td>\n",
       "</tr>\n",
       "<tr>\n",
       "  <th>Do Not Email</th>                          <td>   -1.1978</td> <td>    0.167</td> <td>   -7.155</td> <td> 0.000</td> <td>   -1.526</td> <td>   -0.870</td>\n",
       "</tr>\n",
       "<tr>\n",
       "  <th>Last Activity_Olark Chat Conversation</th> <td>   -1.4759</td> <td>    0.199</td> <td>   -7.422</td> <td> 0.000</td> <td>   -1.866</td> <td>   -1.086</td>\n",
       "</tr>\n",
       "<tr>\n",
       "  <th>Last Activity_Others</th>                  <td>   -0.5245</td> <td>    0.165</td> <td>   -3.185</td> <td> 0.001</td> <td>   -0.847</td> <td>   -0.202</td>\n",
       "</tr>\n",
       "<tr>\n",
       "  <th>Last Activity_Page Visited on Website</th> <td>   -0.6321</td> <td>    0.150</td> <td>   -4.204</td> <td> 0.000</td> <td>   -0.927</td> <td>   -0.337</td>\n",
       "</tr>\n",
       "<tr>\n",
       "  <th>Last Activity_SMS Sent</th>                <td>    0.3743</td> <td>    0.167</td> <td>    2.239</td> <td> 0.025</td> <td>    0.047</td> <td>    0.702</td>\n",
       "</tr>\n",
       "<tr>\n",
       "  <th>Lead Source_Google</th>                    <td>    0.3375</td> <td>    0.077</td> <td>    4.386</td> <td> 0.000</td> <td>    0.187</td> <td>    0.488</td>\n",
       "</tr>\n",
       "<tr>\n",
       "  <th>Lead Source_Olark Chat</th>                <td>    1.2451</td> <td>    0.131</td> <td>    9.490</td> <td> 0.000</td> <td>    0.988</td> <td>    1.502</td>\n",
       "</tr>\n",
       "<tr>\n",
       "  <th>Lead Source_Others</th>                    <td>    0.3375</td> <td>    0.220</td> <td>    1.534</td> <td> 0.125</td> <td>   -0.094</td> <td>    0.769</td>\n",
       "</tr>\n",
       "<tr>\n",
       "  <th>Lead Origin_Lead Add Form</th>             <td>    3.9118</td> <td>    0.271</td> <td>   14.416</td> <td> 0.000</td> <td>    3.380</td> <td>    4.444</td>\n",
       "</tr>\n",
       "<tr>\n",
       "  <th>Last Notable Activity_Modified</th>        <td>   -0.3724</td> <td>    0.119</td> <td>   -3.119</td> <td> 0.002</td> <td>   -0.606</td> <td>   -0.138</td>\n",
       "</tr>\n",
       "<tr>\n",
       "  <th>Last Notable Activity_Others</th>          <td>    0.5395</td> <td>    0.214</td> <td>    2.516</td> <td> 0.012</td> <td>    0.119</td> <td>    0.960</td>\n",
       "</tr>\n",
       "<tr>\n",
       "  <th>Last Notable Activity_SMS Sent</th>        <td>    1.0146</td> <td>    0.184</td> <td>    5.509</td> <td> 0.000</td> <td>    0.654</td> <td>    1.376</td>\n",
       "</tr>\n",
       "</table>"
      ],
      "text/plain": [
       "<class 'statsmodels.iolib.summary.Summary'>\n",
       "\"\"\"\n",
       "                 Generalized Linear Model Regression Results                  \n",
       "==============================================================================\n",
       "Dep. Variable:              Converted   No. Observations:                 6468\n",
       "Model:                            GLM   Df Residuals:                     6452\n",
       "Model Family:                Binomial   Df Model:                           15\n",
       "Link Function:                  Logit   Scale:                          1.0000\n",
       "Method:                          IRLS   Log-Likelihood:                -2848.1\n",
       "Date:                Sun, 05 Mar 2023   Deviance:                       5696.2\n",
       "Time:                        19:48:16   Pearson chi2:                 6.66e+03\n",
       "No. Iterations:                     6   Pseudo R-squ. (CS):             0.3615\n",
       "Covariance Type:            nonrobust                                         \n",
       "=========================================================================================================\n",
       "                                            coef    std err          z      P>|z|      [0.025      0.975]\n",
       "---------------------------------------------------------------------------------------------------------\n",
       "const                                    -2.2450      0.119    -18.934      0.000      -2.477      -2.013\n",
       "Page Views Per Visit                     -0.9439      0.188     -5.012      0.000      -1.313      -0.575\n",
       "TotalVisits                               1.3418      0.193      6.948      0.000       0.963       1.720\n",
       "Total Time Spent on Website               4.5871      0.160     28.606      0.000       4.273       4.901\n",
       "Do Not Email                             -1.1978      0.167     -7.155      0.000      -1.526      -0.870\n",
       "Last Activity_Olark Chat Conversation    -1.4759      0.199     -7.422      0.000      -1.866      -1.086\n",
       "Last Activity_Others                     -0.5245      0.165     -3.185      0.001      -0.847      -0.202\n",
       "Last Activity_Page Visited on Website    -0.6321      0.150     -4.204      0.000      -0.927      -0.337\n",
       "Last Activity_SMS Sent                    0.3743      0.167      2.239      0.025       0.047       0.702\n",
       "Lead Source_Google                        0.3375      0.077      4.386      0.000       0.187       0.488\n",
       "Lead Source_Olark Chat                    1.2451      0.131      9.490      0.000       0.988       1.502\n",
       "Lead Source_Others                        0.3375      0.220      1.534      0.125      -0.094       0.769\n",
       "Lead Origin_Lead Add Form                 3.9118      0.271     14.416      0.000       3.380       4.444\n",
       "Last Notable Activity_Modified           -0.3724      0.119     -3.119      0.002      -0.606      -0.138\n",
       "Last Notable Activity_Others              0.5395      0.214      2.516      0.012       0.119       0.960\n",
       "Last Notable Activity_SMS Sent            1.0146      0.184      5.509      0.000       0.654       1.376\n",
       "=========================================================================================================\n",
       "\"\"\""
      ]
     },
     "execution_count": 115,
     "metadata": {},
     "output_type": "execute_result"
    }
   ],
   "source": [
    "# Let's re-run the model using the selected variables\n",
    "X_train_sm = sm.add_constant(X_train[col4])\n",
    "logm04 = sm.GLM(y_train,X_train_sm, family = sm.families.Binomial())\n",
    "res = logm04.fit()\n",
    "res.summary()"
   ]
  },
  {
   "cell_type": "code",
   "execution_count": 116,
   "id": "b2afc2ff",
   "metadata": {},
   "outputs": [
    {
     "data": {
      "text/html": [
       "<div>\n",
       "<style scoped>\n",
       "    .dataframe tbody tr th:only-of-type {\n",
       "        vertical-align: middle;\n",
       "    }\n",
       "\n",
       "    .dataframe tbody tr th {\n",
       "        vertical-align: top;\n",
       "    }\n",
       "\n",
       "    .dataframe thead th {\n",
       "        text-align: right;\n",
       "    }\n",
       "</style>\n",
       "<table border=\"1\" class=\"dataframe\">\n",
       "  <thead>\n",
       "    <tr style=\"text-align: right;\">\n",
       "      <th></th>\n",
       "      <th>Converted</th>\n",
       "      <th>Conversion_Prob</th>\n",
       "      <th>LeadID</th>\n",
       "      <th>predicted</th>\n",
       "    </tr>\n",
       "  </thead>\n",
       "  <tbody>\n",
       "    <tr>\n",
       "      <th>0</th>\n",
       "      <td>0</td>\n",
       "      <td>0.268958</td>\n",
       "      <td>1871</td>\n",
       "      <td>0</td>\n",
       "    </tr>\n",
       "    <tr>\n",
       "      <th>1</th>\n",
       "      <td>0</td>\n",
       "      <td>0.272287</td>\n",
       "      <td>6795</td>\n",
       "      <td>0</td>\n",
       "    </tr>\n",
       "    <tr>\n",
       "      <th>2</th>\n",
       "      <td>0</td>\n",
       "      <td>0.361401</td>\n",
       "      <td>3516</td>\n",
       "      <td>0</td>\n",
       "    </tr>\n",
       "    <tr>\n",
       "      <th>3</th>\n",
       "      <td>0</td>\n",
       "      <td>0.856690</td>\n",
       "      <td>8105</td>\n",
       "      <td>1</td>\n",
       "    </tr>\n",
       "    <tr>\n",
       "      <th>4</th>\n",
       "      <td>0</td>\n",
       "      <td>0.202251</td>\n",
       "      <td>3934</td>\n",
       "      <td>0</td>\n",
       "    </tr>\n",
       "    <tr>\n",
       "      <th>5</th>\n",
       "      <td>1</td>\n",
       "      <td>0.912910</td>\n",
       "      <td>4844</td>\n",
       "      <td>1</td>\n",
       "    </tr>\n",
       "    <tr>\n",
       "      <th>6</th>\n",
       "      <td>0</td>\n",
       "      <td>0.145529</td>\n",
       "      <td>3297</td>\n",
       "      <td>0</td>\n",
       "    </tr>\n",
       "    <tr>\n",
       "      <th>7</th>\n",
       "      <td>1</td>\n",
       "      <td>0.863802</td>\n",
       "      <td>8071</td>\n",
       "      <td>1</td>\n",
       "    </tr>\n",
       "    <tr>\n",
       "      <th>8</th>\n",
       "      <td>0</td>\n",
       "      <td>0.232498</td>\n",
       "      <td>987</td>\n",
       "      <td>0</td>\n",
       "    </tr>\n",
       "    <tr>\n",
       "      <th>9</th>\n",
       "      <td>1</td>\n",
       "      <td>0.940867</td>\n",
       "      <td>7423</td>\n",
       "      <td>1</td>\n",
       "    </tr>\n",
       "    <tr>\n",
       "      <th>10</th>\n",
       "      <td>1</td>\n",
       "      <td>0.847100</td>\n",
       "      <td>1032</td>\n",
       "      <td>1</td>\n",
       "    </tr>\n",
       "    <tr>\n",
       "      <th>11</th>\n",
       "      <td>0</td>\n",
       "      <td>0.408000</td>\n",
       "      <td>6542</td>\n",
       "      <td>0</td>\n",
       "    </tr>\n",
       "    <tr>\n",
       "      <th>12</th>\n",
       "      <td>1</td>\n",
       "      <td>0.109823</td>\n",
       "      <td>4317</td>\n",
       "      <td>0</td>\n",
       "    </tr>\n",
       "    <tr>\n",
       "      <th>13</th>\n",
       "      <td>1</td>\n",
       "      <td>0.500680</td>\n",
       "      <td>6472</td>\n",
       "      <td>1</td>\n",
       "    </tr>\n",
       "    <tr>\n",
       "      <th>14</th>\n",
       "      <td>0</td>\n",
       "      <td>0.073453</td>\n",
       "      <td>712</td>\n",
       "      <td>0</td>\n",
       "    </tr>\n",
       "    <tr>\n",
       "      <th>15</th>\n",
       "      <td>0</td>\n",
       "      <td>0.268958</td>\n",
       "      <td>3960</td>\n",
       "      <td>0</td>\n",
       "    </tr>\n",
       "    <tr>\n",
       "      <th>16</th>\n",
       "      <td>0</td>\n",
       "      <td>0.268958</td>\n",
       "      <td>4654</td>\n",
       "      <td>0</td>\n",
       "    </tr>\n",
       "    <tr>\n",
       "      <th>17</th>\n",
       "      <td>0</td>\n",
       "      <td>0.015460</td>\n",
       "      <td>5902</td>\n",
       "      <td>0</td>\n",
       "    </tr>\n",
       "    <tr>\n",
       "      <th>18</th>\n",
       "      <td>0</td>\n",
       "      <td>0.268958</td>\n",
       "      <td>4691</td>\n",
       "      <td>0</td>\n",
       "    </tr>\n",
       "    <tr>\n",
       "      <th>19</th>\n",
       "      <td>1</td>\n",
       "      <td>0.175750</td>\n",
       "      <td>4341</td>\n",
       "      <td>0</td>\n",
       "    </tr>\n",
       "  </tbody>\n",
       "</table>\n",
       "</div>"
      ],
      "text/plain": [
       "    Converted  Conversion_Prob  LeadID  predicted\n",
       "0           0         0.268958    1871          0\n",
       "1           0         0.272287    6795          0\n",
       "2           0         0.361401    3516          0\n",
       "3           0         0.856690    8105          1\n",
       "4           0         0.202251    3934          0\n",
       "5           1         0.912910    4844          1\n",
       "6           0         0.145529    3297          0\n",
       "7           1         0.863802    8071          1\n",
       "8           0         0.232498     987          0\n",
       "9           1         0.940867    7423          1\n",
       "10          1         0.847100    1032          1\n",
       "11          0         0.408000    6542          0\n",
       "12          1         0.109823    4317          0\n",
       "13          1         0.500680    6472          1\n",
       "14          0         0.073453     712          0\n",
       "15          0         0.268958    3960          0\n",
       "16          0         0.268958    4654          0\n",
       "17          0         0.015460    5902          0\n",
       "18          0         0.268958    4691          0\n",
       "19          1         0.175750    4341          0"
      ]
     },
     "execution_count": 116,
     "metadata": {},
     "output_type": "execute_result"
    }
   ],
   "source": [
    "y_train_pred = res.predict(X_train_sm)\n",
    "y_train_pred = y_train_pred.values.reshape(-1)\n",
    "y_train_pred_final = pd.DataFrame({'Converted':y_train.values, 'Conversion_Prob':y_train_pred})\n",
    "y_train_pred_final['LeadID'] = y_train.index\n",
    "y_train_pred_final['predicted'] = y_train_pred_final.Conversion_Prob.map(lambda x: 1 if x > 0.5 else 0)\n",
    "\n",
    "# Let's see the head\n",
    "y_train_pred_final.head(20)"
   ]
  },
  {
   "cell_type": "code",
   "execution_count": 117,
   "id": "9c39a390",
   "metadata": {},
   "outputs": [
    {
     "name": "stdout",
     "output_type": "stream",
     "text": [
      "0.8022572665429808\n"
     ]
    }
   ],
   "source": [
    "print(metrics.accuracy_score(y_train_pred_final.Converted, y_train_pred_final.predicted))"
   ]
  },
  {
   "cell_type": "code",
   "execution_count": 118,
   "id": "4d1bc869",
   "metadata": {},
   "outputs": [
    {
     "data": {
      "text/html": [
       "<div>\n",
       "<style scoped>\n",
       "    .dataframe tbody tr th:only-of-type {\n",
       "        vertical-align: middle;\n",
       "    }\n",
       "\n",
       "    .dataframe tbody tr th {\n",
       "        vertical-align: top;\n",
       "    }\n",
       "\n",
       "    .dataframe thead th {\n",
       "        text-align: right;\n",
       "    }\n",
       "</style>\n",
       "<table border=\"1\" class=\"dataframe\">\n",
       "  <thead>\n",
       "    <tr style=\"text-align: right;\">\n",
       "      <th></th>\n",
       "      <th>Features</th>\n",
       "      <th>VIF</th>\n",
       "    </tr>\n",
       "  </thead>\n",
       "  <tbody>\n",
       "    <tr>\n",
       "      <th>7</th>\n",
       "      <td>Last Activity_SMS Sent</td>\n",
       "      <td>8.06</td>\n",
       "    </tr>\n",
       "    <tr>\n",
       "      <th>14</th>\n",
       "      <td>Last Notable Activity_SMS Sent</td>\n",
       "      <td>7.85</td>\n",
       "    </tr>\n",
       "    <tr>\n",
       "      <th>0</th>\n",
       "      <td>Page Views Per Visit</td>\n",
       "      <td>6.26</td>\n",
       "    </tr>\n",
       "    <tr>\n",
       "      <th>1</th>\n",
       "      <td>TotalVisits</td>\n",
       "      <td>5.51</td>\n",
       "    </tr>\n",
       "    <tr>\n",
       "      <th>12</th>\n",
       "      <td>Last Notable Activity_Modified</td>\n",
       "      <td>4.69</td>\n",
       "    </tr>\n",
       "    <tr>\n",
       "      <th>11</th>\n",
       "      <td>Lead Origin_Lead Add Form</td>\n",
       "      <td>4.03</td>\n",
       "    </tr>\n",
       "    <tr>\n",
       "      <th>10</th>\n",
       "      <td>Lead Source_Others</td>\n",
       "      <td>4.00</td>\n",
       "    </tr>\n",
       "    <tr>\n",
       "      <th>5</th>\n",
       "      <td>Last Activity_Others</td>\n",
       "      <td>2.96</td>\n",
       "    </tr>\n",
       "    <tr>\n",
       "      <th>4</th>\n",
       "      <td>Last Activity_Olark Chat Conversation</td>\n",
       "      <td>2.43</td>\n",
       "    </tr>\n",
       "    <tr>\n",
       "      <th>2</th>\n",
       "      <td>Total Time Spent on Website</td>\n",
       "      <td>2.10</td>\n",
       "    </tr>\n",
       "    <tr>\n",
       "      <th>13</th>\n",
       "      <td>Last Notable Activity_Others</td>\n",
       "      <td>2.00</td>\n",
       "    </tr>\n",
       "    <tr>\n",
       "      <th>8</th>\n",
       "      <td>Lead Source_Google</td>\n",
       "      <td>1.65</td>\n",
       "    </tr>\n",
       "    <tr>\n",
       "      <th>9</th>\n",
       "      <td>Lead Source_Olark Chat</td>\n",
       "      <td>1.56</td>\n",
       "    </tr>\n",
       "    <tr>\n",
       "      <th>6</th>\n",
       "      <td>Last Activity_Page Visited on Website</td>\n",
       "      <td>1.37</td>\n",
       "    </tr>\n",
       "    <tr>\n",
       "      <th>3</th>\n",
       "      <td>Do Not Email</td>\n",
       "      <td>1.27</td>\n",
       "    </tr>\n",
       "  </tbody>\n",
       "</table>\n",
       "</div>"
      ],
      "text/plain": [
       "                                 Features   VIF\n",
       "7                  Last Activity_SMS Sent  8.06\n",
       "14         Last Notable Activity_SMS Sent  7.85\n",
       "0                    Page Views Per Visit  6.26\n",
       "1                             TotalVisits  5.51\n",
       "12         Last Notable Activity_Modified  4.69\n",
       "11              Lead Origin_Lead Add Form  4.03\n",
       "10                     Lead Source_Others  4.00\n",
       "5                    Last Activity_Others  2.96\n",
       "4   Last Activity_Olark Chat Conversation  2.43\n",
       "2             Total Time Spent on Website  2.10\n",
       "13           Last Notable Activity_Others  2.00\n",
       "8                      Lead Source_Google  1.65\n",
       "9                  Lead Source_Olark Chat  1.56\n",
       "6   Last Activity_Page Visited on Website  1.37\n",
       "3                            Do Not Email  1.27"
      ]
     },
     "execution_count": 118,
     "metadata": {},
     "output_type": "execute_result"
    }
   ],
   "source": [
    "vif = pd.DataFrame()\n",
    "vif['Features'] = X_train[col4].columns\n",
    "vif['VIF'] = [variance_inflation_factor(X_train[col4].values, i) for i in range(X_train[col4].shape[1])]\n",
    "vif['VIF'] = round(vif['VIF'], 2)\n",
    "vif = vif.sort_values(by = \"VIF\", ascending = False)\n",
    "vif"
   ]
  },
  {
   "cell_type": "markdown",
   "id": "bc86748a",
   "metadata": {},
   "source": [
    "#### Dropping column\n",
    "\n",
    "We need to drop the following columns for having a high p value - 'Lead Source_Others'"
   ]
  },
  {
   "cell_type": "code",
   "execution_count": 119,
   "id": "2745a3f4",
   "metadata": {},
   "outputs": [],
   "source": [
    "col5 = col4.drop('Lead Source_Others', 1)"
   ]
  },
  {
   "cell_type": "markdown",
   "id": "16f75633",
   "metadata": {},
   "source": [
    "### Model 5"
   ]
  },
  {
   "cell_type": "code",
   "execution_count": 120,
   "id": "5f75c387",
   "metadata": {},
   "outputs": [
    {
     "data": {
      "text/html": [
       "<table class=\"simpletable\">\n",
       "<caption>Generalized Linear Model Regression Results</caption>\n",
       "<tr>\n",
       "  <th>Dep. Variable:</th>       <td>Converted</td>    <th>  No. Observations:  </th>  <td>  6468</td> \n",
       "</tr>\n",
       "<tr>\n",
       "  <th>Model:</th>                  <td>GLM</td>       <th>  Df Residuals:      </th>  <td>  6453</td> \n",
       "</tr>\n",
       "<tr>\n",
       "  <th>Model Family:</th>        <td>Binomial</td>     <th>  Df Model:          </th>  <td>    14</td> \n",
       "</tr>\n",
       "<tr>\n",
       "  <th>Link Function:</th>         <td>Logit</td>      <th>  Scale:             </th> <td>  1.0000</td>\n",
       "</tr>\n",
       "<tr>\n",
       "  <th>Method:</th>                <td>IRLS</td>       <th>  Log-Likelihood:    </th> <td> -2849.3</td>\n",
       "</tr>\n",
       "<tr>\n",
       "  <th>Date:</th>            <td>Sun, 05 Mar 2023</td> <th>  Deviance:          </th> <td>  5698.5</td>\n",
       "</tr>\n",
       "<tr>\n",
       "  <th>Time:</th>                <td>19:48:16</td>     <th>  Pearson chi2:      </th> <td>6.66e+03</td>\n",
       "</tr>\n",
       "<tr>\n",
       "  <th>No. Iterations:</th>          <td>6</td>        <th>  Pseudo R-squ. (CS):</th>  <td>0.3613</td> \n",
       "</tr>\n",
       "<tr>\n",
       "  <th>Covariance Type:</th>     <td>nonrobust</td>    <th>                     </th>     <td> </td>   \n",
       "</tr>\n",
       "</table>\n",
       "<table class=\"simpletable\">\n",
       "<tr>\n",
       "                    <td></td>                       <th>coef</th>     <th>std err</th>      <th>z</th>      <th>P>|z|</th>  <th>[0.025</th>    <th>0.975]</th>  \n",
       "</tr>\n",
       "<tr>\n",
       "  <th>const</th>                                 <td>   -2.2187</td> <td>    0.117</td> <td>  -18.913</td> <td> 0.000</td> <td>   -2.449</td> <td>   -1.989</td>\n",
       "</tr>\n",
       "<tr>\n",
       "  <th>Page Views Per Visit</th>                  <td>   -0.9528</td> <td>    0.188</td> <td>   -5.060</td> <td> 0.000</td> <td>   -1.322</td> <td>   -0.584</td>\n",
       "</tr>\n",
       "<tr>\n",
       "  <th>TotalVisits</th>                           <td>    1.3448</td> <td>    0.193</td> <td>    6.961</td> <td> 0.000</td> <td>    0.966</td> <td>    1.723</td>\n",
       "</tr>\n",
       "<tr>\n",
       "  <th>Total Time Spent on Website</th>           <td>    4.5771</td> <td>    0.160</td> <td>   28.586</td> <td> 0.000</td> <td>    4.263</td> <td>    4.891</td>\n",
       "</tr>\n",
       "<tr>\n",
       "  <th>Do Not Email</th>                          <td>   -1.2086</td> <td>    0.168</td> <td>   -7.212</td> <td> 0.000</td> <td>   -1.537</td> <td>   -0.880</td>\n",
       "</tr>\n",
       "<tr>\n",
       "  <th>Last Activity_Olark Chat Conversation</th> <td>   -1.4789</td> <td>    0.199</td> <td>   -7.433</td> <td> 0.000</td> <td>   -1.869</td> <td>   -1.089</td>\n",
       "</tr>\n",
       "<tr>\n",
       "  <th>Last Activity_Others</th>                  <td>   -0.5313</td> <td>    0.165</td> <td>   -3.228</td> <td> 0.001</td> <td>   -0.854</td> <td>   -0.209</td>\n",
       "</tr>\n",
       "<tr>\n",
       "  <th>Last Activity_Page Visited on Website</th> <td>   -0.6345</td> <td>    0.150</td> <td>   -4.223</td> <td> 0.000</td> <td>   -0.929</td> <td>   -0.340</td>\n",
       "</tr>\n",
       "<tr>\n",
       "  <th>Last Activity_SMS Sent</th>                <td>    0.3661</td> <td>    0.167</td> <td>    2.192</td> <td> 0.028</td> <td>    0.039</td> <td>    0.693</td>\n",
       "</tr>\n",
       "<tr>\n",
       "  <th>Lead Source_Google</th>                    <td>    0.3165</td> <td>    0.076</td> <td>    4.185</td> <td> 0.000</td> <td>    0.168</td> <td>    0.465</td>\n",
       "</tr>\n",
       "<tr>\n",
       "  <th>Lead Source_Olark Chat</th>                <td>    1.2190</td> <td>    0.130</td> <td>    9.374</td> <td> 0.000</td> <td>    0.964</td> <td>    1.474</td>\n",
       "</tr>\n",
       "<tr>\n",
       "  <th>Lead Origin_Lead Add Form</th>             <td>    4.2058</td> <td>    0.195</td> <td>   21.609</td> <td> 0.000</td> <td>    3.824</td> <td>    4.587</td>\n",
       "</tr>\n",
       "<tr>\n",
       "  <th>Last Notable Activity_Modified</th>        <td>   -0.3639</td> <td>    0.119</td> <td>   -3.051</td> <td> 0.002</td> <td>   -0.598</td> <td>   -0.130</td>\n",
       "</tr>\n",
       "<tr>\n",
       "  <th>Last Notable Activity_Others</th>          <td>    0.5494</td> <td>    0.214</td> <td>    2.562</td> <td> 0.010</td> <td>    0.129</td> <td>    0.970</td>\n",
       "</tr>\n",
       "<tr>\n",
       "  <th>Last Notable Activity_SMS Sent</th>        <td>    1.0163</td> <td>    0.184</td> <td>    5.520</td> <td> 0.000</td> <td>    0.655</td> <td>    1.377</td>\n",
       "</tr>\n",
       "</table>"
      ],
      "text/plain": [
       "<class 'statsmodels.iolib.summary.Summary'>\n",
       "\"\"\"\n",
       "                 Generalized Linear Model Regression Results                  \n",
       "==============================================================================\n",
       "Dep. Variable:              Converted   No. Observations:                 6468\n",
       "Model:                            GLM   Df Residuals:                     6453\n",
       "Model Family:                Binomial   Df Model:                           14\n",
       "Link Function:                  Logit   Scale:                          1.0000\n",
       "Method:                          IRLS   Log-Likelihood:                -2849.3\n",
       "Date:                Sun, 05 Mar 2023   Deviance:                       5698.5\n",
       "Time:                        19:48:16   Pearson chi2:                 6.66e+03\n",
       "No. Iterations:                     6   Pseudo R-squ. (CS):             0.3613\n",
       "Covariance Type:            nonrobust                                         \n",
       "=========================================================================================================\n",
       "                                            coef    std err          z      P>|z|      [0.025      0.975]\n",
       "---------------------------------------------------------------------------------------------------------\n",
       "const                                    -2.2187      0.117    -18.913      0.000      -2.449      -1.989\n",
       "Page Views Per Visit                     -0.9528      0.188     -5.060      0.000      -1.322      -0.584\n",
       "TotalVisits                               1.3448      0.193      6.961      0.000       0.966       1.723\n",
       "Total Time Spent on Website               4.5771      0.160     28.586      0.000       4.263       4.891\n",
       "Do Not Email                             -1.2086      0.168     -7.212      0.000      -1.537      -0.880\n",
       "Last Activity_Olark Chat Conversation    -1.4789      0.199     -7.433      0.000      -1.869      -1.089\n",
       "Last Activity_Others                     -0.5313      0.165     -3.228      0.001      -0.854      -0.209\n",
       "Last Activity_Page Visited on Website    -0.6345      0.150     -4.223      0.000      -0.929      -0.340\n",
       "Last Activity_SMS Sent                    0.3661      0.167      2.192      0.028       0.039       0.693\n",
       "Lead Source_Google                        0.3165      0.076      4.185      0.000       0.168       0.465\n",
       "Lead Source_Olark Chat                    1.2190      0.130      9.374      0.000       0.964       1.474\n",
       "Lead Origin_Lead Add Form                 4.2058      0.195     21.609      0.000       3.824       4.587\n",
       "Last Notable Activity_Modified           -0.3639      0.119     -3.051      0.002      -0.598      -0.130\n",
       "Last Notable Activity_Others              0.5494      0.214      2.562      0.010       0.129       0.970\n",
       "Last Notable Activity_SMS Sent            1.0163      0.184      5.520      0.000       0.655       1.377\n",
       "=========================================================================================================\n",
       "\"\"\""
      ]
     },
     "execution_count": 120,
     "metadata": {},
     "output_type": "execute_result"
    }
   ],
   "source": [
    "# Let's re-run the model using the selected variables\n",
    "X_train_sm = sm.add_constant(X_train[col5])\n",
    "logm05 = sm.GLM(y_train,X_train_sm, family = sm.families.Binomial())\n",
    "res = logm05.fit()\n",
    "res.summary()"
   ]
  },
  {
   "cell_type": "code",
   "execution_count": 121,
   "id": "32c9200a",
   "metadata": {},
   "outputs": [
    {
     "name": "stdout",
     "output_type": "stream",
     "text": [
      "0.8022572665429808\n"
     ]
    }
   ],
   "source": [
    "print(metrics.accuracy_score(y_train_pred_final.Converted, y_train_pred_final.predicted))"
   ]
  },
  {
   "cell_type": "code",
   "execution_count": 122,
   "id": "1553f783",
   "metadata": {},
   "outputs": [
    {
     "data": {
      "text/html": [
       "<div>\n",
       "<style scoped>\n",
       "    .dataframe tbody tr th:only-of-type {\n",
       "        vertical-align: middle;\n",
       "    }\n",
       "\n",
       "    .dataframe tbody tr th {\n",
       "        vertical-align: top;\n",
       "    }\n",
       "\n",
       "    .dataframe thead th {\n",
       "        text-align: right;\n",
       "    }\n",
       "</style>\n",
       "<table border=\"1\" class=\"dataframe\">\n",
       "  <thead>\n",
       "    <tr style=\"text-align: right;\">\n",
       "      <th></th>\n",
       "      <th>Features</th>\n",
       "      <th>VIF</th>\n",
       "    </tr>\n",
       "  </thead>\n",
       "  <tbody>\n",
       "    <tr>\n",
       "      <th>7</th>\n",
       "      <td>Last Activity_SMS Sent</td>\n",
       "      <td>8.05</td>\n",
       "    </tr>\n",
       "    <tr>\n",
       "      <th>13</th>\n",
       "      <td>Last Notable Activity_SMS Sent</td>\n",
       "      <td>7.84</td>\n",
       "    </tr>\n",
       "    <tr>\n",
       "      <th>0</th>\n",
       "      <td>Page Views Per Visit</td>\n",
       "      <td>6.26</td>\n",
       "    </tr>\n",
       "    <tr>\n",
       "      <th>1</th>\n",
       "      <td>TotalVisits</td>\n",
       "      <td>5.50</td>\n",
       "    </tr>\n",
       "    <tr>\n",
       "      <th>11</th>\n",
       "      <td>Last Notable Activity_Modified</td>\n",
       "      <td>4.66</td>\n",
       "    </tr>\n",
       "    <tr>\n",
       "      <th>5</th>\n",
       "      <td>Last Activity_Others</td>\n",
       "      <td>2.96</td>\n",
       "    </tr>\n",
       "    <tr>\n",
       "      <th>4</th>\n",
       "      <td>Last Activity_Olark Chat Conversation</td>\n",
       "      <td>2.43</td>\n",
       "    </tr>\n",
       "    <tr>\n",
       "      <th>2</th>\n",
       "      <td>Total Time Spent on Website</td>\n",
       "      <td>2.10</td>\n",
       "    </tr>\n",
       "    <tr>\n",
       "      <th>12</th>\n",
       "      <td>Last Notable Activity_Others</td>\n",
       "      <td>2.00</td>\n",
       "    </tr>\n",
       "    <tr>\n",
       "      <th>8</th>\n",
       "      <td>Lead Source_Google</td>\n",
       "      <td>1.60</td>\n",
       "    </tr>\n",
       "    <tr>\n",
       "      <th>9</th>\n",
       "      <td>Lead Source_Olark Chat</td>\n",
       "      <td>1.56</td>\n",
       "    </tr>\n",
       "    <tr>\n",
       "      <th>6</th>\n",
       "      <td>Last Activity_Page Visited on Website</td>\n",
       "      <td>1.37</td>\n",
       "    </tr>\n",
       "    <tr>\n",
       "      <th>3</th>\n",
       "      <td>Do Not Email</td>\n",
       "      <td>1.27</td>\n",
       "    </tr>\n",
       "    <tr>\n",
       "      <th>10</th>\n",
       "      <td>Lead Origin_Lead Add Form</td>\n",
       "      <td>1.17</td>\n",
       "    </tr>\n",
       "  </tbody>\n",
       "</table>\n",
       "</div>"
      ],
      "text/plain": [
       "                                 Features   VIF\n",
       "7                  Last Activity_SMS Sent  8.05\n",
       "13         Last Notable Activity_SMS Sent  7.84\n",
       "0                    Page Views Per Visit  6.26\n",
       "1                             TotalVisits  5.50\n",
       "11         Last Notable Activity_Modified  4.66\n",
       "5                    Last Activity_Others  2.96\n",
       "4   Last Activity_Olark Chat Conversation  2.43\n",
       "2             Total Time Spent on Website  2.10\n",
       "12           Last Notable Activity_Others  2.00\n",
       "8                      Lead Source_Google  1.60\n",
       "9                  Lead Source_Olark Chat  1.56\n",
       "6   Last Activity_Page Visited on Website  1.37\n",
       "3                            Do Not Email  1.27\n",
       "10              Lead Origin_Lead Add Form  1.17"
      ]
     },
     "execution_count": 122,
     "metadata": {},
     "output_type": "execute_result"
    }
   ],
   "source": [
    "vif = pd.DataFrame()\n",
    "vif['Features'] = X_train[col5].columns\n",
    "vif['VIF'] = [variance_inflation_factor(X_train[col5].values, i) for i in range(X_train[col5].shape[1])]\n",
    "vif['VIF'] = round(vif['VIF'], 2)\n",
    "vif = vif.sort_values(by = \"VIF\", ascending = False)\n",
    "vif"
   ]
  },
  {
   "cell_type": "markdown",
   "id": "c2eb2157",
   "metadata": {},
   "source": [
    "#### Dropping column\n",
    "\n",
    "We need to drop the following columns for having a high VIF value - 'Last Activity_SMS Sent'"
   ]
  },
  {
   "cell_type": "code",
   "execution_count": 123,
   "id": "7cdbdf7d",
   "metadata": {},
   "outputs": [],
   "source": [
    "col6 = col5.drop('Last Activity_SMS Sent', 1)"
   ]
  },
  {
   "cell_type": "markdown",
   "id": "5c4875a5",
   "metadata": {},
   "source": [
    "### Model 6"
   ]
  },
  {
   "cell_type": "code",
   "execution_count": 124,
   "id": "92c33ba0",
   "metadata": {},
   "outputs": [
    {
     "data": {
      "text/html": [
       "<table class=\"simpletable\">\n",
       "<caption>Generalized Linear Model Regression Results</caption>\n",
       "<tr>\n",
       "  <th>Dep. Variable:</th>       <td>Converted</td>    <th>  No. Observations:  </th>  <td>  6468</td> \n",
       "</tr>\n",
       "<tr>\n",
       "  <th>Model:</th>                  <td>GLM</td>       <th>  Df Residuals:      </th>  <td>  6454</td> \n",
       "</tr>\n",
       "<tr>\n",
       "  <th>Model Family:</th>        <td>Binomial</td>     <th>  Df Model:          </th>  <td>    13</td> \n",
       "</tr>\n",
       "<tr>\n",
       "  <th>Link Function:</th>         <td>Logit</td>      <th>  Scale:             </th> <td>  1.0000</td>\n",
       "</tr>\n",
       "<tr>\n",
       "  <th>Method:</th>                <td>IRLS</td>       <th>  Log-Likelihood:    </th> <td> -2851.7</td>\n",
       "</tr>\n",
       "<tr>\n",
       "  <th>Date:</th>            <td>Sun, 05 Mar 2023</td> <th>  Deviance:          </th> <td>  5703.3</td>\n",
       "</tr>\n",
       "<tr>\n",
       "  <th>Time:</th>                <td>19:48:16</td>     <th>  Pearson chi2:      </th> <td>6.68e+03</td>\n",
       "</tr>\n",
       "<tr>\n",
       "  <th>No. Iterations:</th>          <td>6</td>        <th>  Pseudo R-squ. (CS):</th>  <td>0.3608</td> \n",
       "</tr>\n",
       "<tr>\n",
       "  <th>Covariance Type:</th>     <td>nonrobust</td>    <th>                     </th>     <td> </td>   \n",
       "</tr>\n",
       "</table>\n",
       "<table class=\"simpletable\">\n",
       "<tr>\n",
       "                    <td></td>                       <th>coef</th>     <th>std err</th>      <th>z</th>      <th>P>|z|</th>  <th>[0.025</th>    <th>0.975]</th>  \n",
       "</tr>\n",
       "<tr>\n",
       "  <th>const</th>                                 <td>   -2.2114</td> <td>    0.117</td> <td>  -18.866</td> <td> 0.000</td> <td>   -2.441</td> <td>   -1.982</td>\n",
       "</tr>\n",
       "<tr>\n",
       "  <th>Page Views Per Visit</th>                  <td>   -0.9596</td> <td>    0.188</td> <td>   -5.099</td> <td> 0.000</td> <td>   -1.329</td> <td>   -0.591</td>\n",
       "</tr>\n",
       "<tr>\n",
       "  <th>TotalVisits</th>                           <td>    1.3572</td> <td>    0.193</td> <td>    7.034</td> <td> 0.000</td> <td>    0.979</td> <td>    1.735</td>\n",
       "</tr>\n",
       "<tr>\n",
       "  <th>Total Time Spent on Website</th>           <td>    4.5742</td> <td>    0.160</td> <td>   28.586</td> <td> 0.000</td> <td>    4.261</td> <td>    4.888</td>\n",
       "</tr>\n",
       "<tr>\n",
       "  <th>Do Not Email</th>                          <td>   -1.1862</td> <td>    0.167</td> <td>   -7.090</td> <td> 0.000</td> <td>   -1.514</td> <td>   -0.858</td>\n",
       "</tr>\n",
       "<tr>\n",
       "  <th>Last Activity_Olark Chat Conversation</th> <td>   -1.6303</td> <td>    0.186</td> <td>   -8.773</td> <td> 0.000</td> <td>   -1.995</td> <td>   -1.266</td>\n",
       "</tr>\n",
       "<tr>\n",
       "  <th>Last Activity_Others</th>                  <td>   -0.6909</td> <td>    0.147</td> <td>   -4.703</td> <td> 0.000</td> <td>   -0.979</td> <td>   -0.403</td>\n",
       "</tr>\n",
       "<tr>\n",
       "  <th>Last Activity_Page Visited on Website</th> <td>   -0.7101</td> <td>    0.146</td> <td>   -4.865</td> <td> 0.000</td> <td>   -0.996</td> <td>   -0.424</td>\n",
       "</tr>\n",
       "<tr>\n",
       "  <th>Lead Source_Google</th>                    <td>    0.3166</td> <td>    0.076</td> <td>    4.187</td> <td> 0.000</td> <td>    0.168</td> <td>    0.465</td>\n",
       "</tr>\n",
       "<tr>\n",
       "  <th>Lead Source_Olark Chat</th>                <td>    1.2098</td> <td>    0.130</td> <td>    9.317</td> <td> 0.000</td> <td>    0.955</td> <td>    1.464</td>\n",
       "</tr>\n",
       "<tr>\n",
       "  <th>Lead Origin_Lead Add Form</th>             <td>    4.2094</td> <td>    0.195</td> <td>   21.587</td> <td> 0.000</td> <td>    3.827</td> <td>    4.592</td>\n",
       "</tr>\n",
       "<tr>\n",
       "  <th>Last Notable Activity_Modified</th>        <td>   -0.2142</td> <td>    0.097</td> <td>   -2.219</td> <td> 0.027</td> <td>   -0.403</td> <td>   -0.025</td>\n",
       "</tr>\n",
       "<tr>\n",
       "  <th>Last Notable Activity_Others</th>          <td>    0.6979</td> <td>    0.203</td> <td>    3.440</td> <td> 0.001</td> <td>    0.300</td> <td>    1.096</td>\n",
       "</tr>\n",
       "<tr>\n",
       "  <th>Last Notable Activity_SMS Sent</th>        <td>    1.3752</td> <td>    0.085</td> <td>   16.257</td> <td> 0.000</td> <td>    1.209</td> <td>    1.541</td>\n",
       "</tr>\n",
       "</table>"
      ],
      "text/plain": [
       "<class 'statsmodels.iolib.summary.Summary'>\n",
       "\"\"\"\n",
       "                 Generalized Linear Model Regression Results                  \n",
       "==============================================================================\n",
       "Dep. Variable:              Converted   No. Observations:                 6468\n",
       "Model:                            GLM   Df Residuals:                     6454\n",
       "Model Family:                Binomial   Df Model:                           13\n",
       "Link Function:                  Logit   Scale:                          1.0000\n",
       "Method:                          IRLS   Log-Likelihood:                -2851.7\n",
       "Date:                Sun, 05 Mar 2023   Deviance:                       5703.3\n",
       "Time:                        19:48:16   Pearson chi2:                 6.68e+03\n",
       "No. Iterations:                     6   Pseudo R-squ. (CS):             0.3608\n",
       "Covariance Type:            nonrobust                                         \n",
       "=========================================================================================================\n",
       "                                            coef    std err          z      P>|z|      [0.025      0.975]\n",
       "---------------------------------------------------------------------------------------------------------\n",
       "const                                    -2.2114      0.117    -18.866      0.000      -2.441      -1.982\n",
       "Page Views Per Visit                     -0.9596      0.188     -5.099      0.000      -1.329      -0.591\n",
       "TotalVisits                               1.3572      0.193      7.034      0.000       0.979       1.735\n",
       "Total Time Spent on Website               4.5742      0.160     28.586      0.000       4.261       4.888\n",
       "Do Not Email                             -1.1862      0.167     -7.090      0.000      -1.514      -0.858\n",
       "Last Activity_Olark Chat Conversation    -1.6303      0.186     -8.773      0.000      -1.995      -1.266\n",
       "Last Activity_Others                     -0.6909      0.147     -4.703      0.000      -0.979      -0.403\n",
       "Last Activity_Page Visited on Website    -0.7101      0.146     -4.865      0.000      -0.996      -0.424\n",
       "Lead Source_Google                        0.3166      0.076      4.187      0.000       0.168       0.465\n",
       "Lead Source_Olark Chat                    1.2098      0.130      9.317      0.000       0.955       1.464\n",
       "Lead Origin_Lead Add Form                 4.2094      0.195     21.587      0.000       3.827       4.592\n",
       "Last Notable Activity_Modified           -0.2142      0.097     -2.219      0.027      -0.403      -0.025\n",
       "Last Notable Activity_Others              0.6979      0.203      3.440      0.001       0.300       1.096\n",
       "Last Notable Activity_SMS Sent            1.3752      0.085     16.257      0.000       1.209       1.541\n",
       "=========================================================================================================\n",
       "\"\"\""
      ]
     },
     "execution_count": 124,
     "metadata": {},
     "output_type": "execute_result"
    }
   ],
   "source": [
    "# Let's re-run the model using the selected variables\n",
    "X_train_sm = sm.add_constant(X_train[col6])\n",
    "logm06 = sm.GLM(y_train,X_train_sm, family = sm.families.Binomial())\n",
    "res = logm06.fit()\n",
    "res.summary()"
   ]
  },
  {
   "cell_type": "code",
   "execution_count": 125,
   "id": "89c5e1be",
   "metadata": {},
   "outputs": [
    {
     "data": {
      "text/html": [
       "<div>\n",
       "<style scoped>\n",
       "    .dataframe tbody tr th:only-of-type {\n",
       "        vertical-align: middle;\n",
       "    }\n",
       "\n",
       "    .dataframe tbody tr th {\n",
       "        vertical-align: top;\n",
       "    }\n",
       "\n",
       "    .dataframe thead th {\n",
       "        text-align: right;\n",
       "    }\n",
       "</style>\n",
       "<table border=\"1\" class=\"dataframe\">\n",
       "  <thead>\n",
       "    <tr style=\"text-align: right;\">\n",
       "      <th></th>\n",
       "      <th>Converted</th>\n",
       "      <th>Conversion_Prob</th>\n",
       "      <th>LeadID</th>\n",
       "      <th>predicted</th>\n",
       "    </tr>\n",
       "  </thead>\n",
       "  <tbody>\n",
       "    <tr>\n",
       "      <th>0</th>\n",
       "      <td>0</td>\n",
       "      <td>0.268628</td>\n",
       "      <td>1871</td>\n",
       "      <td>0</td>\n",
       "    </tr>\n",
       "    <tr>\n",
       "      <th>1</th>\n",
       "      <td>0</td>\n",
       "      <td>0.278859</td>\n",
       "      <td>6795</td>\n",
       "      <td>0</td>\n",
       "    </tr>\n",
       "    <tr>\n",
       "      <th>2</th>\n",
       "      <td>0</td>\n",
       "      <td>0.360974</td>\n",
       "      <td>3516</td>\n",
       "      <td>0</td>\n",
       "    </tr>\n",
       "    <tr>\n",
       "      <th>3</th>\n",
       "      <td>0</td>\n",
       "      <td>0.854945</td>\n",
       "      <td>8105</td>\n",
       "      <td>1</td>\n",
       "    </tr>\n",
       "    <tr>\n",
       "      <th>4</th>\n",
       "      <td>0</td>\n",
       "      <td>0.228672</td>\n",
       "      <td>3934</td>\n",
       "      <td>0</td>\n",
       "    </tr>\n",
       "    <tr>\n",
       "      <th>5</th>\n",
       "      <td>1</td>\n",
       "      <td>0.913836</td>\n",
       "      <td>4844</td>\n",
       "      <td>1</td>\n",
       "    </tr>\n",
       "    <tr>\n",
       "      <th>6</th>\n",
       "      <td>0</td>\n",
       "      <td>0.149771</td>\n",
       "      <td>3297</td>\n",
       "      <td>0</td>\n",
       "    </tr>\n",
       "    <tr>\n",
       "      <th>7</th>\n",
       "      <td>1</td>\n",
       "      <td>0.861728</td>\n",
       "      <td>8071</td>\n",
       "      <td>1</td>\n",
       "    </tr>\n",
       "    <tr>\n",
       "      <th>8</th>\n",
       "      <td>0</td>\n",
       "      <td>0.180612</td>\n",
       "      <td>987</td>\n",
       "      <td>0</td>\n",
       "    </tr>\n",
       "    <tr>\n",
       "      <th>9</th>\n",
       "      <td>1</td>\n",
       "      <td>0.940329</td>\n",
       "      <td>7423</td>\n",
       "      <td>1</td>\n",
       "    </tr>\n",
       "    <tr>\n",
       "      <th>10</th>\n",
       "      <td>1</td>\n",
       "      <td>0.847709</td>\n",
       "      <td>1032</td>\n",
       "      <td>1</td>\n",
       "    </tr>\n",
       "    <tr>\n",
       "      <th>11</th>\n",
       "      <td>0</td>\n",
       "      <td>0.406056</td>\n",
       "      <td>6542</td>\n",
       "      <td>0</td>\n",
       "    </tr>\n",
       "    <tr>\n",
       "      <th>12</th>\n",
       "      <td>1</td>\n",
       "      <td>0.112708</td>\n",
       "      <td>4317</td>\n",
       "      <td>0</td>\n",
       "    </tr>\n",
       "    <tr>\n",
       "      <th>13</th>\n",
       "      <td>1</td>\n",
       "      <td>0.507754</td>\n",
       "      <td>6472</td>\n",
       "      <td>1</td>\n",
       "    </tr>\n",
       "    <tr>\n",
       "      <th>14</th>\n",
       "      <td>0</td>\n",
       "      <td>0.073614</td>\n",
       "      <td>712</td>\n",
       "      <td>0</td>\n",
       "    </tr>\n",
       "    <tr>\n",
       "      <th>15</th>\n",
       "      <td>0</td>\n",
       "      <td>0.268628</td>\n",
       "      <td>3960</td>\n",
       "      <td>0</td>\n",
       "    </tr>\n",
       "    <tr>\n",
       "      <th>16</th>\n",
       "      <td>0</td>\n",
       "      <td>0.268628</td>\n",
       "      <td>4654</td>\n",
       "      <td>0</td>\n",
       "    </tr>\n",
       "    <tr>\n",
       "      <th>17</th>\n",
       "      <td>0</td>\n",
       "      <td>0.015900</td>\n",
       "      <td>5902</td>\n",
       "      <td>0</td>\n",
       "    </tr>\n",
       "    <tr>\n",
       "      <th>18</th>\n",
       "      <td>0</td>\n",
       "      <td>0.268628</td>\n",
       "      <td>4691</td>\n",
       "      <td>0</td>\n",
       "    </tr>\n",
       "    <tr>\n",
       "      <th>19</th>\n",
       "      <td>1</td>\n",
       "      <td>0.179790</td>\n",
       "      <td>4341</td>\n",
       "      <td>0</td>\n",
       "    </tr>\n",
       "  </tbody>\n",
       "</table>\n",
       "</div>"
      ],
      "text/plain": [
       "    Converted  Conversion_Prob  LeadID  predicted\n",
       "0           0         0.268628    1871          0\n",
       "1           0         0.278859    6795          0\n",
       "2           0         0.360974    3516          0\n",
       "3           0         0.854945    8105          1\n",
       "4           0         0.228672    3934          0\n",
       "5           1         0.913836    4844          1\n",
       "6           0         0.149771    3297          0\n",
       "7           1         0.861728    8071          1\n",
       "8           0         0.180612     987          0\n",
       "9           1         0.940329    7423          1\n",
       "10          1         0.847709    1032          1\n",
       "11          0         0.406056    6542          0\n",
       "12          1         0.112708    4317          0\n",
       "13          1         0.507754    6472          1\n",
       "14          0         0.073614     712          0\n",
       "15          0         0.268628    3960          0\n",
       "16          0         0.268628    4654          0\n",
       "17          0         0.015900    5902          0\n",
       "18          0         0.268628    4691          0\n",
       "19          1         0.179790    4341          0"
      ]
     },
     "execution_count": 125,
     "metadata": {},
     "output_type": "execute_result"
    }
   ],
   "source": [
    "y_train_pred = res.predict(X_train_sm)\n",
    "y_train_pred = y_train_pred.values.reshape(-1)\n",
    "y_train_pred_final = pd.DataFrame({'Converted':y_train.values, 'Conversion_Prob':y_train_pred})\n",
    "y_train_pred_final['LeadID'] = y_train.index\n",
    "y_train_pred_final['predicted'] = y_train_pred_final.Conversion_Prob.map(lambda x: 1 if x > 0.5 else 0)\n",
    "\n",
    "# Let's see the head\n",
    "y_train_pred_final.head(20)"
   ]
  },
  {
   "cell_type": "code",
   "execution_count": 126,
   "id": "795d1e15",
   "metadata": {},
   "outputs": [
    {
     "name": "stdout",
     "output_type": "stream",
     "text": [
      "0.8031849103277675\n"
     ]
    }
   ],
   "source": [
    "print(metrics.accuracy_score(y_train_pred_final.Converted, y_train_pred_final.predicted))"
   ]
  },
  {
   "cell_type": "code",
   "execution_count": 127,
   "id": "feec02b2",
   "metadata": {},
   "outputs": [
    {
     "data": {
      "text/html": [
       "<div>\n",
       "<style scoped>\n",
       "    .dataframe tbody tr th:only-of-type {\n",
       "        vertical-align: middle;\n",
       "    }\n",
       "\n",
       "    .dataframe tbody tr th {\n",
       "        vertical-align: top;\n",
       "    }\n",
       "\n",
       "    .dataframe thead th {\n",
       "        text-align: right;\n",
       "    }\n",
       "</style>\n",
       "<table border=\"1\" class=\"dataframe\">\n",
       "  <thead>\n",
       "    <tr style=\"text-align: right;\">\n",
       "      <th></th>\n",
       "      <th>Features</th>\n",
       "      <th>VIF</th>\n",
       "    </tr>\n",
       "  </thead>\n",
       "  <tbody>\n",
       "    <tr>\n",
       "      <th>0</th>\n",
       "      <td>Page Views Per Visit</td>\n",
       "      <td>6.26</td>\n",
       "    </tr>\n",
       "    <tr>\n",
       "      <th>1</th>\n",
       "      <td>TotalVisits</td>\n",
       "      <td>5.49</td>\n",
       "    </tr>\n",
       "    <tr>\n",
       "      <th>10</th>\n",
       "      <td>Last Notable Activity_Modified</td>\n",
       "      <td>3.15</td>\n",
       "    </tr>\n",
       "    <tr>\n",
       "      <th>5</th>\n",
       "      <td>Last Activity_Others</td>\n",
       "      <td>2.29</td>\n",
       "    </tr>\n",
       "    <tr>\n",
       "      <th>2</th>\n",
       "      <td>Total Time Spent on Website</td>\n",
       "      <td>2.10</td>\n",
       "    </tr>\n",
       "    <tr>\n",
       "      <th>4</th>\n",
       "      <td>Last Activity_Olark Chat Conversation</td>\n",
       "      <td>2.01</td>\n",
       "    </tr>\n",
       "    <tr>\n",
       "      <th>11</th>\n",
       "      <td>Last Notable Activity_Others</td>\n",
       "      <td>1.78</td>\n",
       "    </tr>\n",
       "    <tr>\n",
       "      <th>12</th>\n",
       "      <td>Last Notable Activity_SMS Sent</td>\n",
       "      <td>1.63</td>\n",
       "    </tr>\n",
       "    <tr>\n",
       "      <th>7</th>\n",
       "      <td>Lead Source_Google</td>\n",
       "      <td>1.60</td>\n",
       "    </tr>\n",
       "    <tr>\n",
       "      <th>8</th>\n",
       "      <td>Lead Source_Olark Chat</td>\n",
       "      <td>1.56</td>\n",
       "    </tr>\n",
       "    <tr>\n",
       "      <th>6</th>\n",
       "      <td>Last Activity_Page Visited on Website</td>\n",
       "      <td>1.27</td>\n",
       "    </tr>\n",
       "    <tr>\n",
       "      <th>3</th>\n",
       "      <td>Do Not Email</td>\n",
       "      <td>1.26</td>\n",
       "    </tr>\n",
       "    <tr>\n",
       "      <th>9</th>\n",
       "      <td>Lead Origin_Lead Add Form</td>\n",
       "      <td>1.17</td>\n",
       "    </tr>\n",
       "  </tbody>\n",
       "</table>\n",
       "</div>"
      ],
      "text/plain": [
       "                                 Features   VIF\n",
       "0                    Page Views Per Visit  6.26\n",
       "1                             TotalVisits  5.49\n",
       "10         Last Notable Activity_Modified  3.15\n",
       "5                    Last Activity_Others  2.29\n",
       "2             Total Time Spent on Website  2.10\n",
       "4   Last Activity_Olark Chat Conversation  2.01\n",
       "11           Last Notable Activity_Others  1.78\n",
       "12         Last Notable Activity_SMS Sent  1.63\n",
       "7                      Lead Source_Google  1.60\n",
       "8                  Lead Source_Olark Chat  1.56\n",
       "6   Last Activity_Page Visited on Website  1.27\n",
       "3                            Do Not Email  1.26\n",
       "9               Lead Origin_Lead Add Form  1.17"
      ]
     },
     "execution_count": 127,
     "metadata": {},
     "output_type": "execute_result"
    }
   ],
   "source": [
    "vif = pd.DataFrame()\n",
    "vif['Features'] = X_train[col6].columns\n",
    "vif['VIF'] = [variance_inflation_factor(X_train[col6].values, i) for i in range(X_train[col6].shape[1])]\n",
    "vif['VIF'] = round(vif['VIF'], 2)\n",
    "vif = vif.sort_values(by = \"VIF\", ascending = False)\n",
    "vif"
   ]
  },
  {
   "cell_type": "code",
   "execution_count": 128,
   "id": "1bd3e43e",
   "metadata": {},
   "outputs": [
    {
     "data": {
      "text/plain": [
       "Index(['Page Views Per Visit', 'TotalVisits', 'Total Time Spent on Website',\n",
       "       'Do Not Email', 'Last Activity_Olark Chat Conversation',\n",
       "       'Last Activity_Others', 'Last Activity_Page Visited on Website',\n",
       "       'Lead Source_Google', 'Lead Source_Olark Chat',\n",
       "       'Lead Origin_Lead Add Form', 'Last Notable Activity_Modified',\n",
       "       'Last Notable Activity_Others', 'Last Notable Activity_SMS Sent'],\n",
       "      dtype='object')"
      ]
     },
     "execution_count": 128,
     "metadata": {},
     "output_type": "execute_result"
    }
   ],
   "source": [
    "col6\n"
   ]
  },
  {
   "cell_type": "code",
   "execution_count": 129,
   "id": "43e2e697",
   "metadata": {},
   "outputs": [
    {
     "name": "stdout",
     "output_type": "stream",
     "text": [
      "[[3514  488]\n",
      " [ 785 1681]]\n"
     ]
    }
   ],
   "source": [
    "confusion = metrics.confusion_matrix(y_train_pred_final.Converted, y_train_pred_final.predicted )\n",
    "print(confusion)"
   ]
  },
  {
   "cell_type": "code",
   "execution_count": 130,
   "id": "0ca39929",
   "metadata": {},
   "outputs": [],
   "source": [
    "TP = confusion[1,1] # true positive \n",
    "TN = confusion[0,0] # true negatives\n",
    "FP = confusion[0,1] # false positives\n",
    "FN = confusion[1,0] # false negatives"
   ]
  },
  {
   "cell_type": "code",
   "execution_count": 131,
   "id": "2b6ebd27",
   "metadata": {},
   "outputs": [
    {
     "data": {
      "text/plain": [
       "0.6816707218167072"
      ]
     },
     "execution_count": 131,
     "metadata": {},
     "output_type": "execute_result"
    }
   ],
   "source": [
    "# Let's see the sensitivity of our logistic regression model\n",
    "TP / float(TP+FN)"
   ]
  },
  {
   "cell_type": "code",
   "execution_count": 132,
   "id": "67496349",
   "metadata": {},
   "outputs": [
    {
     "data": {
      "text/plain": [
       "0.8780609695152424"
      ]
     },
     "execution_count": 132,
     "metadata": {},
     "output_type": "execute_result"
    }
   ],
   "source": [
    "# Let us calculate specificity\n",
    "TN / float(TN+FP)"
   ]
  },
  {
   "cell_type": "code",
   "execution_count": 133,
   "id": "f1b43f0c",
   "metadata": {},
   "outputs": [
    {
     "name": "stdout",
     "output_type": "stream",
     "text": [
      "0.12193903048475763\n"
     ]
    }
   ],
   "source": [
    "# Calculate false postive rate - predicting churn when customer does not have churned\n",
    "print(FP/ float(TN+FP))"
   ]
  },
  {
   "cell_type": "code",
   "execution_count": 134,
   "id": "24fe3fb6",
   "metadata": {},
   "outputs": [
    {
     "name": "stdout",
     "output_type": "stream",
     "text": [
      "0.7750115260488705\n"
     ]
    }
   ],
   "source": [
    "# positive predictive value \n",
    "print (TP / float(TP+FP))"
   ]
  },
  {
   "cell_type": "code",
   "execution_count": 135,
   "id": "4c54e58b",
   "metadata": {},
   "outputs": [
    {
     "name": "stdout",
     "output_type": "stream",
     "text": [
      "0.8173993952081879\n"
     ]
    }
   ],
   "source": [
    "# Negative predictive value\n",
    "print (TN / float(TN+ FN))"
   ]
  },
  {
   "cell_type": "markdown",
   "id": "b70a5f96",
   "metadata": {},
   "source": [
    "#### This Model seems fit. Let us further improve it"
   ]
  },
  {
   "cell_type": "markdown",
   "id": "f741c1f6",
   "metadata": {},
   "source": [
    "## 8. Plotting the ROC Curve"
   ]
  },
  {
   "cell_type": "markdown",
   "id": "2b26508d",
   "metadata": {},
   "source": [
    "An ROC curve demonstrates several things:\n",
    "\n",
    "- It shows the tradeoff between sensitivity and specificity (any increase in sensitivity will be accompanied by a decrease in specificity).\n",
    "- The closer the curve follows the left-hand border and then the top border of the ROC space, the more accurate the test.\n",
    "- The closer the curve comes to the 45-degree diagonal of the ROC space, the less accurate the test."
   ]
  },
  {
   "cell_type": "code",
   "execution_count": 136,
   "id": "9f9f7258",
   "metadata": {},
   "outputs": [],
   "source": [
    "def draw_roc( actual, probs ):\n",
    "    fpr, tpr, thresholds = metrics.roc_curve( actual, probs,\n",
    "                                              drop_intermediate = False )\n",
    "    auc_score = metrics.roc_auc_score( actual, probs )\n",
    "    plt.figure(figsize=(5, 5))\n",
    "    plt.plot( fpr, tpr, label='ROC curve (area = %0.2f)' % auc_score )\n",
    "    plt.plot([0, 1], [0, 1], 'k--')\n",
    "    plt.xlim([0.0, 1.0])\n",
    "    plt.ylim([0.0, 1.05])\n",
    "    plt.xlabel('False Positive Rate or [1 - True Negative Rate]')\n",
    "    plt.ylabel('True Positive Rate')\n",
    "    plt.title('Receiver operating characteristic example')\n",
    "    plt.legend(loc=\"lower right\")\n",
    "    plt.show()\n",
    "\n",
    "    return None"
   ]
  },
  {
   "cell_type": "code",
   "execution_count": 137,
   "id": "9b5f222e",
   "metadata": {},
   "outputs": [],
   "source": [
    "fpr, tpr, thresholds = metrics.roc_curve( y_train_pred_final.Converted, y_train_pred_final.Conversion_Prob, drop_intermediate = False )"
   ]
  },
  {
   "cell_type": "code",
   "execution_count": 138,
   "id": "12f6558a",
   "metadata": {},
   "outputs": [
    {
     "data": {
      "image/png": "[encoded data removed]",
      "text/plain": [
       "<Figure size 360x360 with 1 Axes>"
      ]
     },
     "metadata": {
      "needs_background": "light"
     },
     "output_type": "display_data"
    }
   ],
   "source": [
    "draw_roc(y_train_pred_final.Converted, y_train_pred_final.Conversion_Prob)"
   ]
  },
  {
   "cell_type": "markdown",
   "id": "3a11ddd7",
   "metadata": {},
   "source": [
    "## 9. Finding Optimal Cutoff Point"
   ]
  },
  {
   "cell_type": "markdown",
   "id": "6a5cf47d",
   "metadata": {},
   "source": [
    "Optimal cutoff probability is that prob where we get balanced sensitivity and specificity"
   ]
  },
  {
   "cell_type": "code",
   "execution_count": 139,
   "id": "da6fd643",
   "metadata": {},
   "outputs": [
    {
     "data": {
      "text/html": [
       "<div>\n",
       "<style scoped>\n",
       "    .dataframe tbody tr th:only-of-type {\n",
       "        vertical-align: middle;\n",
       "    }\n",
       "\n",
       "    .dataframe tbody tr th {\n",
       "        vertical-align: top;\n",
       "    }\n",
       "\n",
       "    .dataframe thead th {\n",
       "        text-align: right;\n",
       "    }\n",
       "</style>\n",
       "<table border=\"1\" class=\"dataframe\">\n",
       "  <thead>\n",
       "    <tr style=\"text-align: right;\">\n",
       "      <th></th>\n",
       "      <th>Converted</th>\n",
       "      <th>Conversion_Prob</th>\n",
       "      <th>LeadID</th>\n",
       "      <th>predicted</th>\n",
       "      <th>0.0</th>\n",
       "      <th>0.1</th>\n",
       "      <th>0.2</th>\n",
       "      <th>0.3</th>\n",
       "      <th>0.4</th>\n",
       "      <th>0.5</th>\n",
       "      <th>0.6</th>\n",
       "      <th>0.7</th>\n",
       "      <th>0.8</th>\n",
       "      <th>0.9</th>\n",
       "    </tr>\n",
       "  </thead>\n",
       "  <tbody>\n",
       "    <tr>\n",
       "      <th>0</th>\n",
       "      <td>0</td>\n",
       "      <td>0.268628</td>\n",
       "      <td>1871</td>\n",
       "      <td>0</td>\n",
       "      <td>1</td>\n",
       "      <td>1</td>\n",
       "      <td>1</td>\n",
       "      <td>0</td>\n",
       "      <td>0</td>\n",
       "      <td>0</td>\n",
       "      <td>0</td>\n",
       "      <td>0</td>\n",
       "      <td>0</td>\n",
       "      <td>0</td>\n",
       "    </tr>\n",
       "    <tr>\n",
       "      <th>1</th>\n",
       "      <td>0</td>\n",
       "      <td>0.278859</td>\n",
       "      <td>6795</td>\n",
       "      <td>0</td>\n",
       "      <td>1</td>\n",
       "      <td>1</td>\n",
       "      <td>1</td>\n",
       "      <td>0</td>\n",
       "      <td>0</td>\n",
       "      <td>0</td>\n",
       "      <td>0</td>\n",
       "      <td>0</td>\n",
       "      <td>0</td>\n",
       "      <td>0</td>\n",
       "    </tr>\n",
       "    <tr>\n",
       "      <th>2</th>\n",
       "      <td>0</td>\n",
       "      <td>0.360974</td>\n",
       "      <td>3516</td>\n",
       "      <td>0</td>\n",
       "      <td>1</td>\n",
       "      <td>1</td>\n",
       "      <td>1</td>\n",
       "      <td>1</td>\n",
       "      <td>0</td>\n",
       "      <td>0</td>\n",
       "      <td>0</td>\n",
       "      <td>0</td>\n",
       "      <td>0</td>\n",
       "      <td>0</td>\n",
       "    </tr>\n",
       "    <tr>\n",
       "      <th>3</th>\n",
       "      <td>0</td>\n",
       "      <td>0.854945</td>\n",
       "      <td>8105</td>\n",
       "      <td>1</td>\n",
       "      <td>1</td>\n",
       "      <td>1</td>\n",
       "      <td>1</td>\n",
       "      <td>1</td>\n",
       "      <td>1</td>\n",
       "      <td>1</td>\n",
       "      <td>1</td>\n",
       "      <td>1</td>\n",
       "      <td>1</td>\n",
       "      <td>0</td>\n",
       "    </tr>\n",
       "    <tr>\n",
       "      <th>4</th>\n",
       "      <td>0</td>\n",
       "      <td>0.228672</td>\n",
       "      <td>3934</td>\n",
       "      <td>0</td>\n",
       "      <td>1</td>\n",
       "      <td>1</td>\n",
       "      <td>1</td>\n",
       "      <td>0</td>\n",
       "      <td>0</td>\n",
       "      <td>0</td>\n",
       "      <td>0</td>\n",
       "      <td>0</td>\n",
       "      <td>0</td>\n",
       "      <td>0</td>\n",
       "    </tr>\n",
       "  </tbody>\n",
       "</table>\n",
       "</div>"
      ],
      "text/plain": [
       "   Converted  Conversion_Prob  LeadID  predicted  0.0  0.1  0.2  0.3  0.4  \\\n",
       "0          0         0.268628    1871          0    1    1    1    0    0   \n",
       "1          0         0.278859    6795          0    1    1    1    0    0   \n",
       "2          0         0.360974    3516          0    1    1    1    1    0   \n",
       "3          0         0.854945    8105          1    1    1    1    1    1   \n",
       "4          0         0.228672    3934          0    1    1    1    0    0   \n",
       "\n",
       "   0.5  0.6  0.7  0.8  0.9  \n",
       "0    0    0    0    0    0  \n",
       "1    0    0    0    0    0  \n",
       "2    0    0    0    0    0  \n",
       "3    1    1    1    1    0  \n",
       "4    0    0    0    0    0  "
      ]
     },
     "execution_count": 139,
     "metadata": {},
     "output_type": "execute_result"
    }
   ],
   "source": [
    "# Let's create columns with different probability cutoffs \n",
    "numbers = [float(x)/10 for x in range(10)]\n",
    "for i in numbers:\n",
    "    y_train_pred_final[i]= y_train_pred_final.Conversion_Prob.map(lambda x: 1 if x > i else 0)\n",
    "y_train_pred_final.head()"
   ]
  },
  {
   "cell_type": "code",
   "execution_count": 140,
   "id": "4e9ae5d9",
   "metadata": {},
   "outputs": [
    {
     "name": "stdout",
     "output_type": "stream",
     "text": [
      "     prob  accuracy     sensi     speci\n",
      "0.0   0.0  0.381262  1.000000  0.000000\n",
      "0.1   0.1  0.573902  0.972830  0.328086\n",
      "0.2   0.2  0.720934  0.916464  0.600450\n",
      "0.3   0.3  0.792517  0.828062  0.770615\n",
      "0.4   0.4  0.801330  0.758313  0.827836\n",
      "0.5   0.5  0.803185  0.681671  0.878061\n",
      "0.6   0.6  0.780767  0.556772  0.918791\n",
      "0.7   0.7  0.764069  0.474453  0.942529\n",
      "0.8   0.8  0.738559  0.372668  0.964018\n",
      "0.9   0.9  0.678726  0.178021  0.987256\n"
     ]
    }
   ],
   "source": [
    "# Now let's calculate accuracy sensitivity and specificity for various probability cutoffs.\n",
    "cutoff_df = pd.DataFrame( columns = ['prob','accuracy','sensi','speci'])\n",
    "from sklearn.metrics import confusion_matrix\n",
    "\n",
    "# TP = confusion[1,1] # true positive \n",
    "# TN = confusion[0,0] # true negatives\n",
    "# FP = confusion[0,1] # false positives\n",
    "# FN = confusion[1,0] # false negatives\n",
    "\n",
    "num = [0.0,0.1,0.2,0.3,0.4,0.5,0.6,0.7,0.8,0.9]\n",
    "for i in num:\n",
    "    cm1 = metrics.confusion_matrix(y_train_pred_final.Converted, y_train_pred_final[i] )\n",
    "    total1=sum(sum(cm1))\n",
    "    accuracy = (cm1[0,0]+cm1[1,1])/total1\n",
    "    \n",
    "    speci = cm1[0,0]/(cm1[0,0]+cm1[0,1])\n",
    "    sensi = cm1[1,1]/(cm1[1,0]+cm1[1,1])\n",
    "    cutoff_df.loc[i] =[ i ,accuracy,sensi,speci]\n",
    "print(cutoff_df)"
   ]
  },
  {
   "cell_type": "code",
   "execution_count": 141,
   "id": "dc4c4494",
   "metadata": {},
   "outputs": [
    {
     "data": {
      "image/png": "[encoded data removed]",
      "text/plain": [
       "<Figure size 432x288 with 1 Axes>"
      ]
     },
     "metadata": {
      "needs_background": "light"
     },
     "output_type": "display_data"
    }
   ],
   "source": [
    "# Let's plot accuracy sensitivity and specificity for various probabilities.\n",
    "cutoff_df.plot.line(x='prob', y=['accuracy','sensi','speci'])\n",
    "plt.show()"
   ]
  },
  {
   "cell_type": "markdown",
   "id": "ce58f8d4",
   "metadata": {},
   "source": [
    "### From the curve above, 0.34 is the optimum point to take it as a cutoff probability."
   ]
  },
  {
   "cell_type": "code",
   "execution_count": 142,
   "id": "7c24851f",
   "metadata": {},
   "outputs": [
    {
     "data": {
      "text/html": [
       "<div>\n",
       "<style scoped>\n",
       "    .dataframe tbody tr th:only-of-type {\n",
       "        vertical-align: middle;\n",
       "    }\n",
       "\n",
       "    .dataframe tbody tr th {\n",
       "        vertical-align: top;\n",
       "    }\n",
       "\n",
       "    .dataframe thead th {\n",
       "        text-align: right;\n",
       "    }\n",
       "</style>\n",
       "<table border=\"1\" class=\"dataframe\">\n",
       "  <thead>\n",
       "    <tr style=\"text-align: right;\">\n",
       "      <th></th>\n",
       "      <th>Converted</th>\n",
       "      <th>Conversion_Prob</th>\n",
       "      <th>LeadID</th>\n",
       "      <th>predicted</th>\n",
       "      <th>0.0</th>\n",
       "      <th>0.1</th>\n",
       "      <th>0.2</th>\n",
       "      <th>0.3</th>\n",
       "      <th>0.4</th>\n",
       "      <th>0.5</th>\n",
       "      <th>0.6</th>\n",
       "      <th>0.7</th>\n",
       "      <th>0.8</th>\n",
       "      <th>0.9</th>\n",
       "      <th>final_predicted</th>\n",
       "    </tr>\n",
       "  </thead>\n",
       "  <tbody>\n",
       "    <tr>\n",
       "      <th>0</th>\n",
       "      <td>0</td>\n",
       "      <td>0.268628</td>\n",
       "      <td>1871</td>\n",
       "      <td>0</td>\n",
       "      <td>1</td>\n",
       "      <td>1</td>\n",
       "      <td>1</td>\n",
       "      <td>0</td>\n",
       "      <td>0</td>\n",
       "      <td>0</td>\n",
       "      <td>0</td>\n",
       "      <td>0</td>\n",
       "      <td>0</td>\n",
       "      <td>0</td>\n",
       "      <td>0</td>\n",
       "    </tr>\n",
       "    <tr>\n",
       "      <th>1</th>\n",
       "      <td>0</td>\n",
       "      <td>0.278859</td>\n",
       "      <td>6795</td>\n",
       "      <td>0</td>\n",
       "      <td>1</td>\n",
       "      <td>1</td>\n",
       "      <td>1</td>\n",
       "      <td>0</td>\n",
       "      <td>0</td>\n",
       "      <td>0</td>\n",
       "      <td>0</td>\n",
       "      <td>0</td>\n",
       "      <td>0</td>\n",
       "      <td>0</td>\n",
       "      <td>0</td>\n",
       "    </tr>\n",
       "    <tr>\n",
       "      <th>2</th>\n",
       "      <td>0</td>\n",
       "      <td>0.360974</td>\n",
       "      <td>3516</td>\n",
       "      <td>0</td>\n",
       "      <td>1</td>\n",
       "      <td>1</td>\n",
       "      <td>1</td>\n",
       "      <td>1</td>\n",
       "      <td>0</td>\n",
       "      <td>0</td>\n",
       "      <td>0</td>\n",
       "      <td>0</td>\n",
       "      <td>0</td>\n",
       "      <td>0</td>\n",
       "      <td>1</td>\n",
       "    </tr>\n",
       "    <tr>\n",
       "      <th>3</th>\n",
       "      <td>0</td>\n",
       "      <td>0.854945</td>\n",
       "      <td>8105</td>\n",
       "      <td>1</td>\n",
       "      <td>1</td>\n",
       "      <td>1</td>\n",
       "      <td>1</td>\n",
       "      <td>1</td>\n",
       "      <td>1</td>\n",
       "      <td>1</td>\n",
       "      <td>1</td>\n",
       "      <td>1</td>\n",
       "      <td>1</td>\n",
       "      <td>0</td>\n",
       "      <td>1</td>\n",
       "    </tr>\n",
       "    <tr>\n",
       "      <th>4</th>\n",
       "      <td>0</td>\n",
       "      <td>0.228672</td>\n",
       "      <td>3934</td>\n",
       "      <td>0</td>\n",
       "      <td>1</td>\n",
       "      <td>1</td>\n",
       "      <td>1</td>\n",
       "      <td>0</td>\n",
       "      <td>0</td>\n",
       "      <td>0</td>\n",
       "      <td>0</td>\n",
       "      <td>0</td>\n",
       "      <td>0</td>\n",
       "      <td>0</td>\n",
       "      <td>0</td>\n",
       "    </tr>\n",
       "  </tbody>\n",
       "</table>\n",
       "</div>"
      ],
      "text/plain": [
       "   Converted  Conversion_Prob  LeadID  predicted  0.0  0.1  0.2  0.3  0.4  \\\n",
       "0          0         0.268628    1871          0    1    1    1    0    0   \n",
       "1          0         0.278859    6795          0    1    1    1    0    0   \n",
       "2          0         0.360974    3516          0    1    1    1    1    0   \n",
       "3          0         0.854945    8105          1    1    1    1    1    1   \n",
       "4          0         0.228672    3934          0    1    1    1    0    0   \n",
       "\n",
       "   0.5  0.6  0.7  0.8  0.9  final_predicted  \n",
       "0    0    0    0    0    0                0  \n",
       "1    0    0    0    0    0                0  \n",
       "2    0    0    0    0    0                1  \n",
       "3    1    1    1    1    0                1  \n",
       "4    0    0    0    0    0                0  "
      ]
     },
     "execution_count": 142,
     "metadata": {},
     "output_type": "execute_result"
    }
   ],
   "source": [
    "y_train_pred_final['final_predicted'] = y_train_pred_final.Conversion_Prob.map( lambda x: 1 if x > 0.34 else 0)\n",
    "\n",
    "y_train_pred_final.head()"
   ]
  },
  {
   "cell_type": "code",
   "execution_count": 143,
   "id": "71d769ac",
   "metadata": {},
   "outputs": [
    {
     "data": {
      "text/plain": [
       "0.7985466914038343"
      ]
     },
     "execution_count": 143,
     "metadata": {},
     "output_type": "execute_result"
    }
   ],
   "source": [
    "# Let's check the overall accuracy.\n",
    "metrics.accuracy_score(y_train_pred_final.Converted, y_train_pred_final.final_predicted)"
   ]
  },
  {
   "cell_type": "code",
   "execution_count": 144,
   "id": "e0f2f88d",
   "metadata": {},
   "outputs": [
    {
     "data": {
      "text/plain": [
       "array([[3183,  819],\n",
       "       [ 484, 1982]])"
      ]
     },
     "execution_count": 144,
     "metadata": {},
     "output_type": "execute_result"
    }
   ],
   "source": [
    "confusion2 = metrics.confusion_matrix(y_train_pred_final.Converted, y_train_pred_final.final_predicted )\n",
    "confusion2"
   ]
  },
  {
   "cell_type": "code",
   "execution_count": 145,
   "id": "ea0bde37",
   "metadata": {},
   "outputs": [],
   "source": [
    "TP = confusion2[1,1] # true positive \n",
    "TN = confusion2[0,0] # true negatives\n",
    "FP = confusion2[0,1] # false positives\n",
    "FN = confusion2[1,0] # false negatives"
   ]
  },
  {
   "cell_type": "code",
   "execution_count": 146,
   "id": "fa4ca228",
   "metadata": {},
   "outputs": [
    {
     "data": {
      "text/plain": [
       "0.8037307380373074"
      ]
     },
     "execution_count": 146,
     "metadata": {},
     "output_type": "execute_result"
    }
   ],
   "source": [
    "# Let's see the sensitivity of our logistic regression model\n",
    "TP / float(TP+FN)"
   ]
  },
  {
   "cell_type": "code",
   "execution_count": 147,
   "id": "995ee44c",
   "metadata": {},
   "outputs": [
    {
     "data": {
      "text/plain": [
       "0.795352323838081"
      ]
     },
     "execution_count": 147,
     "metadata": {},
     "output_type": "execute_result"
    }
   ],
   "source": [
    "# Let us calculate specificity\n",
    "TN / float(TN+FP)"
   ]
  },
  {
   "cell_type": "code",
   "execution_count": 148,
   "id": "fafe0246",
   "metadata": {},
   "outputs": [
    {
     "name": "stdout",
     "output_type": "stream",
     "text": [
      "0.20464767616191903\n"
     ]
    }
   ],
   "source": [
    "# Calculate false postive rate - predicting churn when customer does not have churned\n",
    "print(FP/ float(TN+FP))"
   ]
  },
  {
   "cell_type": "code",
   "execution_count": 149,
   "id": "afe95956",
   "metadata": {},
   "outputs": [
    {
     "name": "stdout",
     "output_type": "stream",
     "text": [
      "0.7076044269903606\n"
     ]
    }
   ],
   "source": [
    "# Positive predictive value \n",
    "print (TP / float(TP+FP))"
   ]
  },
  {
   "cell_type": "code",
   "execution_count": 150,
   "id": "3e0c2d02",
   "metadata": {},
   "outputs": [
    {
     "name": "stdout",
     "output_type": "stream",
     "text": [
      "0.8680119989091901\n"
     ]
    }
   ],
   "source": [
    "# Negative predictive value\n",
    "print (TN / float(TN+ FN))"
   ]
  },
  {
   "cell_type": "markdown",
   "id": "354367a7",
   "metadata": {},
   "source": [
    "### Precision and Recall\n"
   ]
  },
  {
   "cell_type": "code",
   "execution_count": 151,
   "id": "7417b3e9",
   "metadata": {},
   "outputs": [
    {
     "data": {
      "text/plain": [
       "array([[3514,  488],\n",
       "       [ 785, 1681]])"
      ]
     },
     "execution_count": 151,
     "metadata": {},
     "output_type": "execute_result"
    }
   ],
   "source": [
    "confusion = metrics.confusion_matrix(y_train_pred_final.Converted, y_train_pred_final.predicted )\n",
    "confusion"
   ]
  },
  {
   "cell_type": "markdown",
   "id": "4ec26c86",
   "metadata": {},
   "source": [
    "##### Precision\n",
    "TP / TP + FP"
   ]
  },
  {
   "cell_type": "code",
   "execution_count": 152,
   "id": "bc10fe2a",
   "metadata": {},
   "outputs": [
    {
     "data": {
      "text/plain": [
       "0.7750115260488705"
      ]
     },
     "execution_count": 152,
     "metadata": {},
     "output_type": "execute_result"
    }
   ],
   "source": [
    "confusion[1,1]/(confusion[0,1]+confusion[1,1])"
   ]
  },
  {
   "cell_type": "markdown",
   "id": "0eb210bf",
   "metadata": {},
   "source": [
    "##### Recall\n",
    "TP / TP + FN"
   ]
  },
  {
   "cell_type": "code",
   "execution_count": 153,
   "id": "cbfc0f03",
   "metadata": {},
   "outputs": [
    {
     "data": {
      "text/plain": [
       "0.6816707218167072"
      ]
     },
     "execution_count": 153,
     "metadata": {},
     "output_type": "execute_result"
    }
   ],
   "source": [
    "confusion[1,1]/(confusion[1,0]+confusion[1,1])"
   ]
  },
  {
   "cell_type": "markdown",
   "id": "a32b6b4b",
   "metadata": {},
   "source": [
    "### Precision and recall tradeoff"
   ]
  },
  {
   "cell_type": "code",
   "execution_count": 154,
   "id": "1185207e",
   "metadata": {},
   "outputs": [],
   "source": [
    "from sklearn.metrics import precision_recall_curve"
   ]
  },
  {
   "cell_type": "code",
   "execution_count": null,
   "id": "7889088a",
   "metadata": {},
   "outputs": [],
   "source": []
  },
  {
   "cell_type": "code",
   "execution_count": 155,
   "id": "9fc7d537",
   "metadata": {},
   "outputs": [
    {
     "data": {
      "text/plain": [
       "(0       0\n",
       " 1       0\n",
       " 2       0\n",
       " 3       0\n",
       " 4       0\n",
       "        ..\n",
       " 6463    1\n",
       " 6464    1\n",
       " 6465    1\n",
       " 6466    0\n",
       " 6467    0\n",
       " Name: Converted, Length: 6468, dtype: int64,\n",
       " 0       0\n",
       " 1       0\n",
       " 2       0\n",
       " 3       1\n",
       " 4       0\n",
       "        ..\n",
       " 6463    1\n",
       " 6464    1\n",
       " 6465    0\n",
       " 6466    0\n",
       " 6467    0\n",
       " Name: predicted, Length: 6468, dtype: int64)"
      ]
     },
     "execution_count": 155,
     "metadata": {},
     "output_type": "execute_result"
    }
   ],
   "source": [
    "y_train_pred_final.Converted, y_train_pred_final.predicted"
   ]
  },
  {
   "cell_type": "code",
   "execution_count": 156,
   "id": "f1b7fd44",
   "metadata": {},
   "outputs": [],
   "source": [
    "p, r, thresholds = precision_recall_curve(y_train_pred_final.Converted, y_train_pred_final.Conversion_Prob)"
   ]
  },
  {
   "cell_type": "code",
   "execution_count": 157,
   "id": "8ff76790",
   "metadata": {},
   "outputs": [
    {
     "data": {
      "image/png": "[encoded data removed]",
      "text/plain": [
       "<Figure size 432x288 with 1 Axes>"
      ]
     },
     "metadata": {
      "needs_background": "light"
     },
     "output_type": "display_data"
    }
   ],
   "source": [
    "plt.plot(thresholds, p[:-1], \"g-\")\n",
    "plt.plot(thresholds, r[:-1], \"r-\")\n",
    "plt.show()"
   ]
  },
  {
   "cell_type": "code",
   "execution_count": 158,
   "id": "51c9083f",
   "metadata": {},
   "outputs": [
    {
     "data": {
      "text/plain": [
       "Index(['Page Views Per Visit', 'TotalVisits', 'Total Time Spent on Website',\n",
       "       'Do Not Email', 'Last Activity_Olark Chat Conversation',\n",
       "       'Last Activity_Others', 'Last Activity_Page Visited on Website',\n",
       "       'Lead Source_Google', 'Lead Source_Olark Chat',\n",
       "       'Lead Origin_Lead Add Form', 'Last Notable Activity_Modified',\n",
       "       'Last Notable Activity_Others', 'Last Notable Activity_SMS Sent'],\n",
       "      dtype='object')"
      ]
     },
     "execution_count": 158,
     "metadata": {},
     "output_type": "execute_result"
    }
   ],
   "source": [
    "col6"
   ]
  },
  {
   "cell_type": "markdown",
   "id": "0e1888d4",
   "metadata": {},
   "source": [
    "## 10. Making predictions on the test set"
   ]
  },
  {
   "cell_type": "code",
   "execution_count": 159,
   "id": "50ac066c",
   "metadata": {},
   "outputs": [
    {
     "data": {
      "text/html": [
       "<div>\n",
       "<style scoped>\n",
       "    .dataframe tbody tr th:only-of-type {\n",
       "        vertical-align: middle;\n",
       "    }\n",
       "\n",
       "    .dataframe tbody tr th {\n",
       "        vertical-align: top;\n",
       "    }\n",
       "\n",
       "    .dataframe thead th {\n",
       "        text-align: right;\n",
       "    }\n",
       "</style>\n",
       "<table border=\"1\" class=\"dataframe\">\n",
       "  <thead>\n",
       "    <tr style=\"text-align: right;\">\n",
       "      <th></th>\n",
       "      <th>Page Views Per Visit</th>\n",
       "      <th>TotalVisits</th>\n",
       "      <th>Total Time Spent on Website</th>\n",
       "      <th>Do Not Email</th>\n",
       "      <th>Last Activity_Olark Chat Conversation</th>\n",
       "      <th>Last Activity_Others</th>\n",
       "      <th>Last Activity_Page Visited on Website</th>\n",
       "      <th>Lead Source_Google</th>\n",
       "      <th>Lead Source_Olark Chat</th>\n",
       "      <th>Lead Origin_Lead Add Form</th>\n",
       "      <th>Last Notable Activity_Modified</th>\n",
       "      <th>Last Notable Activity_Others</th>\n",
       "      <th>Last Notable Activity_SMS Sent</th>\n",
       "    </tr>\n",
       "  </thead>\n",
       "  <tbody>\n",
       "    <tr>\n",
       "      <th>4269</th>\n",
       "      <td>1.000000</td>\n",
       "      <td>0.727273</td>\n",
       "      <td>0.444982</td>\n",
       "      <td>0</td>\n",
       "      <td>0</td>\n",
       "      <td>0</td>\n",
       "      <td>0</td>\n",
       "      <td>0</td>\n",
       "      <td>0</td>\n",
       "      <td>0</td>\n",
       "      <td>0</td>\n",
       "      <td>0</td>\n",
       "      <td>1</td>\n",
       "    </tr>\n",
       "    <tr>\n",
       "      <th>2376</th>\n",
       "      <td>0.000000</td>\n",
       "      <td>0.000000</td>\n",
       "      <td>0.000000</td>\n",
       "      <td>0</td>\n",
       "      <td>0</td>\n",
       "      <td>0</td>\n",
       "      <td>0</td>\n",
       "      <td>0</td>\n",
       "      <td>0</td>\n",
       "      <td>1</td>\n",
       "      <td>0</td>\n",
       "      <td>0</td>\n",
       "      <td>1</td>\n",
       "    </tr>\n",
       "    <tr>\n",
       "      <th>7766</th>\n",
       "      <td>0.833333</td>\n",
       "      <td>0.454545</td>\n",
       "      <td>0.025968</td>\n",
       "      <td>0</td>\n",
       "      <td>0</td>\n",
       "      <td>1</td>\n",
       "      <td>0</td>\n",
       "      <td>1</td>\n",
       "      <td>0</td>\n",
       "      <td>0</td>\n",
       "      <td>0</td>\n",
       "      <td>1</td>\n",
       "      <td>0</td>\n",
       "    </tr>\n",
       "    <tr>\n",
       "      <th>9199</th>\n",
       "      <td>0.000000</td>\n",
       "      <td>0.000000</td>\n",
       "      <td>0.000000</td>\n",
       "      <td>0</td>\n",
       "      <td>1</td>\n",
       "      <td>0</td>\n",
       "      <td>0</td>\n",
       "      <td>0</td>\n",
       "      <td>1</td>\n",
       "      <td>0</td>\n",
       "      <td>1</td>\n",
       "      <td>0</td>\n",
       "      <td>0</td>\n",
       "    </tr>\n",
       "    <tr>\n",
       "      <th>4359</th>\n",
       "      <td>0.000000</td>\n",
       "      <td>0.000000</td>\n",
       "      <td>0.000000</td>\n",
       "      <td>0</td>\n",
       "      <td>0</td>\n",
       "      <td>0</td>\n",
       "      <td>0</td>\n",
       "      <td>0</td>\n",
       "      <td>0</td>\n",
       "      <td>1</td>\n",
       "      <td>0</td>\n",
       "      <td>0</td>\n",
       "      <td>0</td>\n",
       "    </tr>\n",
       "  </tbody>\n",
       "</table>\n",
       "</div>"
      ],
      "text/plain": [
       "      Page Views Per Visit  TotalVisits  Total Time Spent on Website  \\\n",
       "4269              1.000000     0.727273                     0.444982   \n",
       "2376              0.000000     0.000000                     0.000000   \n",
       "7766              0.833333     0.454545                     0.025968   \n",
       "9199              0.000000     0.000000                     0.000000   \n",
       "4359              0.000000     0.000000                     0.000000   \n",
       "\n",
       "      Do Not Email  Last Activity_Olark Chat Conversation  \\\n",
       "4269             0                                      0   \n",
       "2376             0                                      0   \n",
       "7766             0                                      0   \n",
       "9199             0                                      1   \n",
       "4359             0                                      0   \n",
       "\n",
       "      Last Activity_Others  Last Activity_Page Visited on Website  \\\n",
       "4269                     0                                      0   \n",
       "2376                     0                                      0   \n",
       "7766                     1                                      0   \n",
       "9199                     0                                      0   \n",
       "4359                     0                                      0   \n",
       "\n",
       "      Lead Source_Google  Lead Source_Olark Chat  Lead Origin_Lead Add Form  \\\n",
       "4269                   0                       0                          0   \n",
       "2376                   0                       0                          1   \n",
       "7766                   1                       0                          0   \n",
       "9199                   0                       1                          0   \n",
       "4359                   0                       0                          1   \n",
       "\n",
       "      Last Notable Activity_Modified  Last Notable Activity_Others  \\\n",
       "4269                               0                             0   \n",
       "2376                               0                             0   \n",
       "7766                               0                             1   \n",
       "9199                               1                             0   \n",
       "4359                               0                             0   \n",
       "\n",
       "      Last Notable Activity_SMS Sent  \n",
       "4269                               1  \n",
       "2376                               1  \n",
       "7766                               0  \n",
       "9199                               0  \n",
       "4359                               0  "
      ]
     },
     "execution_count": 159,
     "metadata": {},
     "output_type": "execute_result"
    }
   ],
   "source": [
    "X_test = X_test[col6]\n",
    "X_test.head()"
   ]
  },
  {
   "cell_type": "code",
   "execution_count": 160,
   "id": "05b842d6",
   "metadata": {},
   "outputs": [],
   "source": [
    "X_test_sm = sm.add_constant(X_test)"
   ]
  },
  {
   "cell_type": "markdown",
   "id": "b78a08ff",
   "metadata": {},
   "source": [
    "### Making Predictions"
   ]
  },
  {
   "cell_type": "code",
   "execution_count": 161,
   "id": "b9642007",
   "metadata": {},
   "outputs": [],
   "source": [
    "y_test_pred = res.predict(X_test_sm)"
   ]
  },
  {
   "cell_type": "code",
   "execution_count": 162,
   "id": "ae41a2e5",
   "metadata": {},
   "outputs": [
    {
     "data": {
      "text/plain": [
       "4269    0.773229\n",
       "2376    0.966857\n",
       "7766    0.124354\n",
       "9199    0.054882\n",
       "4359    0.880588\n",
       "9186    0.620849\n",
       "1631    0.490463\n",
       "8963    0.227053\n",
       "8007    0.098234\n",
       "5324    0.423805\n",
       "dtype: float64"
      ]
     },
     "execution_count": 162,
     "metadata": {},
     "output_type": "execute_result"
    }
   ],
   "source": [
    "y_test_pred[:10]"
   ]
  },
  {
   "cell_type": "code",
   "execution_count": 163,
   "id": "a579ae4e",
   "metadata": {},
   "outputs": [],
   "source": [
    "# Converting y_pred to a dataframe which is an array\n",
    "y_pred_1 = pd.DataFrame(y_test_pred)"
   ]
  },
  {
   "cell_type": "code",
   "execution_count": 164,
   "id": "ade97ed5",
   "metadata": {},
   "outputs": [
    {
     "data": {
      "text/html": [
       "<div>\n",
       "<style scoped>\n",
       "    .dataframe tbody tr th:only-of-type {\n",
       "        vertical-align: middle;\n",
       "    }\n",
       "\n",
       "    .dataframe tbody tr th {\n",
       "        vertical-align: top;\n",
       "    }\n",
       "\n",
       "    .dataframe thead th {\n",
       "        text-align: right;\n",
       "    }\n",
       "</style>\n",
       "<table border=\"1\" class=\"dataframe\">\n",
       "  <thead>\n",
       "    <tr style=\"text-align: right;\">\n",
       "      <th></th>\n",
       "      <th>0</th>\n",
       "    </tr>\n",
       "  </thead>\n",
       "  <tbody>\n",
       "    <tr>\n",
       "      <th>4269</th>\n",
       "      <td>0.773229</td>\n",
       "    </tr>\n",
       "    <tr>\n",
       "      <th>2376</th>\n",
       "      <td>0.966857</td>\n",
       "    </tr>\n",
       "    <tr>\n",
       "      <th>7766</th>\n",
       "      <td>0.124354</td>\n",
       "    </tr>\n",
       "    <tr>\n",
       "      <th>9199</th>\n",
       "      <td>0.054882</td>\n",
       "    </tr>\n",
       "    <tr>\n",
       "      <th>4359</th>\n",
       "      <td>0.880588</td>\n",
       "    </tr>\n",
       "  </tbody>\n",
       "</table>\n",
       "</div>"
      ],
      "text/plain": [
       "             0\n",
       "4269  0.773229\n",
       "2376  0.966857\n",
       "7766  0.124354\n",
       "9199  0.054882\n",
       "4359  0.880588"
      ]
     },
     "execution_count": 164,
     "metadata": {},
     "output_type": "execute_result"
    }
   ],
   "source": [
    "# Let's see the head\n",
    "y_pred_1.head()"
   ]
  },
  {
   "cell_type": "code",
   "execution_count": 165,
   "id": "55d9464d",
   "metadata": {},
   "outputs": [],
   "source": [
    "# Converting y_test to dataframe\n",
    "y_test_df = pd.DataFrame(y_test)"
   ]
  },
  {
   "cell_type": "code",
   "execution_count": 166,
   "id": "451f5014",
   "metadata": {},
   "outputs": [],
   "source": [
    "# Putting CustID to index\n",
    "y_test_df['LeadID'] = y_test_df.index"
   ]
  },
  {
   "cell_type": "code",
   "execution_count": 167,
   "id": "a02869f5",
   "metadata": {},
   "outputs": [],
   "source": [
    "# Removing index for both dataframes to append them side by side \n",
    "y_pred_1.reset_index(drop=True, inplace=True)\n",
    "y_test_df.reset_index(drop=True, inplace=True)"
   ]
  },
  {
   "cell_type": "code",
   "execution_count": 168,
   "id": "db7efad1",
   "metadata": {},
   "outputs": [],
   "source": [
    "# Appending y_test_df and y_pred_1\n",
    "y_pred_final = pd.concat([y_test_df, y_pred_1],axis=1)"
   ]
  },
  {
   "cell_type": "code",
   "execution_count": 169,
   "id": "fd860c11",
   "metadata": {},
   "outputs": [
    {
     "data": {
      "text/html": [
       "<div>\n",
       "<style scoped>\n",
       "    .dataframe tbody tr th:only-of-type {\n",
       "        vertical-align: middle;\n",
       "    }\n",
       "\n",
       "    .dataframe tbody tr th {\n",
       "        vertical-align: top;\n",
       "    }\n",
       "\n",
       "    .dataframe thead th {\n",
       "        text-align: right;\n",
       "    }\n",
       "</style>\n",
       "<table border=\"1\" class=\"dataframe\">\n",
       "  <thead>\n",
       "    <tr style=\"text-align: right;\">\n",
       "      <th></th>\n",
       "      <th>Converted</th>\n",
       "      <th>LeadID</th>\n",
       "      <th>0</th>\n",
       "    </tr>\n",
       "  </thead>\n",
       "  <tbody>\n",
       "    <tr>\n",
       "      <th>0</th>\n",
       "      <td>1</td>\n",
       "      <td>4269</td>\n",
       "      <td>0.773229</td>\n",
       "    </tr>\n",
       "    <tr>\n",
       "      <th>1</th>\n",
       "      <td>1</td>\n",
       "      <td>2376</td>\n",
       "      <td>0.966857</td>\n",
       "    </tr>\n",
       "    <tr>\n",
       "      <th>2</th>\n",
       "      <td>1</td>\n",
       "      <td>7766</td>\n",
       "      <td>0.124354</td>\n",
       "    </tr>\n",
       "    <tr>\n",
       "      <th>3</th>\n",
       "      <td>0</td>\n",
       "      <td>9199</td>\n",
       "      <td>0.054882</td>\n",
       "    </tr>\n",
       "    <tr>\n",
       "      <th>4</th>\n",
       "      <td>1</td>\n",
       "      <td>4359</td>\n",
       "      <td>0.880588</td>\n",
       "    </tr>\n",
       "  </tbody>\n",
       "</table>\n",
       "</div>"
      ],
      "text/plain": [
       "   Converted  LeadID         0\n",
       "0          1    4269  0.773229\n",
       "1          1    2376  0.966857\n",
       "2          1    7766  0.124354\n",
       "3          0    9199  0.054882\n",
       "4          1    4359  0.880588"
      ]
     },
     "execution_count": 169,
     "metadata": {},
     "output_type": "execute_result"
    }
   ],
   "source": [
    "y_pred_final.head()"
   ]
  },
  {
   "cell_type": "code",
   "execution_count": 170,
   "id": "1385533e",
   "metadata": {},
   "outputs": [],
   "source": [
    "# Renaming the column \n",
    "y_pred_final= y_pred_final.rename(columns={ 0 : 'Conversion_Prob'})"
   ]
  },
  {
   "cell_type": "code",
   "execution_count": 171,
   "id": "87237704",
   "metadata": {},
   "outputs": [],
   "source": [
    "# Rearranging the columns\n",
    "#y_pred_final = y_pred_final.reindex_axis(['CustID','Converted','Conversion_Prob'], axis=1)"
   ]
  },
  {
   "cell_type": "code",
   "execution_count": 172,
   "id": "22286f8a",
   "metadata": {},
   "outputs": [
    {
     "data": {
      "text/html": [
       "<div>\n",
       "<style scoped>\n",
       "    .dataframe tbody tr th:only-of-type {\n",
       "        vertical-align: middle;\n",
       "    }\n",
       "\n",
       "    .dataframe tbody tr th {\n",
       "        vertical-align: top;\n",
       "    }\n",
       "\n",
       "    .dataframe thead th {\n",
       "        text-align: right;\n",
       "    }\n",
       "</style>\n",
       "<table border=\"1\" class=\"dataframe\">\n",
       "  <thead>\n",
       "    <tr style=\"text-align: right;\">\n",
       "      <th></th>\n",
       "      <th>Converted</th>\n",
       "      <th>LeadID</th>\n",
       "      <th>Conversion_Prob</th>\n",
       "    </tr>\n",
       "  </thead>\n",
       "  <tbody>\n",
       "    <tr>\n",
       "      <th>0</th>\n",
       "      <td>1</td>\n",
       "      <td>4269</td>\n",
       "      <td>0.773229</td>\n",
       "    </tr>\n",
       "    <tr>\n",
       "      <th>1</th>\n",
       "      <td>1</td>\n",
       "      <td>2376</td>\n",
       "      <td>0.966857</td>\n",
       "    </tr>\n",
       "    <tr>\n",
       "      <th>2</th>\n",
       "      <td>1</td>\n",
       "      <td>7766</td>\n",
       "      <td>0.124354</td>\n",
       "    </tr>\n",
       "    <tr>\n",
       "      <th>3</th>\n",
       "      <td>0</td>\n",
       "      <td>9199</td>\n",
       "      <td>0.054882</td>\n",
       "    </tr>\n",
       "    <tr>\n",
       "      <th>4</th>\n",
       "      <td>1</td>\n",
       "      <td>4359</td>\n",
       "      <td>0.880588</td>\n",
       "    </tr>\n",
       "  </tbody>\n",
       "</table>\n",
       "</div>"
      ],
      "text/plain": [
       "   Converted  LeadID  Conversion_Prob\n",
       "0          1    4269         0.773229\n",
       "1          1    2376         0.966857\n",
       "2          1    7766         0.124354\n",
       "3          0    9199         0.054882\n",
       "4          1    4359         0.880588"
      ]
     },
     "execution_count": 172,
     "metadata": {},
     "output_type": "execute_result"
    }
   ],
   "source": [
    "# Let's see the head of y_pred_final\n",
    "y_pred_final.head()"
   ]
  },
  {
   "cell_type": "code",
   "execution_count": 173,
   "id": "4ddf2300",
   "metadata": {},
   "outputs": [],
   "source": [
    "y_pred_final['final_predicted'] = y_pred_final.Conversion_Prob.map(lambda x: 1 if x > 0.34 else 0)"
   ]
  },
  {
   "cell_type": "code",
   "execution_count": 174,
   "id": "67220952",
   "metadata": {},
   "outputs": [
    {
     "data": {
      "text/html": [
       "<div>\n",
       "<style scoped>\n",
       "    .dataframe tbody tr th:only-of-type {\n",
       "        vertical-align: middle;\n",
       "    }\n",
       "\n",
       "    .dataframe tbody tr th {\n",
       "        vertical-align: top;\n",
       "    }\n",
       "\n",
       "    .dataframe thead th {\n",
       "        text-align: right;\n",
       "    }\n",
       "</style>\n",
       "<table border=\"1\" class=\"dataframe\">\n",
       "  <thead>\n",
       "    <tr style=\"text-align: right;\">\n",
       "      <th></th>\n",
       "      <th>Converted</th>\n",
       "      <th>LeadID</th>\n",
       "      <th>Conversion_Prob</th>\n",
       "      <th>final_predicted</th>\n",
       "    </tr>\n",
       "  </thead>\n",
       "  <tbody>\n",
       "    <tr>\n",
       "      <th>0</th>\n",
       "      <td>1</td>\n",
       "      <td>4269</td>\n",
       "      <td>0.773229</td>\n",
       "      <td>1</td>\n",
       "    </tr>\n",
       "    <tr>\n",
       "      <th>1</th>\n",
       "      <td>1</td>\n",
       "      <td>2376</td>\n",
       "      <td>0.966857</td>\n",
       "      <td>1</td>\n",
       "    </tr>\n",
       "    <tr>\n",
       "      <th>2</th>\n",
       "      <td>1</td>\n",
       "      <td>7766</td>\n",
       "      <td>0.124354</td>\n",
       "      <td>0</td>\n",
       "    </tr>\n",
       "    <tr>\n",
       "      <th>3</th>\n",
       "      <td>0</td>\n",
       "      <td>9199</td>\n",
       "      <td>0.054882</td>\n",
       "      <td>0</td>\n",
       "    </tr>\n",
       "    <tr>\n",
       "      <th>4</th>\n",
       "      <td>1</td>\n",
       "      <td>4359</td>\n",
       "      <td>0.880588</td>\n",
       "      <td>1</td>\n",
       "    </tr>\n",
       "  </tbody>\n",
       "</table>\n",
       "</div>"
      ],
      "text/plain": [
       "   Converted  LeadID  Conversion_Prob  final_predicted\n",
       "0          1    4269         0.773229                1\n",
       "1          1    2376         0.966857                1\n",
       "2          1    7766         0.124354                0\n",
       "3          0    9199         0.054882                0\n",
       "4          1    4359         0.880588                1"
      ]
     },
     "execution_count": 174,
     "metadata": {},
     "output_type": "execute_result"
    }
   ],
   "source": [
    "y_pred_final.head()"
   ]
  },
  {
   "cell_type": "markdown",
   "id": "34fa3e0f",
   "metadata": {},
   "source": [
    "## 11. Evaluation"
   ]
  },
  {
   "cell_type": "code",
   "execution_count": 175,
   "id": "34b6dc34",
   "metadata": {},
   "outputs": [
    {
     "data": {
      "text/plain": [
       "1    877\n",
       "0    218\n",
       "Name: final_predicted, dtype: int64"
      ]
     },
     "execution_count": 175,
     "metadata": {},
     "output_type": "execute_result"
    }
   ],
   "source": [
    "checking_test_df = y_pred_final.loc[y_pred_final['Converted']==1,['Converted','final_predicted']]\n",
    "CT=checking_test_df['final_predicted'].value_counts()\n",
    "CT"
   ]
  },
  {
   "cell_type": "code",
   "execution_count": 176,
   "id": "ddc633ea",
   "metadata": {},
   "outputs": [
    {
     "data": {
      "text/plain": [
       "0.8009132420091324"
      ]
     },
     "execution_count": 176,
     "metadata": {},
     "output_type": "execute_result"
    }
   ],
   "source": [
    "CT[1]/(CT[1]+CT[0])"
   ]
  },
  {
   "cell_type": "markdown",
   "id": "35e1ddbc",
   "metadata": {},
   "source": [
    "### Conversion Rate - 80%"
   ]
  },
  {
   "cell_type": "code",
   "execution_count": 177,
   "id": "109e79d2",
   "metadata": {},
   "outputs": [
    {
     "data": {
      "text/plain": [
       "0.7997835497835498"
      ]
     },
     "execution_count": 177,
     "metadata": {},
     "output_type": "execute_result"
    }
   ],
   "source": [
    "# Let's check the overall accuracy.\n",
    "metrics.accuracy_score(y_pred_final.Converted, y_pred_final.final_predicted)"
   ]
  },
  {
   "cell_type": "code",
   "execution_count": 178,
   "id": "6b8b527c",
   "metadata": {},
   "outputs": [
    {
     "data": {
      "text/plain": [
       "array([[1340,  337],\n",
       "       [ 218,  877]])"
      ]
     },
     "execution_count": 178,
     "metadata": {},
     "output_type": "execute_result"
    }
   ],
   "source": [
    "confusion2 = metrics.confusion_matrix(y_pred_final.Converted, y_pred_final.final_predicted )\n",
    "confusion2"
   ]
  },
  {
   "cell_type": "code",
   "execution_count": 179,
   "id": "ee1c4b4d",
   "metadata": {},
   "outputs": [],
   "source": [
    "TP = confusion2[1,1] # true positive \n",
    "TN = confusion2[0,0] # true negatives\n",
    "FP = confusion2[0,1] # false positives\n",
    "FN = confusion2[1,0] # false negatives"
   ]
  },
  {
   "cell_type": "code",
   "execution_count": 180,
   "id": "31cec2ff",
   "metadata": {},
   "outputs": [
    {
     "data": {
      "text/plain": [
       "0.8009132420091324"
      ]
     },
     "execution_count": 180,
     "metadata": {},
     "output_type": "execute_result"
    }
   ],
   "source": [
    "# Let's see the sensitivity of our logistic regression model\n",
    "TP / float(TP+FN)"
   ]
  },
  {
   "cell_type": "code",
   "execution_count": 181,
   "id": "0317458c",
   "metadata": {},
   "outputs": [
    {
     "data": {
      "text/plain": [
       "0.7990459153249851"
      ]
     },
     "execution_count": 181,
     "metadata": {},
     "output_type": "execute_result"
    }
   ],
   "source": [
    "# Let us calculate specificity\n",
    "TN / float(TN+FP)"
   ]
  },
  {
   "cell_type": "code",
   "execution_count": 182,
   "id": "3d0cc87c",
   "metadata": {},
   "outputs": [
    {
     "name": "stdout",
     "output_type": "stream",
     "text": [
      "precision  0.7224052718286655\n",
      "recall  0.8009132420091324\n"
     ]
    }
   ],
   "source": [
    "from sklearn.metrics import precision_score, recall_score\n",
    "# precision\n",
    "print('precision ',precision_score(y_pred_final.Converted, y_pred_final.final_predicted))\n",
    "\n",
    "# recall\n",
    "print('recall ',recall_score(y_pred_final.Converted, y_pred_final.final_predicted))"
   ]
  },
  {
   "cell_type": "code",
   "execution_count": 183,
   "id": "53e9ae40",
   "metadata": {},
   "outputs": [
    {
     "data": {
      "image/png": "[encoded data removed]",
      "text/plain": [
       "<Figure size 432x288 with 1 Axes>"
      ]
     },
     "metadata": {
      "needs_background": "light"
     },
     "output_type": "display_data"
    }
   ],
   "source": [
    "from sklearn.metrics import precision_recall_curve\n",
    "p, r, thresholds = precision_recall_curve(y_train_pred_final.Converted, y_train_pred_final.Conversion_Prob)\n",
    "plt.plot(thresholds, p[:-1], \"g-\")\n",
    "plt.plot(thresholds, r[:-1], \"r-\")\n",
    "plt.show()"
   ]
  },
  {
   "cell_type": "code",
   "execution_count": 184,
   "id": "eff0cd2f",
   "metadata": {},
   "outputs": [
    {
     "data": {
      "text/plain": [
       "Index(['Page Views Per Visit', 'TotalVisits', 'Total Time Spent on Website',\n",
       "       'Do Not Email', 'Last Activity_Olark Chat Conversation',\n",
       "       'Last Activity_Others', 'Last Activity_Page Visited on Website',\n",
       "       'Lead Source_Google', 'Lead Source_Olark Chat',\n",
       "       'Lead Origin_Lead Add Form', 'Last Notable Activity_Modified',\n",
       "       'Last Notable Activity_Others', 'Last Notable Activity_SMS Sent'],\n",
       "      dtype='object')"
      ]
     },
     "execution_count": 184,
     "metadata": {},
     "output_type": "execute_result"
    }
   ],
   "source": [
    "col6"
   ]
  },
  {
   "cell_type": "markdown",
   "id": "19be33f7",
   "metadata": {},
   "source": [
    "## Conclusion :\n",
    "\n",
    "- While we have checked both Sensitivity-Specificity as well as Precision and Recall Metrics, we have considered the optimal cut off based on Sensitivity and Specificity for calculating the final prediction.\n",
    "- Accuracy, Sensitivity and Specificity values of test set are around 80%, 80% and 80% which are approximately closer to the respective values calculated using trained set.\n",
    "- Also the lead score calculated in the trained set of data shows the conversion rate on the final predicted model is around 80%\n",
    "- Hence overall this model seems to be good.  "
   ]
  }
 ],
 "metadata": {
  "kernelspec": {
   "display_name": "Python 3 (ipykernel)",
   "language": "python",
   "name": "python3"
  },
  "language_info": {
   "codemirror_mode": {
    "name": "ipython",
    "version": 3
   },
   "file_extension": ".py",
   "mimetype": "text/x-python",
   "name": "python",
   "nbconvert_exporter": "python",
   "pygments_lexer": "ipython3",
   "version": "3.9.12"
  }
 },
 "nbformat": 4,
 "nbformat_minor": 5
}
